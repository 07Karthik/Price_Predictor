{
  "nbformat": 4,
  "nbformat_minor": 0,
  "metadata": {
    "colab": {
      "provenance": []
    },
    "kernelspec": {
      "name": "python3",
      "display_name": "Python 3"
    },
    "language_info": {
      "name": "python"
    }
  },
  "cells": [
    {
      "cell_type": "code",
      "source": [
        "# !mkdir -p ~/.kaggle\n",
        "# !mv kaggle.json ~/.kaggle/\n"
      ],
      "metadata": {
        "id": "_iOChhHWtG8t"
      },
      "execution_count": 639,
      "outputs": []
    },
    {
      "cell_type": "code",
      "source": [
        "# copy api command and paste it by clicking three dot's in kaggle dataset\n",
        "# !kaggle datasets download -d manishkc06/mobile-price-prediction\n",
        "# !unzip mobile-price-prediction.zip"
      ],
      "metadata": {
        "id": "0YmvfwYBtVke"
      },
      "execution_count": 640,
      "outputs": []
    },
    {
      "cell_type": "code",
      "source": [
        "import pandas as pd\n",
        "import numpy as np\n",
        "import matplotlib.pyplot as plt\n",
        "import seaborn as sns"
      ],
      "metadata": {
        "id": "ba2mSO1SumHS"
      },
      "execution_count": 641,
      "outputs": []
    },
    {
      "cell_type": "code",
      "source": [
        "df = pd.read_csv('/content/mobile_price_data.csv')"
      ],
      "metadata": {
        "id": "yCb2WbZiu4PW"
      },
      "execution_count": 642,
      "outputs": []
    },
    {
      "cell_type": "code",
      "source": [
        "df.head(1)"
      ],
      "metadata": {
        "id": "03PIXrc2u8DD",
        "colab": {
          "base_uri": "https://localhost:8080/",
          "height": 170
        },
        "outputId": "03f8b472-1556-4927-ca5f-f4e6a9d451af"
      },
      "execution_count": 643,
      "outputs": [
        {
          "output_type": "execute_result",
          "data": {
            "text/plain": [
              "                          mobile_name mobile_price mobile_color  dual_sim  \\\n",
              "0  Realme Narzo 10A (So White, 32 GB)       ₹8,999     So White  Dual Sim   \n",
              "\n",
              "              disp_size         resolution          os  num_cores mp_speed  \\\n",
              "0  16.56 cm (6.52 inch)  1600 x 720 Pixels  Android 10  Octa Core    2 GHz   \n",
              "\n",
              "  int_memory   ram             p_cam             f_cam               network  \\\n",
              "0      32 GB  3 GB  12MP + 2MP + 2MP  5MP Front Camera  4G VOLTE, 4G, 3G, 2G   \n",
              "\n",
              "  bluetooth battery_power mob_width mob_height mob_depth mob_weight  \n",
              "0       Yes      5000 mAh     75 mm   164.4 mm   8.95 mm      195 g  "
            ],
            "text/html": [
              "\n",
              "  <div id=\"df-6855a67f-cd39-4dee-9174-2a57d8072926\" class=\"colab-df-container\">\n",
              "    <div>\n",
              "<style scoped>\n",
              "    .dataframe tbody tr th:only-of-type {\n",
              "        vertical-align: middle;\n",
              "    }\n",
              "\n",
              "    .dataframe tbody tr th {\n",
              "        vertical-align: top;\n",
              "    }\n",
              "\n",
              "    .dataframe thead th {\n",
              "        text-align: right;\n",
              "    }\n",
              "</style>\n",
              "<table border=\"1\" class=\"dataframe\">\n",
              "  <thead>\n",
              "    <tr style=\"text-align: right;\">\n",
              "      <th></th>\n",
              "      <th>mobile_name</th>\n",
              "      <th>mobile_price</th>\n",
              "      <th>mobile_color</th>\n",
              "      <th>dual_sim</th>\n",
              "      <th>disp_size</th>\n",
              "      <th>resolution</th>\n",
              "      <th>os</th>\n",
              "      <th>num_cores</th>\n",
              "      <th>mp_speed</th>\n",
              "      <th>int_memory</th>\n",
              "      <th>ram</th>\n",
              "      <th>p_cam</th>\n",
              "      <th>f_cam</th>\n",
              "      <th>network</th>\n",
              "      <th>bluetooth</th>\n",
              "      <th>battery_power</th>\n",
              "      <th>mob_width</th>\n",
              "      <th>mob_height</th>\n",
              "      <th>mob_depth</th>\n",
              "      <th>mob_weight</th>\n",
              "    </tr>\n",
              "  </thead>\n",
              "  <tbody>\n",
              "    <tr>\n",
              "      <th>0</th>\n",
              "      <td>Realme Narzo 10A (So White, 32 GB)</td>\n",
              "      <td>₹8,999</td>\n",
              "      <td>So White</td>\n",
              "      <td>Dual Sim</td>\n",
              "      <td>16.56 cm (6.52 inch)</td>\n",
              "      <td>1600 x 720 Pixels</td>\n",
              "      <td>Android 10</td>\n",
              "      <td>Octa Core</td>\n",
              "      <td>2 GHz</td>\n",
              "      <td>32 GB</td>\n",
              "      <td>3 GB</td>\n",
              "      <td>12MP + 2MP + 2MP</td>\n",
              "      <td>5MP Front Camera</td>\n",
              "      <td>4G VOLTE, 4G, 3G, 2G</td>\n",
              "      <td>Yes</td>\n",
              "      <td>5000 mAh</td>\n",
              "      <td>75 mm</td>\n",
              "      <td>164.4 mm</td>\n",
              "      <td>8.95 mm</td>\n",
              "      <td>195 g</td>\n",
              "    </tr>\n",
              "  </tbody>\n",
              "</table>\n",
              "</div>\n",
              "    <div class=\"colab-df-buttons\">\n",
              "\n",
              "  <div class=\"colab-df-container\">\n",
              "    <button class=\"colab-df-convert\" onclick=\"convertToInteractive('df-6855a67f-cd39-4dee-9174-2a57d8072926')\"\n",
              "            title=\"Convert this dataframe to an interactive table.\"\n",
              "            style=\"display:none;\">\n",
              "\n",
              "  <svg xmlns=\"http://www.w3.org/2000/svg\" height=\"24px\" viewBox=\"0 -960 960 960\">\n",
              "    <path d=\"M120-120v-720h720v720H120Zm60-500h600v-160H180v160Zm220 220h160v-160H400v160Zm0 220h160v-160H400v160ZM180-400h160v-160H180v160Zm440 0h160v-160H620v160ZM180-180h160v-160H180v160Zm440 0h160v-160H620v160Z\"/>\n",
              "  </svg>\n",
              "    </button>\n",
              "\n",
              "  <style>\n",
              "    .colab-df-container {\n",
              "      display:flex;\n",
              "      gap: 12px;\n",
              "    }\n",
              "\n",
              "    .colab-df-convert {\n",
              "      background-color: #E8F0FE;\n",
              "      border: none;\n",
              "      border-radius: 50%;\n",
              "      cursor: pointer;\n",
              "      display: none;\n",
              "      fill: #1967D2;\n",
              "      height: 32px;\n",
              "      padding: 0 0 0 0;\n",
              "      width: 32px;\n",
              "    }\n",
              "\n",
              "    .colab-df-convert:hover {\n",
              "      background-color: #E2EBFA;\n",
              "      box-shadow: 0px 1px 2px rgba(60, 64, 67, 0.3), 0px 1px 3px 1px rgba(60, 64, 67, 0.15);\n",
              "      fill: #174EA6;\n",
              "    }\n",
              "\n",
              "    .colab-df-buttons div {\n",
              "      margin-bottom: 4px;\n",
              "    }\n",
              "\n",
              "    [theme=dark] .colab-df-convert {\n",
              "      background-color: #3B4455;\n",
              "      fill: #D2E3FC;\n",
              "    }\n",
              "\n",
              "    [theme=dark] .colab-df-convert:hover {\n",
              "      background-color: #434B5C;\n",
              "      box-shadow: 0px 1px 3px 1px rgba(0, 0, 0, 0.15);\n",
              "      filter: drop-shadow(0px 1px 2px rgba(0, 0, 0, 0.3));\n",
              "      fill: #FFFFFF;\n",
              "    }\n",
              "  </style>\n",
              "\n",
              "    <script>\n",
              "      const buttonEl =\n",
              "        document.querySelector('#df-6855a67f-cd39-4dee-9174-2a57d8072926 button.colab-df-convert');\n",
              "      buttonEl.style.display =\n",
              "        google.colab.kernel.accessAllowed ? 'block' : 'none';\n",
              "\n",
              "      async function convertToInteractive(key) {\n",
              "        const element = document.querySelector('#df-6855a67f-cd39-4dee-9174-2a57d8072926');\n",
              "        const dataTable =\n",
              "          await google.colab.kernel.invokeFunction('convertToInteractive',\n",
              "                                                    [key], {});\n",
              "        if (!dataTable) return;\n",
              "\n",
              "        const docLinkHtml = 'Like what you see? Visit the ' +\n",
              "          '<a target=\"_blank\" href=https://colab.research.google.com/notebooks/data_table.ipynb>data table notebook</a>'\n",
              "          + ' to learn more about interactive tables.';\n",
              "        element.innerHTML = '';\n",
              "        dataTable['output_type'] = 'display_data';\n",
              "        await google.colab.output.renderOutput(dataTable, element);\n",
              "        const docLink = document.createElement('div');\n",
              "        docLink.innerHTML = docLinkHtml;\n",
              "        element.appendChild(docLink);\n",
              "      }\n",
              "    </script>\n",
              "  </div>\n",
              "\n",
              "    </div>\n",
              "  </div>\n"
            ]
          },
          "metadata": {},
          "execution_count": 643
        }
      ]
    },
    {
      "cell_type": "code",
      "source": [
        "df.drop('mobile_name',axis=1,inplace=True)"
      ],
      "metadata": {
        "id": "-qPoYMR7u8wX"
      },
      "execution_count": 644,
      "outputs": []
    },
    {
      "cell_type": "code",
      "source": [
        "df.head(1)"
      ],
      "metadata": {
        "id": "6GrsR0W0xdHy",
        "colab": {
          "base_uri": "https://localhost:8080/",
          "height": 170
        },
        "outputId": "1c5d9710-f827-4a70-a4b8-3799ae78fc6e"
      },
      "execution_count": 645,
      "outputs": [
        {
          "output_type": "execute_result",
          "data": {
            "text/plain": [
              "  mobile_price mobile_color  dual_sim             disp_size  \\\n",
              "0       ₹8,999     So White  Dual Sim  16.56 cm (6.52 inch)   \n",
              "\n",
              "          resolution          os  num_cores mp_speed int_memory   ram  \\\n",
              "0  1600 x 720 Pixels  Android 10  Octa Core    2 GHz      32 GB  3 GB   \n",
              "\n",
              "              p_cam             f_cam               network bluetooth  \\\n",
              "0  12MP + 2MP + 2MP  5MP Front Camera  4G VOLTE, 4G, 3G, 2G       Yes   \n",
              "\n",
              "  battery_power mob_width mob_height mob_depth mob_weight  \n",
              "0      5000 mAh     75 mm   164.4 mm   8.95 mm      195 g  "
            ],
            "text/html": [
              "\n",
              "  <div id=\"df-3004a5ad-2fd0-40f2-9920-c691e3fb7e7e\" class=\"colab-df-container\">\n",
              "    <div>\n",
              "<style scoped>\n",
              "    .dataframe tbody tr th:only-of-type {\n",
              "        vertical-align: middle;\n",
              "    }\n",
              "\n",
              "    .dataframe tbody tr th {\n",
              "        vertical-align: top;\n",
              "    }\n",
              "\n",
              "    .dataframe thead th {\n",
              "        text-align: right;\n",
              "    }\n",
              "</style>\n",
              "<table border=\"1\" class=\"dataframe\">\n",
              "  <thead>\n",
              "    <tr style=\"text-align: right;\">\n",
              "      <th></th>\n",
              "      <th>mobile_price</th>\n",
              "      <th>mobile_color</th>\n",
              "      <th>dual_sim</th>\n",
              "      <th>disp_size</th>\n",
              "      <th>resolution</th>\n",
              "      <th>os</th>\n",
              "      <th>num_cores</th>\n",
              "      <th>mp_speed</th>\n",
              "      <th>int_memory</th>\n",
              "      <th>ram</th>\n",
              "      <th>p_cam</th>\n",
              "      <th>f_cam</th>\n",
              "      <th>network</th>\n",
              "      <th>bluetooth</th>\n",
              "      <th>battery_power</th>\n",
              "      <th>mob_width</th>\n",
              "      <th>mob_height</th>\n",
              "      <th>mob_depth</th>\n",
              "      <th>mob_weight</th>\n",
              "    </tr>\n",
              "  </thead>\n",
              "  <tbody>\n",
              "    <tr>\n",
              "      <th>0</th>\n",
              "      <td>₹8,999</td>\n",
              "      <td>So White</td>\n",
              "      <td>Dual Sim</td>\n",
              "      <td>16.56 cm (6.52 inch)</td>\n",
              "      <td>1600 x 720 Pixels</td>\n",
              "      <td>Android 10</td>\n",
              "      <td>Octa Core</td>\n",
              "      <td>2 GHz</td>\n",
              "      <td>32 GB</td>\n",
              "      <td>3 GB</td>\n",
              "      <td>12MP + 2MP + 2MP</td>\n",
              "      <td>5MP Front Camera</td>\n",
              "      <td>4G VOLTE, 4G, 3G, 2G</td>\n",
              "      <td>Yes</td>\n",
              "      <td>5000 mAh</td>\n",
              "      <td>75 mm</td>\n",
              "      <td>164.4 mm</td>\n",
              "      <td>8.95 mm</td>\n",
              "      <td>195 g</td>\n",
              "    </tr>\n",
              "  </tbody>\n",
              "</table>\n",
              "</div>\n",
              "    <div class=\"colab-df-buttons\">\n",
              "\n",
              "  <div class=\"colab-df-container\">\n",
              "    <button class=\"colab-df-convert\" onclick=\"convertToInteractive('df-3004a5ad-2fd0-40f2-9920-c691e3fb7e7e')\"\n",
              "            title=\"Convert this dataframe to an interactive table.\"\n",
              "            style=\"display:none;\">\n",
              "\n",
              "  <svg xmlns=\"http://www.w3.org/2000/svg\" height=\"24px\" viewBox=\"0 -960 960 960\">\n",
              "    <path d=\"M120-120v-720h720v720H120Zm60-500h600v-160H180v160Zm220 220h160v-160H400v160Zm0 220h160v-160H400v160ZM180-400h160v-160H180v160Zm440 0h160v-160H620v160ZM180-180h160v-160H180v160Zm440 0h160v-160H620v160Z\"/>\n",
              "  </svg>\n",
              "    </button>\n",
              "\n",
              "  <style>\n",
              "    .colab-df-container {\n",
              "      display:flex;\n",
              "      gap: 12px;\n",
              "    }\n",
              "\n",
              "    .colab-df-convert {\n",
              "      background-color: #E8F0FE;\n",
              "      border: none;\n",
              "      border-radius: 50%;\n",
              "      cursor: pointer;\n",
              "      display: none;\n",
              "      fill: #1967D2;\n",
              "      height: 32px;\n",
              "      padding: 0 0 0 0;\n",
              "      width: 32px;\n",
              "    }\n",
              "\n",
              "    .colab-df-convert:hover {\n",
              "      background-color: #E2EBFA;\n",
              "      box-shadow: 0px 1px 2px rgba(60, 64, 67, 0.3), 0px 1px 3px 1px rgba(60, 64, 67, 0.15);\n",
              "      fill: #174EA6;\n",
              "    }\n",
              "\n",
              "    .colab-df-buttons div {\n",
              "      margin-bottom: 4px;\n",
              "    }\n",
              "\n",
              "    [theme=dark] .colab-df-convert {\n",
              "      background-color: #3B4455;\n",
              "      fill: #D2E3FC;\n",
              "    }\n",
              "\n",
              "    [theme=dark] .colab-df-convert:hover {\n",
              "      background-color: #434B5C;\n",
              "      box-shadow: 0px 1px 3px 1px rgba(0, 0, 0, 0.15);\n",
              "      filter: drop-shadow(0px 1px 2px rgba(0, 0, 0, 0.3));\n",
              "      fill: #FFFFFF;\n",
              "    }\n",
              "  </style>\n",
              "\n",
              "    <script>\n",
              "      const buttonEl =\n",
              "        document.querySelector('#df-3004a5ad-2fd0-40f2-9920-c691e3fb7e7e button.colab-df-convert');\n",
              "      buttonEl.style.display =\n",
              "        google.colab.kernel.accessAllowed ? 'block' : 'none';\n",
              "\n",
              "      async function convertToInteractive(key) {\n",
              "        const element = document.querySelector('#df-3004a5ad-2fd0-40f2-9920-c691e3fb7e7e');\n",
              "        const dataTable =\n",
              "          await google.colab.kernel.invokeFunction('convertToInteractive',\n",
              "                                                    [key], {});\n",
              "        if (!dataTable) return;\n",
              "\n",
              "        const docLinkHtml = 'Like what you see? Visit the ' +\n",
              "          '<a target=\"_blank\" href=https://colab.research.google.com/notebooks/data_table.ipynb>data table notebook</a>'\n",
              "          + ' to learn more about interactive tables.';\n",
              "        element.innerHTML = '';\n",
              "        dataTable['output_type'] = 'display_data';\n",
              "        await google.colab.output.renderOutput(dataTable, element);\n",
              "        const docLink = document.createElement('div');\n",
              "        docLink.innerHTML = docLinkHtml;\n",
              "        element.appendChild(docLink);\n",
              "      }\n",
              "    </script>\n",
              "  </div>\n",
              "\n",
              "    </div>\n",
              "  </div>\n"
            ]
          },
          "metadata": {},
          "execution_count": 645
        }
      ]
    },
    {
      "cell_type": "code",
      "source": [
        "df[df.duplicated()].shape"
      ],
      "metadata": {
        "id": "KnqTAGqovdek",
        "colab": {
          "base_uri": "https://localhost:8080/"
        },
        "outputId": "8aa5d9ab-c9b2-416d-e82e-7b590dbdaf34"
      },
      "execution_count": 646,
      "outputs": [
        {
          "output_type": "execute_result",
          "data": {
            "text/plain": [
              "(55, 19)"
            ]
          },
          "metadata": {},
          "execution_count": 646
        }
      ]
    },
    {
      "cell_type": "code",
      "source": [
        "df = df.drop_duplicates()"
      ],
      "metadata": {
        "id": "3gIco5qtvvVN"
      },
      "execution_count": 647,
      "outputs": []
    },
    {
      "cell_type": "code",
      "source": [
        "df.shape"
      ],
      "metadata": {
        "id": "5nMPDE-fwjDs",
        "colab": {
          "base_uri": "https://localhost:8080/"
        },
        "outputId": "62e31e60-a242-40f0-8589-9354c03db1b7"
      },
      "execution_count": 648,
      "outputs": [
        {
          "output_type": "execute_result",
          "data": {
            "text/plain": [
              "(404, 19)"
            ]
          },
          "metadata": {},
          "execution_count": 648
        }
      ]
    },
    {
      "cell_type": "code",
      "source": [
        "df.isnull().sum()"
      ],
      "metadata": {
        "id": "lUzUl7Mwy5lO",
        "colab": {
          "base_uri": "https://localhost:8080/"
        },
        "outputId": "22291774-4108-4d53-8444-e8ccd7c6e535"
      },
      "execution_count": 649,
      "outputs": [
        {
          "output_type": "execute_result",
          "data": {
            "text/plain": [
              "mobile_price     0\n",
              "mobile_color     0\n",
              "dual_sim         0\n",
              "disp_size        0\n",
              "resolution       0\n",
              "os               0\n",
              "num_cores        0\n",
              "mp_speed         0\n",
              "int_memory       0\n",
              "ram              0\n",
              "p_cam            0\n",
              "f_cam            0\n",
              "network          0\n",
              "bluetooth        0\n",
              "battery_power    0\n",
              "mob_width        0\n",
              "mob_height       0\n",
              "mob_depth        0\n",
              "mob_weight       0\n",
              "dtype: int64"
            ]
          },
          "metadata": {},
          "execution_count": 649
        }
      ]
    },
    {
      "cell_type": "code",
      "source": [
        "df.head(1)"
      ],
      "metadata": {
        "id": "p2zylBKjwmlO",
        "colab": {
          "base_uri": "https://localhost:8080/",
          "height": 170
        },
        "outputId": "84a655ab-c770-4c8a-9068-7af64f4b9151"
      },
      "execution_count": 650,
      "outputs": [
        {
          "output_type": "execute_result",
          "data": {
            "text/plain": [
              "  mobile_price mobile_color  dual_sim             disp_size  \\\n",
              "0       ₹8,999     So White  Dual Sim  16.56 cm (6.52 inch)   \n",
              "\n",
              "          resolution          os  num_cores mp_speed int_memory   ram  \\\n",
              "0  1600 x 720 Pixels  Android 10  Octa Core    2 GHz      32 GB  3 GB   \n",
              "\n",
              "              p_cam             f_cam               network bluetooth  \\\n",
              "0  12MP + 2MP + 2MP  5MP Front Camera  4G VOLTE, 4G, 3G, 2G       Yes   \n",
              "\n",
              "  battery_power mob_width mob_height mob_depth mob_weight  \n",
              "0      5000 mAh     75 mm   164.4 mm   8.95 mm      195 g  "
            ],
            "text/html": [
              "\n",
              "  <div id=\"df-41ca5f80-c336-489e-bc4f-40f93e130563\" class=\"colab-df-container\">\n",
              "    <div>\n",
              "<style scoped>\n",
              "    .dataframe tbody tr th:only-of-type {\n",
              "        vertical-align: middle;\n",
              "    }\n",
              "\n",
              "    .dataframe tbody tr th {\n",
              "        vertical-align: top;\n",
              "    }\n",
              "\n",
              "    .dataframe thead th {\n",
              "        text-align: right;\n",
              "    }\n",
              "</style>\n",
              "<table border=\"1\" class=\"dataframe\">\n",
              "  <thead>\n",
              "    <tr style=\"text-align: right;\">\n",
              "      <th></th>\n",
              "      <th>mobile_price</th>\n",
              "      <th>mobile_color</th>\n",
              "      <th>dual_sim</th>\n",
              "      <th>disp_size</th>\n",
              "      <th>resolution</th>\n",
              "      <th>os</th>\n",
              "      <th>num_cores</th>\n",
              "      <th>mp_speed</th>\n",
              "      <th>int_memory</th>\n",
              "      <th>ram</th>\n",
              "      <th>p_cam</th>\n",
              "      <th>f_cam</th>\n",
              "      <th>network</th>\n",
              "      <th>bluetooth</th>\n",
              "      <th>battery_power</th>\n",
              "      <th>mob_width</th>\n",
              "      <th>mob_height</th>\n",
              "      <th>mob_depth</th>\n",
              "      <th>mob_weight</th>\n",
              "    </tr>\n",
              "  </thead>\n",
              "  <tbody>\n",
              "    <tr>\n",
              "      <th>0</th>\n",
              "      <td>₹8,999</td>\n",
              "      <td>So White</td>\n",
              "      <td>Dual Sim</td>\n",
              "      <td>16.56 cm (6.52 inch)</td>\n",
              "      <td>1600 x 720 Pixels</td>\n",
              "      <td>Android 10</td>\n",
              "      <td>Octa Core</td>\n",
              "      <td>2 GHz</td>\n",
              "      <td>32 GB</td>\n",
              "      <td>3 GB</td>\n",
              "      <td>12MP + 2MP + 2MP</td>\n",
              "      <td>5MP Front Camera</td>\n",
              "      <td>4G VOLTE, 4G, 3G, 2G</td>\n",
              "      <td>Yes</td>\n",
              "      <td>5000 mAh</td>\n",
              "      <td>75 mm</td>\n",
              "      <td>164.4 mm</td>\n",
              "      <td>8.95 mm</td>\n",
              "      <td>195 g</td>\n",
              "    </tr>\n",
              "  </tbody>\n",
              "</table>\n",
              "</div>\n",
              "    <div class=\"colab-df-buttons\">\n",
              "\n",
              "  <div class=\"colab-df-container\">\n",
              "    <button class=\"colab-df-convert\" onclick=\"convertToInteractive('df-41ca5f80-c336-489e-bc4f-40f93e130563')\"\n",
              "            title=\"Convert this dataframe to an interactive table.\"\n",
              "            style=\"display:none;\">\n",
              "\n",
              "  <svg xmlns=\"http://www.w3.org/2000/svg\" height=\"24px\" viewBox=\"0 -960 960 960\">\n",
              "    <path d=\"M120-120v-720h720v720H120Zm60-500h600v-160H180v160Zm220 220h160v-160H400v160Zm0 220h160v-160H400v160ZM180-400h160v-160H180v160Zm440 0h160v-160H620v160ZM180-180h160v-160H180v160Zm440 0h160v-160H620v160Z\"/>\n",
              "  </svg>\n",
              "    </button>\n",
              "\n",
              "  <style>\n",
              "    .colab-df-container {\n",
              "      display:flex;\n",
              "      gap: 12px;\n",
              "    }\n",
              "\n",
              "    .colab-df-convert {\n",
              "      background-color: #E8F0FE;\n",
              "      border: none;\n",
              "      border-radius: 50%;\n",
              "      cursor: pointer;\n",
              "      display: none;\n",
              "      fill: #1967D2;\n",
              "      height: 32px;\n",
              "      padding: 0 0 0 0;\n",
              "      width: 32px;\n",
              "    }\n",
              "\n",
              "    .colab-df-convert:hover {\n",
              "      background-color: #E2EBFA;\n",
              "      box-shadow: 0px 1px 2px rgba(60, 64, 67, 0.3), 0px 1px 3px 1px rgba(60, 64, 67, 0.15);\n",
              "      fill: #174EA6;\n",
              "    }\n",
              "\n",
              "    .colab-df-buttons div {\n",
              "      margin-bottom: 4px;\n",
              "    }\n",
              "\n",
              "    [theme=dark] .colab-df-convert {\n",
              "      background-color: #3B4455;\n",
              "      fill: #D2E3FC;\n",
              "    }\n",
              "\n",
              "    [theme=dark] .colab-df-convert:hover {\n",
              "      background-color: #434B5C;\n",
              "      box-shadow: 0px 1px 3px 1px rgba(0, 0, 0, 0.15);\n",
              "      filter: drop-shadow(0px 1px 2px rgba(0, 0, 0, 0.3));\n",
              "      fill: #FFFFFF;\n",
              "    }\n",
              "  </style>\n",
              "\n",
              "    <script>\n",
              "      const buttonEl =\n",
              "        document.querySelector('#df-41ca5f80-c336-489e-bc4f-40f93e130563 button.colab-df-convert');\n",
              "      buttonEl.style.display =\n",
              "        google.colab.kernel.accessAllowed ? 'block' : 'none';\n",
              "\n",
              "      async function convertToInteractive(key) {\n",
              "        const element = document.querySelector('#df-41ca5f80-c336-489e-bc4f-40f93e130563');\n",
              "        const dataTable =\n",
              "          await google.colab.kernel.invokeFunction('convertToInteractive',\n",
              "                                                    [key], {});\n",
              "        if (!dataTable) return;\n",
              "\n",
              "        const docLinkHtml = 'Like what you see? Visit the ' +\n",
              "          '<a target=\"_blank\" href=https://colab.research.google.com/notebooks/data_table.ipynb>data table notebook</a>'\n",
              "          + ' to learn more about interactive tables.';\n",
              "        element.innerHTML = '';\n",
              "        dataTable['output_type'] = 'display_data';\n",
              "        await google.colab.output.renderOutput(dataTable, element);\n",
              "        const docLink = document.createElement('div');\n",
              "        docLink.innerHTML = docLinkHtml;\n",
              "        element.appendChild(docLink);\n",
              "      }\n",
              "    </script>\n",
              "  </div>\n",
              "\n",
              "    </div>\n",
              "  </div>\n"
            ]
          },
          "metadata": {},
          "execution_count": 650
        }
      ]
    },
    {
      "cell_type": "code",
      "source": [
        "def remove_pricetag(text):\n",
        "  return text[1:].replace(',', '')"
      ],
      "metadata": {
        "id": "weBvrDoH10o5"
      },
      "execution_count": 651,
      "outputs": []
    },
    {
      "cell_type": "code",
      "source": [
        "df['mobile_price'] = df['mobile_price'].apply(remove_pricetag)"
      ],
      "metadata": {
        "id": "1V_NKtle1hLM",
        "colab": {
          "base_uri": "https://localhost:8080/"
        },
        "outputId": "2b05528a-b0f6-4db9-b8e7-f97c21015b83"
      },
      "execution_count": 652,
      "outputs": [
        {
          "output_type": "stream",
          "name": "stderr",
          "text": [
            "<ipython-input-652-db28219da68a>:1: SettingWithCopyWarning: \n",
            "A value is trying to be set on a copy of a slice from a DataFrame.\n",
            "Try using .loc[row_indexer,col_indexer] = value instead\n",
            "\n",
            "See the caveats in the documentation: https://pandas.pydata.org/pandas-docs/stable/user_guide/indexing.html#returning-a-view-versus-a-copy\n",
            "  df['mobile_price'] = df['mobile_price'].apply(remove_pricetag)\n"
          ]
        }
      ]
    },
    {
      "cell_type": "code",
      "source": [
        "df['mobile_price'] = df['mobile_price'].astype('int32')"
      ],
      "metadata": {
        "id": "KxB6Q65K2edZ",
        "colab": {
          "base_uri": "https://localhost:8080/"
        },
        "outputId": "f8c1b604-4a10-4e33-f914-a6efea37876f"
      },
      "execution_count": 653,
      "outputs": [
        {
          "output_type": "stream",
          "name": "stderr",
          "text": [
            "<ipython-input-653-b252574c1f69>:1: SettingWithCopyWarning: \n",
            "A value is trying to be set on a copy of a slice from a DataFrame.\n",
            "Try using .loc[row_indexer,col_indexer] = value instead\n",
            "\n",
            "See the caveats in the documentation: https://pandas.pydata.org/pandas-docs/stable/user_guide/indexing.html#returning-a-view-versus-a-copy\n",
            "  df['mobile_price'] = df['mobile_price'].astype('int32')\n"
          ]
        }
      ]
    },
    {
      "cell_type": "code",
      "source": [
        "sns.distplot(df['mobile_price'])"
      ],
      "metadata": {
        "id": "BkMzcHlqTkgH",
        "colab": {
          "base_uri": "https://localhost:8080/",
          "height": 673
        },
        "outputId": "f5ed1c44-737c-4b69-900c-a8e85b3ad06d"
      },
      "execution_count": 654,
      "outputs": [
        {
          "output_type": "stream",
          "name": "stderr",
          "text": [
            "<ipython-input-654-929c032294bd>:1: UserWarning: \n",
            "\n",
            "`distplot` is a deprecated function and will be removed in seaborn v0.14.0.\n",
            "\n",
            "Please adapt your code to use either `displot` (a figure-level function with\n",
            "similar flexibility) or `histplot` (an axes-level function for histograms).\n",
            "\n",
            "For a guide to updating your code to use the new functions, please see\n",
            "https://gist.github.com/mwaskom/de44147ed2974457ad6372750bbe5751\n",
            "\n",
            "  sns.distplot(df['mobile_price'])\n"
          ]
        },
        {
          "output_type": "execute_result",
          "data": {
            "text/plain": [
              "<Axes: xlabel='mobile_price', ylabel='Density'>"
            ]
          },
          "metadata": {},
          "execution_count": 654
        },
        {
          "output_type": "display_data",
          "data": {
            "text/plain": [
              "<Figure size 640x480 with 1 Axes>"
            ],
            "image/png": "[encoded data removed]"
          },
          "metadata": {}
        }
      ]
    },
    {
      "cell_type": "code",
      "source": [
        "df['mobile_color'].nunique()"
      ],
      "metadata": {
        "id": "nYQcRt_RyTv8",
        "colab": {
          "base_uri": "https://localhost:8080/"
        },
        "outputId": "e936f29a-d36a-4e53-c917-80a6c70bbd06"
      },
      "execution_count": 655,
      "outputs": [
        {
          "output_type": "execute_result",
          "data": {
            "text/plain": [
              "165"
            ]
          },
          "metadata": {},
          "execution_count": 655
        }
      ]
    },
    {
      "cell_type": "code",
      "source": [
        "df['mobile_color'].value_counts()"
      ],
      "metadata": {
        "id": "0YUM5ikj6UDN",
        "colab": {
          "base_uri": "https://localhost:8080/"
        },
        "outputId": "170486f7-c394-4eb8-ca9b-622d3bd5f1b9"
      },
      "execution_count": 656,
      "outputs": [
        {
          "output_type": "execute_result",
          "data": {
            "text/plain": [
              "Black            24\n",
              "Gold             16\n",
              "Red              13\n",
              "Blue             12\n",
              "Rose Gold         9\n",
              "                 ..\n",
              "Metallic gold     1\n",
              "Prism Black       1\n",
              "Prism Blue        1\n",
              "Raven Black       1\n",
              "Red Brick         1\n",
              "Name: mobile_color, Length: 165, dtype: int64"
            ]
          },
          "metadata": {},
          "execution_count": 656
        }
      ]
    },
    {
      "cell_type": "code",
      "source": [
        "def color_category(text):\n",
        "    if 'Black' in text:\n",
        "        return 'Black'\n",
        "    elif 'Gold' in text:\n",
        "        return 'Gold'\n",
        "    elif 'Red' in text:\n",
        "        return 'Red'\n",
        "    elif 'Blue' in text:\n",
        "        return 'Blue'\n",
        "    else:\n",
        "        return 'Other'"
      ],
      "metadata": {
        "id": "Swr7HftzzkZ6"
      },
      "execution_count": 657,
      "outputs": []
    },
    {
      "cell_type": "code",
      "source": [
        "df['mobile_color'] = df['mobile_color'].apply(lambda x: color_category(x))"
      ],
      "metadata": {
        "id": "_RSkpL420aTI"
      },
      "execution_count": 658,
      "outputs": []
    },
    {
      "cell_type": "code",
      "source": [
        "df['mobile_color'].value_counts().plot(kind='bar')"
      ],
      "metadata": {
        "id": "K-ri1sYf0wU1",
        "colab": {
          "base_uri": "https://localhost:8080/",
          "height": 472
        },
        "outputId": "58b9f7b9-247d-4150-e7e6-074c7e4d7c15"
      },
      "execution_count": 659,
      "outputs": [
        {
          "output_type": "execute_result",
          "data": {
            "text/plain": [
              "<Axes: >"
            ]
          },
          "metadata": {},
          "execution_count": 659
        },
        {
          "output_type": "display_data",
          "data": {
            "text/plain": [
              "<Figure size 640x480 with 1 Axes>"
            ],
            "image/png": "[encoded data removed]"
          },
          "metadata": {}
        }
      ]
    },
    {
      "cell_type": "code",
      "source": [
        "sns.barplot(x=df['mobile_color'],y=df['mobile_price'])\n",
        "plt.xticks(rotation='vertical')\n",
        "plt.show()"
      ],
      "metadata": {
        "id": "elG09dmH0148",
        "colab": {
          "base_uri": "https://localhost:8080/",
          "height": 475
        },
        "outputId": "a484925e-46cb-4e7f-a413-4c05ad3229f8"
      },
      "execution_count": 660,
      "outputs": [
        {
          "output_type": "display_data",
          "data": {
            "text/plain": [
              "<Figure size 640x480 with 1 Axes>"
            ],
            "image/png": "[encoded data removed]"
          },
          "metadata": {}
        }
      ]
    },
    {
      "cell_type": "code",
      "source": [
        "df.head(1)"
      ],
      "metadata": {
        "id": "MFcBlyLBC7nZ",
        "colab": {
          "base_uri": "https://localhost:8080/",
          "height": 170
        },
        "outputId": "0cad5739-8ac0-4c75-a817-186a3725f130"
      },
      "execution_count": 661,
      "outputs": [
        {
          "output_type": "execute_result",
          "data": {
            "text/plain": [
              "   mobile_price mobile_color  dual_sim             disp_size  \\\n",
              "0          8999        Other  Dual Sim  16.56 cm (6.52 inch)   \n",
              "\n",
              "          resolution          os  num_cores mp_speed int_memory   ram  \\\n",
              "0  1600 x 720 Pixels  Android 10  Octa Core    2 GHz      32 GB  3 GB   \n",
              "\n",
              "              p_cam             f_cam               network bluetooth  \\\n",
              "0  12MP + 2MP + 2MP  5MP Front Camera  4G VOLTE, 4G, 3G, 2G       Yes   \n",
              "\n",
              "  battery_power mob_width mob_height mob_depth mob_weight  \n",
              "0      5000 mAh     75 mm   164.4 mm   8.95 mm      195 g  "
            ],
            "text/html": [
              "\n",
              "  <div id=\"df-e6a35fdc-d87b-40af-a02c-4cf67bebc451\" class=\"colab-df-container\">\n",
              "    <div>\n",
              "<style scoped>\n",
              "    .dataframe tbody tr th:only-of-type {\n",
              "        vertical-align: middle;\n",
              "    }\n",
              "\n",
              "    .dataframe tbody tr th {\n",
              "        vertical-align: top;\n",
              "    }\n",
              "\n",
              "    .dataframe thead th {\n",
              "        text-align: right;\n",
              "    }\n",
              "</style>\n",
              "<table border=\"1\" class=\"dataframe\">\n",
              "  <thead>\n",
              "    <tr style=\"text-align: right;\">\n",
              "      <th></th>\n",
              "      <th>mobile_price</th>\n",
              "      <th>mobile_color</th>\n",
              "      <th>dual_sim</th>\n",
              "      <th>disp_size</th>\n",
              "      <th>resolution</th>\n",
              "      <th>os</th>\n",
              "      <th>num_cores</th>\n",
              "      <th>mp_speed</th>\n",
              "      <th>int_memory</th>\n",
              "      <th>ram</th>\n",
              "      <th>p_cam</th>\n",
              "      <th>f_cam</th>\n",
              "      <th>network</th>\n",
              "      <th>bluetooth</th>\n",
              "      <th>battery_power</th>\n",
              "      <th>mob_width</th>\n",
              "      <th>mob_height</th>\n",
              "      <th>mob_depth</th>\n",
              "      <th>mob_weight</th>\n",
              "    </tr>\n",
              "  </thead>\n",
              "  <tbody>\n",
              "    <tr>\n",
              "      <th>0</th>\n",
              "      <td>8999</td>\n",
              "      <td>Other</td>\n",
              "      <td>Dual Sim</td>\n",
              "      <td>16.56 cm (6.52 inch)</td>\n",
              "      <td>1600 x 720 Pixels</td>\n",
              "      <td>Android 10</td>\n",
              "      <td>Octa Core</td>\n",
              "      <td>2 GHz</td>\n",
              "      <td>32 GB</td>\n",
              "      <td>3 GB</td>\n",
              "      <td>12MP + 2MP + 2MP</td>\n",
              "      <td>5MP Front Camera</td>\n",
              "      <td>4G VOLTE, 4G, 3G, 2G</td>\n",
              "      <td>Yes</td>\n",
              "      <td>5000 mAh</td>\n",
              "      <td>75 mm</td>\n",
              "      <td>164.4 mm</td>\n",
              "      <td>8.95 mm</td>\n",
              "      <td>195 g</td>\n",
              "    </tr>\n",
              "  </tbody>\n",
              "</table>\n",
              "</div>\n",
              "    <div class=\"colab-df-buttons\">\n",
              "\n",
              "  <div class=\"colab-df-container\">\n",
              "    <button class=\"colab-df-convert\" onclick=\"convertToInteractive('df-e6a35fdc-d87b-40af-a02c-4cf67bebc451')\"\n",
              "            title=\"Convert this dataframe to an interactive table.\"\n",
              "            style=\"display:none;\">\n",
              "\n",
              "  <svg xmlns=\"http://www.w3.org/2000/svg\" height=\"24px\" viewBox=\"0 -960 960 960\">\n",
              "    <path d=\"M120-120v-720h720v720H120Zm60-500h600v-160H180v160Zm220 220h160v-160H400v160Zm0 220h160v-160H400v160ZM180-400h160v-160H180v160Zm440 0h160v-160H620v160ZM180-180h160v-160H180v160Zm440 0h160v-160H620v160Z\"/>\n",
              "  </svg>\n",
              "    </button>\n",
              "\n",
              "  <style>\n",
              "    .colab-df-container {\n",
              "      display:flex;\n",
              "      gap: 12px;\n",
              "    }\n",
              "\n",
              "    .colab-df-convert {\n",
              "      background-color: #E8F0FE;\n",
              "      border: none;\n",
              "      border-radius: 50%;\n",
              "      cursor: pointer;\n",
              "      display: none;\n",
              "      fill: #1967D2;\n",
              "      height: 32px;\n",
              "      padding: 0 0 0 0;\n",
              "      width: 32px;\n",
              "    }\n",
              "\n",
              "    .colab-df-convert:hover {\n",
              "      background-color: #E2EBFA;\n",
              "      box-shadow: 0px 1px 2px rgba(60, 64, 67, 0.3), 0px 1px 3px 1px rgba(60, 64, 67, 0.15);\n",
              "      fill: #174EA6;\n",
              "    }\n",
              "\n",
              "    .colab-df-buttons div {\n",
              "      margin-bottom: 4px;\n",
              "    }\n",
              "\n",
              "    [theme=dark] .colab-df-convert {\n",
              "      background-color: #3B4455;\n",
              "      fill: #D2E3FC;\n",
              "    }\n",
              "\n",
              "    [theme=dark] .colab-df-convert:hover {\n",
              "      background-color: #434B5C;\n",
              "      box-shadow: 0px 1px 3px 1px rgba(0, 0, 0, 0.15);\n",
              "      filter: drop-shadow(0px 1px 2px rgba(0, 0, 0, 0.3));\n",
              "      fill: #FFFFFF;\n",
              "    }\n",
              "  </style>\n",
              "\n",
              "    <script>\n",
              "      const buttonEl =\n",
              "        document.querySelector('#df-e6a35fdc-d87b-40af-a02c-4cf67bebc451 button.colab-df-convert');\n",
              "      buttonEl.style.display =\n",
              "        google.colab.kernel.accessAllowed ? 'block' : 'none';\n",
              "\n",
              "      async function convertToInteractive(key) {\n",
              "        const element = document.querySelector('#df-e6a35fdc-d87b-40af-a02c-4cf67bebc451');\n",
              "        const dataTable =\n",
              "          await google.colab.kernel.invokeFunction('convertToInteractive',\n",
              "                                                    [key], {});\n",
              "        if (!dataTable) return;\n",
              "\n",
              "        const docLinkHtml = 'Like what you see? Visit the ' +\n",
              "          '<a target=\"_blank\" href=https://colab.research.google.com/notebooks/data_table.ipynb>data table notebook</a>'\n",
              "          + ' to learn more about interactive tables.';\n",
              "        element.innerHTML = '';\n",
              "        dataTable['output_type'] = 'display_data';\n",
              "        await google.colab.output.renderOutput(dataTable, element);\n",
              "        const docLink = document.createElement('div');\n",
              "        docLink.innerHTML = docLinkHtml;\n",
              "        element.appendChild(docLink);\n",
              "      }\n",
              "    </script>\n",
              "  </div>\n",
              "\n",
              "    </div>\n",
              "  </div>\n"
            ]
          },
          "metadata": {},
          "execution_count": 661
        }
      ]
    },
    {
      "cell_type": "code",
      "source": [
        "df['dual_sim'].value_counts()"
      ],
      "metadata": {
        "id": "k0aNG1ktGiy2",
        "colab": {
          "base_uri": "https://localhost:8080/"
        },
        "outputId": "1520322f-3191-46b0-c69f-24a605002867"
      },
      "execution_count": 662,
      "outputs": [
        {
          "output_type": "execute_result",
          "data": {
            "text/plain": [
              "Dual Sim      403\n",
              "Single Sim      1\n",
              "Name: dual_sim, dtype: int64"
            ]
          },
          "metadata": {},
          "execution_count": 662
        }
      ]
    },
    {
      "cell_type": "code",
      "source": [
        "df = df[df['dual_sim'] != 'Single Sim']"
      ],
      "metadata": {
        "id": "ocOreDppG7It"
      },
      "execution_count": 663,
      "outputs": []
    },
    {
      "cell_type": "code",
      "source": [
        "df['dual_sim'].value_counts()"
      ],
      "metadata": {
        "id": "7VXkbeBGHC4L",
        "colab": {
          "base_uri": "https://localhost:8080/"
        },
        "outputId": "92f10915-8320-4245-8499-5355e0153405"
      },
      "execution_count": 664,
      "outputs": [
        {
          "output_type": "execute_result",
          "data": {
            "text/plain": [
              "Dual Sim    403\n",
              "Name: dual_sim, dtype: int64"
            ]
          },
          "metadata": {},
          "execution_count": 664
        }
      ]
    },
    {
      "cell_type": "code",
      "source": [
        "def display_preprocess(text):\n",
        "  return text.split()[2].replace(\"(\",'')"
      ],
      "metadata": {
        "id": "2-y-wYWcJiVV"
      },
      "execution_count": 665,
      "outputs": []
    },
    {
      "cell_type": "code",
      "source": [
        "# for i in range(35):\n",
        "#   print(df['disp_size'].value_counts().index[i].split()[2].replace(\"(\",''))\n"
      ],
      "metadata": {
        "id": "3D-BytgvJtwR"
      },
      "execution_count": 666,
      "outputs": []
    },
    {
      "cell_type": "code",
      "source": [
        "# df['disp_size'].value_counts()"
      ],
      "metadata": {
        "id": "4BtkfqtZKk45"
      },
      "execution_count": 667,
      "outputs": []
    },
    {
      "cell_type": "code",
      "source": [
        "df['disp_size'] = df['disp_size'].apply(lambda x:display_preprocess(x))\n",
        "# df['mobile_color'] = df['mobile_color'].apply(lambda x: color_category(x))"
      ],
      "metadata": {
        "id": "VFwuaUbPHsE-",
        "colab": {
          "base_uri": "https://localhost:8080/"
        },
        "outputId": "a2a2cd01-59a2-42b3-8c20-e82f5a049f61"
      },
      "execution_count": 668,
      "outputs": [
        {
          "output_type": "stream",
          "name": "stderr",
          "text": [
            "<ipython-input-668-3ee09410eafe>:1: SettingWithCopyWarning: \n",
            "A value is trying to be set on a copy of a slice from a DataFrame.\n",
            "Try using .loc[row_indexer,col_indexer] = value instead\n",
            "\n",
            "See the caveats in the documentation: https://pandas.pydata.org/pandas-docs/stable/user_guide/indexing.html#returning-a-view-versus-a-copy\n",
            "  df['disp_size'] = df['disp_size'].apply(lambda x:display_preprocess(x))\n"
          ]
        }
      ]
    },
    {
      "cell_type": "code",
      "source": [
        "# df['disp_size'].value_counts()"
      ],
      "metadata": {
        "id": "sSb8qaTEH7-y"
      },
      "execution_count": 669,
      "outputs": []
    },
    {
      "cell_type": "code",
      "source": [
        "sns.scatterplot(x=df['disp_size'],y=df['mobile_price'])"
      ],
      "metadata": {
        "id": "bnIKsg7OVRB9",
        "colab": {
          "base_uri": "https://localhost:8080/",
          "height": 467
        },
        "outputId": "6b46ceda-8905-4994-f191-89cf618869ab"
      },
      "execution_count": 670,
      "outputs": [
        {
          "output_type": "execute_result",
          "data": {
            "text/plain": [
              "<Axes: xlabel='disp_size', ylabel='mobile_price'>"
            ]
          },
          "metadata": {},
          "execution_count": 670
        },
        {
          "output_type": "display_data",
          "data": {
            "text/plain": [
              "<Figure size 640x480 with 1 Axes>"
            ],
            "image/png": "[encoded data removed]"
          },
          "metadata": {}
        }
      ]
    },
    {
      "cell_type": "code",
      "source": [
        "df.head(1)"
      ],
      "metadata": {
        "id": "n1ndecc_LPIE",
        "colab": {
          "base_uri": "https://localhost:8080/",
          "height": 170
        },
        "outputId": "665ffb5b-e9d9-4152-c71e-fdb7fb8edf36"
      },
      "execution_count": 671,
      "outputs": [
        {
          "output_type": "execute_result",
          "data": {
            "text/plain": [
              "   mobile_price mobile_color  dual_sim disp_size         resolution  \\\n",
              "0          8999        Other  Dual Sim      6.52  1600 x 720 Pixels   \n",
              "\n",
              "           os  num_cores mp_speed int_memory   ram             p_cam  \\\n",
              "0  Android 10  Octa Core    2 GHz      32 GB  3 GB  12MP + 2MP + 2MP   \n",
              "\n",
              "              f_cam               network bluetooth battery_power mob_width  \\\n",
              "0  5MP Front Camera  4G VOLTE, 4G, 3G, 2G       Yes      5000 mAh     75 mm   \n",
              "\n",
              "  mob_height mob_depth mob_weight  \n",
              "0   164.4 mm   8.95 mm      195 g  "
            ],
            "text/html": [
              "\n",
              "  <div id=\"df-38a6d810-0384-4ff6-bd9f-f6643a4e1245\" class=\"colab-df-container\">\n",
              "    <div>\n",
              "<style scoped>\n",
              "    .dataframe tbody tr th:only-of-type {\n",
              "        vertical-align: middle;\n",
              "    }\n",
              "\n",
              "    .dataframe tbody tr th {\n",
              "        vertical-align: top;\n",
              "    }\n",
              "\n",
              "    .dataframe thead th {\n",
              "        text-align: right;\n",
              "    }\n",
              "</style>\n",
              "<table border=\"1\" class=\"dataframe\">\n",
              "  <thead>\n",
              "    <tr style=\"text-align: right;\">\n",
              "      <th></th>\n",
              "      <th>mobile_price</th>\n",
              "      <th>mobile_color</th>\n",
              "      <th>dual_sim</th>\n",
              "      <th>disp_size</th>\n",
              "      <th>resolution</th>\n",
              "      <th>os</th>\n",
              "      <th>num_cores</th>\n",
              "      <th>mp_speed</th>\n",
              "      <th>int_memory</th>\n",
              "      <th>ram</th>\n",
              "      <th>p_cam</th>\n",
              "      <th>f_cam</th>\n",
              "      <th>network</th>\n",
              "      <th>bluetooth</th>\n",
              "      <th>battery_power</th>\n",
              "      <th>mob_width</th>\n",
              "      <th>mob_height</th>\n",
              "      <th>mob_depth</th>\n",
              "      <th>mob_weight</th>\n",
              "    </tr>\n",
              "  </thead>\n",
              "  <tbody>\n",
              "    <tr>\n",
              "      <th>0</th>\n",
              "      <td>8999</td>\n",
              "      <td>Other</td>\n",
              "      <td>Dual Sim</td>\n",
              "      <td>6.52</td>\n",
              "      <td>1600 x 720 Pixels</td>\n",
              "      <td>Android 10</td>\n",
              "      <td>Octa Core</td>\n",
              "      <td>2 GHz</td>\n",
              "      <td>32 GB</td>\n",
              "      <td>3 GB</td>\n",
              "      <td>12MP + 2MP + 2MP</td>\n",
              "      <td>5MP Front Camera</td>\n",
              "      <td>4G VOLTE, 4G, 3G, 2G</td>\n",
              "      <td>Yes</td>\n",
              "      <td>5000 mAh</td>\n",
              "      <td>75 mm</td>\n",
              "      <td>164.4 mm</td>\n",
              "      <td>8.95 mm</td>\n",
              "      <td>195 g</td>\n",
              "    </tr>\n",
              "  </tbody>\n",
              "</table>\n",
              "</div>\n",
              "    <div class=\"colab-df-buttons\">\n",
              "\n",
              "  <div class=\"colab-df-container\">\n",
              "    <button class=\"colab-df-convert\" onclick=\"convertToInteractive('df-38a6d810-0384-4ff6-bd9f-f6643a4e1245')\"\n",
              "            title=\"Convert this dataframe to an interactive table.\"\n",
              "            style=\"display:none;\">\n",
              "\n",
              "  <svg xmlns=\"http://www.w3.org/2000/svg\" height=\"24px\" viewBox=\"0 -960 960 960\">\n",
              "    <path d=\"M120-120v-720h720v720H120Zm60-500h600v-160H180v160Zm220 220h160v-160H400v160Zm0 220h160v-160H400v160ZM180-400h160v-160H180v160Zm440 0h160v-160H620v160ZM180-180h160v-160H180v160Zm440 0h160v-160H620v160Z\"/>\n",
              "  </svg>\n",
              "    </button>\n",
              "\n",
              "  <style>\n",
              "    .colab-df-container {\n",
              "      display:flex;\n",
              "      gap: 12px;\n",
              "    }\n",
              "\n",
              "    .colab-df-convert {\n",
              "      background-color: #E8F0FE;\n",
              "      border: none;\n",
              "      border-radius: 50%;\n",
              "      cursor: pointer;\n",
              "      display: none;\n",
              "      fill: #1967D2;\n",
              "      height: 32px;\n",
              "      padding: 0 0 0 0;\n",
              "      width: 32px;\n",
              "    }\n",
              "\n",
              "    .colab-df-convert:hover {\n",
              "      background-color: #E2EBFA;\n",
              "      box-shadow: 0px 1px 2px rgba(60, 64, 67, 0.3), 0px 1px 3px 1px rgba(60, 64, 67, 0.15);\n",
              "      fill: #174EA6;\n",
              "    }\n",
              "\n",
              "    .colab-df-buttons div {\n",
              "      margin-bottom: 4px;\n",
              "    }\n",
              "\n",
              "    [theme=dark] .colab-df-convert {\n",
              "      background-color: #3B4455;\n",
              "      fill: #D2E3FC;\n",
              "    }\n",
              "\n",
              "    [theme=dark] .colab-df-convert:hover {\n",
              "      background-color: #434B5C;\n",
              "      box-shadow: 0px 1px 3px 1px rgba(0, 0, 0, 0.15);\n",
              "      filter: drop-shadow(0px 1px 2px rgba(0, 0, 0, 0.3));\n",
              "      fill: #FFFFFF;\n",
              "    }\n",
              "  </style>\n",
              "\n",
              "    <script>\n",
              "      const buttonEl =\n",
              "        document.querySelector('#df-38a6d810-0384-4ff6-bd9f-f6643a4e1245 button.colab-df-convert');\n",
              "      buttonEl.style.display =\n",
              "        google.colab.kernel.accessAllowed ? 'block' : 'none';\n",
              "\n",
              "      async function convertToInteractive(key) {\n",
              "        const element = document.querySelector('#df-38a6d810-0384-4ff6-bd9f-f6643a4e1245');\n",
              "        const dataTable =\n",
              "          await google.colab.kernel.invokeFunction('convertToInteractive',\n",
              "                                                    [key], {});\n",
              "        if (!dataTable) return;\n",
              "\n",
              "        const docLinkHtml = 'Like what you see? Visit the ' +\n",
              "          '<a target=\"_blank\" href=https://colab.research.google.com/notebooks/data_table.ipynb>data table notebook</a>'\n",
              "          + ' to learn more about interactive tables.';\n",
              "        element.innerHTML = '';\n",
              "        dataTable['output_type'] = 'display_data';\n",
              "        await google.colab.output.renderOutput(dataTable, element);\n",
              "        const docLink = document.createElement('div');\n",
              "        docLink.innerHTML = docLinkHtml;\n",
              "        element.appendChild(docLink);\n",
              "      }\n",
              "    </script>\n",
              "  </div>\n",
              "\n",
              "    </div>\n",
              "  </div>\n"
            ]
          },
          "metadata": {},
          "execution_count": 671
        }
      ]
    },
    {
      "cell_type": "code",
      "source": [
        "df['resolution'].value_counts()"
      ],
      "metadata": {
        "colab": {
          "base_uri": "https://localhost:8080/"
        },
        "id": "b9bAYWJ3jFFS",
        "outputId": "9912e282-e4e0-4520-a5d9-3c62597f9bdf"
      },
      "execution_count": 672,
      "outputs": [
        {
          "output_type": "execute_result",
          "data": {
            "text/plain": [
              "2340 x 1080 pixels     59\n",
              "2400 x 1080 Pixels     43\n",
              "1520 x 720 pixels      32\n",
              "1600 x 720 Pixels      25\n",
              "1080 x 2340 Pixels     19\n",
              "1520 x 720 Pixels      19\n",
              "2160 x 1080 pixels     14\n",
              "2160 x 1080 Pixels     13\n",
              "1440 x 720 pixels      12\n",
              "720 x 1600 Pixels      12\n",
              "2340 x 1080 Pixels     12\n",
              "1440 x 720 Pixels      11\n",
              "2400 × 1080 Pixels     11\n",
              "1280 x 720 Pixels       9\n",
              "720 x 1544 Pixels       8\n",
              "1080 x 2160 pixels      7\n",
              "1560 x 720 pixels       7\n",
              "2280 x 1080 pixels      7\n",
              "2400 x 1080 pixel       6\n",
              "1560 x 720 Pixels       6\n",
              "1520 x 720$$pixel       5\n",
              "1080 x 2400 Pixels      5\n",
              "2280 x 1080$$Pixels     5\n",
              "1500 x 720 pixels       5\n",
              "1520 x 720$$Pixels      4\n",
              "2280 x 1080 Pixels      4\n",
              "1080 x 2340 pixels      4\n",
              "720 x 1544 pixels       3\n",
              "2340 x 1080 Pixel       3\n",
              "1920 x 1080 pixels      3\n",
              "720 x 1520 pixels       3\n",
              "1080 x 1920 Pixels      3\n",
              "720*1440 Pixels         3\n",
              "720 x 1440 Pixels       3\n",
              "1280 x 720 pixels       2\n",
              "2400 x 1080 Pixel       2\n",
              "2340 x 1080$$pixel      2\n",
              "2340 x 1080$$Pixel      2\n",
              "720 x 1560 pixels       1\n",
              "1440 x 720 Pixel        1\n",
              "1920 x 1080 Pixels      1\n",
              "540 x 960 Pixels        1\n",
              "960 x 540 Pixels        1\n",
              "1520 x 720$pixels       1\n",
              "1520 x 720$$ pixels     1\n",
              "2316 x 1080 pixels      1\n",
              "2400 x 1080$$pixel      1\n",
              "720 x 1280              1\n",
              "Name: resolution, dtype: int64"
            ]
          },
          "metadata": {},
          "execution_count": 672
        }
      ]
    },
    {
      "cell_type": "code",
      "source": [
        "df['resolution']=df['resolution'].replace('\\s?[pP]ixel.*','',regex=True).replace('\\s?[x*×]\\s?','X',regex=True).replace('\\$','',regex=True)\n",
        "df['resolution'].unique()"
      ],
      "metadata": {
        "colab": {
          "base_uri": "https://localhost:8080/"
        },
        "id": "wLsRNWKSkunb",
        "outputId": "2852b898-e92e-4239-ed61-0297d2ed2152"
      },
      "execution_count": 673,
      "outputs": [
        {
          "output_type": "execute_result",
          "data": {
            "text/plain": [
              "array(['1600X720', '2340X1080', '2400X1080', '1080X2340', '1080X2400',\n",
              "       '720X1600', '1560X720', '1520X720', '2160X1080', '1440X720',\n",
              "       '2280X1080', '1920X1080', '1280X720', '720X1544', '2316X1080',\n",
              "       '960X540', '540X960', '1080X2160', '1500X720', '720X1440',\n",
              "       '1080X1920', '720X1520', '720X1560', '720X1280'], dtype=object)"
            ]
          },
          "metadata": {},
          "execution_count": 673
        }
      ]
    },
    {
      "cell_type": "code",
      "source": [
        "df[['res_dim_1','sep','res_dim_2']]=df['resolution'].str.partition('X')"
      ],
      "metadata": {
        "id": "BTdpNNh8lZ8U"
      },
      "execution_count": 674,
      "outputs": []
    },
    {
      "cell_type": "code",
      "source": [
        "df.drop('sep',axis=1,inplace=True)"
      ],
      "metadata": {
        "id": "wnM4IpuWliM0"
      },
      "execution_count": 675,
      "outputs": []
    },
    {
      "cell_type": "code",
      "source": [
        "df['res_dim_1']=df['res_dim_1'].astype(int)\n",
        "df['res_dim_2']=df['res_dim_2'].astype(int)"
      ],
      "metadata": {
        "id": "RntkVMNFlkg7"
      },
      "execution_count": 676,
      "outputs": []
    },
    {
      "cell_type": "code",
      "source": [
        "df['disp_size']=df['disp_size'].astype('float32')"
      ],
      "metadata": {
        "id": "v-Sfzd2YlrHA"
      },
      "execution_count": 677,
      "outputs": []
    },
    {
      "cell_type": "code",
      "source": [
        "df.info()"
      ],
      "metadata": {
        "colab": {
          "base_uri": "https://localhost:8080/"
        },
        "id": "79A0Tq-el9po",
        "outputId": "8de41c16-942c-46a4-f44f-af6024294459"
      },
      "execution_count": 678,
      "outputs": [
        {
          "output_type": "stream",
          "name": "stdout",
          "text": [
            "<class 'pandas.core.frame.DataFrame'>\n",
            "Int64Index: 403 entries, 0 to 447\n",
            "Data columns (total 21 columns):\n",
            " #   Column         Non-Null Count  Dtype  \n",
            "---  ------         --------------  -----  \n",
            " 0   mobile_price   403 non-null    int32  \n",
            " 1   mobile_color   403 non-null    object \n",
            " 2   dual_sim       403 non-null    object \n",
            " 3   disp_size      403 non-null    float32\n",
            " 4   resolution     403 non-null    object \n",
            " 5   os             403 non-null    object \n",
            " 6   num_cores      403 non-null    object \n",
            " 7   mp_speed       403 non-null    object \n",
            " 8   int_memory     403 non-null    object \n",
            " 9   ram            403 non-null    object \n",
            " 10  p_cam          403 non-null    object \n",
            " 11  f_cam          403 non-null    object \n",
            " 12  network        403 non-null    object \n",
            " 13  bluetooth      403 non-null    object \n",
            " 14  battery_power  403 non-null    object \n",
            " 15  mob_width      403 non-null    object \n",
            " 16  mob_height     403 non-null    object \n",
            " 17  mob_depth      403 non-null    object \n",
            " 18  mob_weight     403 non-null    object \n",
            " 19  res_dim_1      403 non-null    int64  \n",
            " 20  res_dim_2      403 non-null    int64  \n",
            "dtypes: float32(1), int32(1), int64(2), object(17)\n",
            "memory usage: 66.1+ KB\n"
          ]
        }
      ]
    },
    {
      "cell_type": "code",
      "source": [
        "df.drop('resolution',axis=1,inplace=True)"
      ],
      "metadata": {
        "id": "VdAIxXBal-iW"
      },
      "execution_count": 679,
      "outputs": []
    },
    {
      "cell_type": "code",
      "source": [
        "df.head(1)"
      ],
      "metadata": {
        "colab": {
          "base_uri": "https://localhost:8080/",
          "height": 170
        },
        "id": "3WA2nYKymKaN",
        "outputId": "b06f7a53-6cc9-427c-def4-21e106b2b0b4"
      },
      "execution_count": 680,
      "outputs": [
        {
          "output_type": "execute_result",
          "data": {
            "text/plain": [
              "   mobile_price mobile_color  dual_sim  disp_size          os  num_cores  \\\n",
              "0          8999        Other  Dual Sim       6.52  Android 10  Octa Core   \n",
              "\n",
              "  mp_speed int_memory   ram             p_cam             f_cam  \\\n",
              "0    2 GHz      32 GB  3 GB  12MP + 2MP + 2MP  5MP Front Camera   \n",
              "\n",
              "                network bluetooth battery_power mob_width mob_height  \\\n",
              "0  4G VOLTE, 4G, 3G, 2G       Yes      5000 mAh     75 mm   164.4 mm   \n",
              "\n",
              "  mob_depth mob_weight  res_dim_1  res_dim_2  \n",
              "0   8.95 mm      195 g       1600        720  "
            ],
            "text/html": [
              "\n",
              "  <div id=\"df-91a96128-15e8-4764-8e7b-85d81d26fe47\" class=\"colab-df-container\">\n",
              "    <div>\n",
              "<style scoped>\n",
              "    .dataframe tbody tr th:only-of-type {\n",
              "        vertical-align: middle;\n",
              "    }\n",
              "\n",
              "    .dataframe tbody tr th {\n",
              "        vertical-align: top;\n",
              "    }\n",
              "\n",
              "    .dataframe thead th {\n",
              "        text-align: right;\n",
              "    }\n",
              "</style>\n",
              "<table border=\"1\" class=\"dataframe\">\n",
              "  <thead>\n",
              "    <tr style=\"text-align: right;\">\n",
              "      <th></th>\n",
              "      <th>mobile_price</th>\n",
              "      <th>mobile_color</th>\n",
              "      <th>dual_sim</th>\n",
              "      <th>disp_size</th>\n",
              "      <th>os</th>\n",
              "      <th>num_cores</th>\n",
              "      <th>mp_speed</th>\n",
              "      <th>int_memory</th>\n",
              "      <th>ram</th>\n",
              "      <th>p_cam</th>\n",
              "      <th>f_cam</th>\n",
              "      <th>network</th>\n",
              "      <th>bluetooth</th>\n",
              "      <th>battery_power</th>\n",
              "      <th>mob_width</th>\n",
              "      <th>mob_height</th>\n",
              "      <th>mob_depth</th>\n",
              "      <th>mob_weight</th>\n",
              "      <th>res_dim_1</th>\n",
              "      <th>res_dim_2</th>\n",
              "    </tr>\n",
              "  </thead>\n",
              "  <tbody>\n",
              "    <tr>\n",
              "      <th>0</th>\n",
              "      <td>8999</td>\n",
              "      <td>Other</td>\n",
              "      <td>Dual Sim</td>\n",
              "      <td>6.52</td>\n",
              "      <td>Android 10</td>\n",
              "      <td>Octa Core</td>\n",
              "      <td>2 GHz</td>\n",
              "      <td>32 GB</td>\n",
              "      <td>3 GB</td>\n",
              "      <td>12MP + 2MP + 2MP</td>\n",
              "      <td>5MP Front Camera</td>\n",
              "      <td>4G VOLTE, 4G, 3G, 2G</td>\n",
              "      <td>Yes</td>\n",
              "      <td>5000 mAh</td>\n",
              "      <td>75 mm</td>\n",
              "      <td>164.4 mm</td>\n",
              "      <td>8.95 mm</td>\n",
              "      <td>195 g</td>\n",
              "      <td>1600</td>\n",
              "      <td>720</td>\n",
              "    </tr>\n",
              "  </tbody>\n",
              "</table>\n",
              "</div>\n",
              "    <div class=\"colab-df-buttons\">\n",
              "\n",
              "  <div class=\"colab-df-container\">\n",
              "    <button class=\"colab-df-convert\" onclick=\"convertToInteractive('df-91a96128-15e8-4764-8e7b-85d81d26fe47')\"\n",
              "            title=\"Convert this dataframe to an interactive table.\"\n",
              "            style=\"display:none;\">\n",
              "\n",
              "  <svg xmlns=\"http://www.w3.org/2000/svg\" height=\"24px\" viewBox=\"0 -960 960 960\">\n",
              "    <path d=\"M120-120v-720h720v720H120Zm60-500h600v-160H180v160Zm220 220h160v-160H400v160Zm0 220h160v-160H400v160ZM180-400h160v-160H180v160Zm440 0h160v-160H620v160ZM180-180h160v-160H180v160Zm440 0h160v-160H620v160Z\"/>\n",
              "  </svg>\n",
              "    </button>\n",
              "\n",
              "  <style>\n",
              "    .colab-df-container {\n",
              "      display:flex;\n",
              "      gap: 12px;\n",
              "    }\n",
              "\n",
              "    .colab-df-convert {\n",
              "      background-color: #E8F0FE;\n",
              "      border: none;\n",
              "      border-radius: 50%;\n",
              "      cursor: pointer;\n",
              "      display: none;\n",
              "      fill: #1967D2;\n",
              "      height: 32px;\n",
              "      padding: 0 0 0 0;\n",
              "      width: 32px;\n",
              "    }\n",
              "\n",
              "    .colab-df-convert:hover {\n",
              "      background-color: #E2EBFA;\n",
              "      box-shadow: 0px 1px 2px rgba(60, 64, 67, 0.3), 0px 1px 3px 1px rgba(60, 64, 67, 0.15);\n",
              "      fill: #174EA6;\n",
              "    }\n",
              "\n",
              "    .colab-df-buttons div {\n",
              "      margin-bottom: 4px;\n",
              "    }\n",
              "\n",
              "    [theme=dark] .colab-df-convert {\n",
              "      background-color: #3B4455;\n",
              "      fill: #D2E3FC;\n",
              "    }\n",
              "\n",
              "    [theme=dark] .colab-df-convert:hover {\n",
              "      background-color: #434B5C;\n",
              "      box-shadow: 0px 1px 3px 1px rgba(0, 0, 0, 0.15);\n",
              "      filter: drop-shadow(0px 1px 2px rgba(0, 0, 0, 0.3));\n",
              "      fill: #FFFFFF;\n",
              "    }\n",
              "  </style>\n",
              "\n",
              "    <script>\n",
              "      const buttonEl =\n",
              "        document.querySelector('#df-91a96128-15e8-4764-8e7b-85d81d26fe47 button.colab-df-convert');\n",
              "      buttonEl.style.display =\n",
              "        google.colab.kernel.accessAllowed ? 'block' : 'none';\n",
              "\n",
              "      async function convertToInteractive(key) {\n",
              "        const element = document.querySelector('#df-91a96128-15e8-4764-8e7b-85d81d26fe47');\n",
              "        const dataTable =\n",
              "          await google.colab.kernel.invokeFunction('convertToInteractive',\n",
              "                                                    [key], {});\n",
              "        if (!dataTable) return;\n",
              "\n",
              "        const docLinkHtml = 'Like what you see? Visit the ' +\n",
              "          '<a target=\"_blank\" href=https://colab.research.google.com/notebooks/data_table.ipynb>data table notebook</a>'\n",
              "          + ' to learn more about interactive tables.';\n",
              "        element.innerHTML = '';\n",
              "        dataTable['output_type'] = 'display_data';\n",
              "        await google.colab.output.renderOutput(dataTable, element);\n",
              "        const docLink = document.createElement('div');\n",
              "        docLink.innerHTML = docLinkHtml;\n",
              "        element.appendChild(docLink);\n",
              "      }\n",
              "    </script>\n",
              "  </div>\n",
              "\n",
              "    </div>\n",
              "  </div>\n"
            ]
          },
          "metadata": {},
          "execution_count": 680
        }
      ]
    },
    {
      "cell_type": "code",
      "source": [
        "df['os'].value_counts()"
      ],
      "metadata": {
        "colab": {
          "base_uri": "https://localhost:8080/"
        },
        "id": "EUwa17xFmLR1",
        "outputId": "522987d9-f2c1-4e0d-9ac7-c5c9f818679f"
      },
      "execution_count": 681,
      "outputs": [
        {
          "output_type": "execute_result",
          "data": {
            "text/plain": [
              "Android Pie 9                107\n",
              "Android Oreo 8.1              79\n",
              "Android Pie 9.0               75\n",
              "Android 10                    66\n",
              "Android Pie 10                15\n",
              "Android Oreo 8.1.0            12\n",
              "Android Nougat 7.1.2          10\n",
              "Android Nougat 7.1             8\n",
              "Android Nougat 7               7\n",
              "Android Oreo 8                 7\n",
              "Android Oreo 8.0               6\n",
              "Android Lollipop 5.1           3\n",
              "Android Marshmallow 6          3\n",
              "Android Marshmallow 6.0.1      2\n",
              "Android Lollipop 5.4.1         1\n",
              "Android Nougat 7.1.1           1\n",
              "Android Lollipop 5.1.1         1\n",
              "Name: os, dtype: int64"
            ]
          },
          "metadata": {},
          "execution_count": 681
        }
      ]
    },
    {
      "cell_type": "code",
      "source": [
        "def os_processor(text):\n",
        "    if text == 'Android Pie 9.0':\n",
        "        return 'Android Pie 9'\n",
        "    elif text in ['Android Pie 9', 'Android Oreo 8.1', 'Android Pie 9.0', 'Android 10']:\n",
        "        return text\n",
        "    else:\n",
        "        return 'other'\n"
      ],
      "metadata": {
        "id": "N-4t7wiGmRRk"
      },
      "execution_count": 682,
      "outputs": []
    },
    {
      "cell_type": "code",
      "source": [
        "df['os'] = df['os'].apply(lambda x:os_processor(x))"
      ],
      "metadata": {
        "id": "dLQCjUrUnIIy"
      },
      "execution_count": 683,
      "outputs": []
    },
    {
      "cell_type": "code",
      "source": [
        "# df['os'].value_counts().plot(kind='bar')\n",
        "df['os'].value_counts()"
      ],
      "metadata": {
        "colab": {
          "base_uri": "https://localhost:8080/"
        },
        "id": "Kf7Jo4OhnWn9",
        "outputId": "b1f315d7-52af-4f6f-e963-112cc7540499"
      },
      "execution_count": 684,
      "outputs": [
        {
          "output_type": "execute_result",
          "data": {
            "text/plain": [
              "Android Pie 9       182\n",
              "Android Oreo 8.1     79\n",
              "other                76\n",
              "Android 10           66\n",
              "Name: os, dtype: int64"
            ]
          },
          "metadata": {},
          "execution_count": 684
        }
      ]
    },
    {
      "cell_type": "code",
      "source": [
        "sns.barplot(x=df['os'],y=df['mobile_price'])\n",
        "plt.xticks(rotation='vertical')\n",
        "plt.show()\n"
      ],
      "metadata": {
        "colab": {
          "base_uri": "https://localhost:8080/",
          "height": 554
        },
        "id": "5dkUlU5Ynqx6",
        "outputId": "5ca983e1-d5f8-4891-a4dd-52db3cf7dc62"
      },
      "execution_count": 685,
      "outputs": [
        {
          "output_type": "display_data",
          "data": {
            "text/plain": [
              "<Figure size 640x480 with 1 Axes>"
            ],
            "image/png": "[encoded data removed]"
          },
          "metadata": {}
        }
      ]
    },
    {
      "cell_type": "code",
      "source": [
        "df.corr()['mobile_price']"
      ],
      "metadata": {
        "colab": {
          "base_uri": "https://localhost:8080/"
        },
        "id": "XnrtRYlVoJMi",
        "outputId": "e6a38d43-cae2-4e5a-c2bf-9c06522c39f4"
      },
      "execution_count": 686,
      "outputs": [
        {
          "output_type": "stream",
          "name": "stderr",
          "text": [
            "<ipython-input-686-f1a7ef7ca649>:1: FutureWarning: The default value of numeric_only in DataFrame.corr is deprecated. In a future version, it will default to False. Select only valid columns or specify the value of numeric_only to silence this warning.\n",
            "  df.corr()['mobile_price']\n"
          ]
        },
        {
          "output_type": "execute_result",
          "data": {
            "text/plain": [
              "mobile_price    1.000000\n",
              "disp_size       0.367067\n",
              "res_dim_1       0.410193\n",
              "res_dim_2       0.229511\n",
              "Name: mobile_price, dtype: float64"
            ]
          },
          "metadata": {},
          "execution_count": 686
        }
      ]
    },
    {
      "cell_type": "code",
      "source": [
        "df.head(1)"
      ],
      "metadata": {
        "colab": {
          "base_uri": "https://localhost:8080/",
          "height": 170
        },
        "id": "yrrUbistrleJ",
        "outputId": "fc50e517-8387-4b6b-9672-8e8a26bc2c12"
      },
      "execution_count": 687,
      "outputs": [
        {
          "output_type": "execute_result",
          "data": {
            "text/plain": [
              "   mobile_price mobile_color  dual_sim  disp_size          os  num_cores  \\\n",
              "0          8999        Other  Dual Sim       6.52  Android 10  Octa Core   \n",
              "\n",
              "  mp_speed int_memory   ram             p_cam             f_cam  \\\n",
              "0    2 GHz      32 GB  3 GB  12MP + 2MP + 2MP  5MP Front Camera   \n",
              "\n",
              "                network bluetooth battery_power mob_width mob_height  \\\n",
              "0  4G VOLTE, 4G, 3G, 2G       Yes      5000 mAh     75 mm   164.4 mm   \n",
              "\n",
              "  mob_depth mob_weight  res_dim_1  res_dim_2  \n",
              "0   8.95 mm      195 g       1600        720  "
            ],
            "text/html": [
              "\n",
              "  <div id=\"df-4b31e6da-70e8-4817-a98d-33ff24ff0e31\" class=\"colab-df-container\">\n",
              "    <div>\n",
              "<style scoped>\n",
              "    .dataframe tbody tr th:only-of-type {\n",
              "        vertical-align: middle;\n",
              "    }\n",
              "\n",
              "    .dataframe tbody tr th {\n",
              "        vertical-align: top;\n",
              "    }\n",
              "\n",
              "    .dataframe thead th {\n",
              "        text-align: right;\n",
              "    }\n",
              "</style>\n",
              "<table border=\"1\" class=\"dataframe\">\n",
              "  <thead>\n",
              "    <tr style=\"text-align: right;\">\n",
              "      <th></th>\n",
              "      <th>mobile_price</th>\n",
              "      <th>mobile_color</th>\n",
              "      <th>dual_sim</th>\n",
              "      <th>disp_size</th>\n",
              "      <th>os</th>\n",
              "      <th>num_cores</th>\n",
              "      <th>mp_speed</th>\n",
              "      <th>int_memory</th>\n",
              "      <th>ram</th>\n",
              "      <th>p_cam</th>\n",
              "      <th>f_cam</th>\n",
              "      <th>network</th>\n",
              "      <th>bluetooth</th>\n",
              "      <th>battery_power</th>\n",
              "      <th>mob_width</th>\n",
              "      <th>mob_height</th>\n",
              "      <th>mob_depth</th>\n",
              "      <th>mob_weight</th>\n",
              "      <th>res_dim_1</th>\n",
              "      <th>res_dim_2</th>\n",
              "    </tr>\n",
              "  </thead>\n",
              "  <tbody>\n",
              "    <tr>\n",
              "      <th>0</th>\n",
              "      <td>8999</td>\n",
              "      <td>Other</td>\n",
              "      <td>Dual Sim</td>\n",
              "      <td>6.52</td>\n",
              "      <td>Android 10</td>\n",
              "      <td>Octa Core</td>\n",
              "      <td>2 GHz</td>\n",
              "      <td>32 GB</td>\n",
              "      <td>3 GB</td>\n",
              "      <td>12MP + 2MP + 2MP</td>\n",
              "      <td>5MP Front Camera</td>\n",
              "      <td>4G VOLTE, 4G, 3G, 2G</td>\n",
              "      <td>Yes</td>\n",
              "      <td>5000 mAh</td>\n",
              "      <td>75 mm</td>\n",
              "      <td>164.4 mm</td>\n",
              "      <td>8.95 mm</td>\n",
              "      <td>195 g</td>\n",
              "      <td>1600</td>\n",
              "      <td>720</td>\n",
              "    </tr>\n",
              "  </tbody>\n",
              "</table>\n",
              "</div>\n",
              "    <div class=\"colab-df-buttons\">\n",
              "\n",
              "  <div class=\"colab-df-container\">\n",
              "    <button class=\"colab-df-convert\" onclick=\"convertToInteractive('df-4b31e6da-70e8-4817-a98d-33ff24ff0e31')\"\n",
              "            title=\"Convert this dataframe to an interactive table.\"\n",
              "            style=\"display:none;\">\n",
              "\n",
              "  <svg xmlns=\"http://www.w3.org/2000/svg\" height=\"24px\" viewBox=\"0 -960 960 960\">\n",
              "    <path d=\"M120-120v-720h720v720H120Zm60-500h600v-160H180v160Zm220 220h160v-160H400v160Zm0 220h160v-160H400v160ZM180-400h160v-160H180v160Zm440 0h160v-160H620v160ZM180-180h160v-160H180v160Zm440 0h160v-160H620v160Z\"/>\n",
              "  </svg>\n",
              "    </button>\n",
              "\n",
              "  <style>\n",
              "    .colab-df-container {\n",
              "      display:flex;\n",
              "      gap: 12px;\n",
              "    }\n",
              "\n",
              "    .colab-df-convert {\n",
              "      background-color: #E8F0FE;\n",
              "      border: none;\n",
              "      border-radius: 50%;\n",
              "      cursor: pointer;\n",
              "      display: none;\n",
              "      fill: #1967D2;\n",
              "      height: 32px;\n",
              "      padding: 0 0 0 0;\n",
              "      width: 32px;\n",
              "    }\n",
              "\n",
              "    .colab-df-convert:hover {\n",
              "      background-color: #E2EBFA;\n",
              "      box-shadow: 0px 1px 2px rgba(60, 64, 67, 0.3), 0px 1px 3px 1px rgba(60, 64, 67, 0.15);\n",
              "      fill: #174EA6;\n",
              "    }\n",
              "\n",
              "    .colab-df-buttons div {\n",
              "      margin-bottom: 4px;\n",
              "    }\n",
              "\n",
              "    [theme=dark] .colab-df-convert {\n",
              "      background-color: #3B4455;\n",
              "      fill: #D2E3FC;\n",
              "    }\n",
              "\n",
              "    [theme=dark] .colab-df-convert:hover {\n",
              "      background-color: #434B5C;\n",
              "      box-shadow: 0px 1px 3px 1px rgba(0, 0, 0, 0.15);\n",
              "      filter: drop-shadow(0px 1px 2px rgba(0, 0, 0, 0.3));\n",
              "      fill: #FFFFFF;\n",
              "    }\n",
              "  </style>\n",
              "\n",
              "    <script>\n",
              "      const buttonEl =\n",
              "        document.querySelector('#df-4b31e6da-70e8-4817-a98d-33ff24ff0e31 button.colab-df-convert');\n",
              "      buttonEl.style.display =\n",
              "        google.colab.kernel.accessAllowed ? 'block' : 'none';\n",
              "\n",
              "      async function convertToInteractive(key) {\n",
              "        const element = document.querySelector('#df-4b31e6da-70e8-4817-a98d-33ff24ff0e31');\n",
              "        const dataTable =\n",
              "          await google.colab.kernel.invokeFunction('convertToInteractive',\n",
              "                                                    [key], {});\n",
              "        if (!dataTable) return;\n",
              "\n",
              "        const docLinkHtml = 'Like what you see? Visit the ' +\n",
              "          '<a target=\"_blank\" href=https://colab.research.google.com/notebooks/data_table.ipynb>data table notebook</a>'\n",
              "          + ' to learn more about interactive tables.';\n",
              "        element.innerHTML = '';\n",
              "        dataTable['output_type'] = 'display_data';\n",
              "        await google.colab.output.renderOutput(dataTable, element);\n",
              "        const docLink = document.createElement('div');\n",
              "        docLink.innerHTML = docLinkHtml;\n",
              "        element.appendChild(docLink);\n",
              "      }\n",
              "    </script>\n",
              "  </div>\n",
              "\n",
              "    </div>\n",
              "  </div>\n"
            ]
          },
          "metadata": {},
          "execution_count": 687
        }
      ]
    },
    {
      "cell_type": "code",
      "source": [
        "df['num_cores'].value_counts()"
      ],
      "metadata": {
        "colab": {
          "base_uri": "https://localhost:8080/"
        },
        "id": "qtkko5MorvXh",
        "outputId": "a4ec3009-b3c2-4abf-e3d6-5c10c203f1da"
      },
      "execution_count": 688,
      "outputs": [
        {
          "output_type": "execute_result",
          "data": {
            "text/plain": [
              "Octa Core      391\n",
              "Quad Core       11\n",
              "Single Core      1\n",
              "Name: num_cores, dtype: int64"
            ]
          },
          "metadata": {},
          "execution_count": 688
        }
      ]
    },
    {
      "cell_type": "code",
      "source": [
        "df = df[df['num_cores']!='Single Core']"
      ],
      "metadata": {
        "id": "-KdSXAV_r2Rq"
      },
      "execution_count": 689,
      "outputs": []
    },
    {
      "cell_type": "code",
      "source": [
        "df['num_cores'].value_counts()"
      ],
      "metadata": {
        "colab": {
          "base_uri": "https://localhost:8080/"
        },
        "id": "01TwPFNTsE2T",
        "outputId": "e5ab9ff9-4dfa-4559-d560-254c718fdc1c"
      },
      "execution_count": 690,
      "outputs": [
        {
          "output_type": "execute_result",
          "data": {
            "text/plain": [
              "Octa Core    391\n",
              "Quad Core     11\n",
              "Name: num_cores, dtype: int64"
            ]
          },
          "metadata": {},
          "execution_count": 690
        }
      ]
    },
    {
      "cell_type": "code",
      "source": [
        "sns.barplot(x=df['num_cores'],y=df['mobile_price'])\n",
        "plt.xticks(rotation='vertical')\n",
        "plt.show()"
      ],
      "metadata": {
        "colab": {
          "base_uri": "https://localhost:8080/",
          "height": 509
        },
        "id": "TS-q1x0SsT7C",
        "outputId": "572d8d52-86a2-4ce7-f315-9d4adc307ee8"
      },
      "execution_count": 691,
      "outputs": [
        {
          "output_type": "display_data",
          "data": {
            "text/plain": [
              "<Figure size 640x480 with 1 Axes>"
            ],
            "image/png": "[encoded data removed]"
          },
          "metadata": {}
        }
      ]
    },
    {
      "cell_type": "code",
      "source": [
        "df.head(1)"
      ],
      "metadata": {
        "colab": {
          "base_uri": "https://localhost:8080/",
          "height": 170
        },
        "id": "mitaAnYxscGJ",
        "outputId": "8e4da96c-fbf6-424c-fe5f-eed3506cab2d"
      },
      "execution_count": 692,
      "outputs": [
        {
          "output_type": "execute_result",
          "data": {
            "text/plain": [
              "   mobile_price mobile_color  dual_sim  disp_size          os  num_cores  \\\n",
              "0          8999        Other  Dual Sim       6.52  Android 10  Octa Core   \n",
              "\n",
              "  mp_speed int_memory   ram             p_cam             f_cam  \\\n",
              "0    2 GHz      32 GB  3 GB  12MP + 2MP + 2MP  5MP Front Camera   \n",
              "\n",
              "                network bluetooth battery_power mob_width mob_height  \\\n",
              "0  4G VOLTE, 4G, 3G, 2G       Yes      5000 mAh     75 mm   164.4 mm   \n",
              "\n",
              "  mob_depth mob_weight  res_dim_1  res_dim_2  \n",
              "0   8.95 mm      195 g       1600        720  "
            ],
            "text/html": [
              "\n",
              "  <div id=\"df-f191b8aa-858b-4f97-9ae0-c47bf6311c6c\" class=\"colab-df-container\">\n",
              "    <div>\n",
              "<style scoped>\n",
              "    .dataframe tbody tr th:only-of-type {\n",
              "        vertical-align: middle;\n",
              "    }\n",
              "\n",
              "    .dataframe tbody tr th {\n",
              "        vertical-align: top;\n",
              "    }\n",
              "\n",
              "    .dataframe thead th {\n",
              "        text-align: right;\n",
              "    }\n",
              "</style>\n",
              "<table border=\"1\" class=\"dataframe\">\n",
              "  <thead>\n",
              "    <tr style=\"text-align: right;\">\n",
              "      <th></th>\n",
              "      <th>mobile_price</th>\n",
              "      <th>mobile_color</th>\n",
              "      <th>dual_sim</th>\n",
              "      <th>disp_size</th>\n",
              "      <th>os</th>\n",
              "      <th>num_cores</th>\n",
              "      <th>mp_speed</th>\n",
              "      <th>int_memory</th>\n",
              "      <th>ram</th>\n",
              "      <th>p_cam</th>\n",
              "      <th>f_cam</th>\n",
              "      <th>network</th>\n",
              "      <th>bluetooth</th>\n",
              "      <th>battery_power</th>\n",
              "      <th>mob_width</th>\n",
              "      <th>mob_height</th>\n",
              "      <th>mob_depth</th>\n",
              "      <th>mob_weight</th>\n",
              "      <th>res_dim_1</th>\n",
              "      <th>res_dim_2</th>\n",
              "    </tr>\n",
              "  </thead>\n",
              "  <tbody>\n",
              "    <tr>\n",
              "      <th>0</th>\n",
              "      <td>8999</td>\n",
              "      <td>Other</td>\n",
              "      <td>Dual Sim</td>\n",
              "      <td>6.52</td>\n",
              "      <td>Android 10</td>\n",
              "      <td>Octa Core</td>\n",
              "      <td>2 GHz</td>\n",
              "      <td>32 GB</td>\n",
              "      <td>3 GB</td>\n",
              "      <td>12MP + 2MP + 2MP</td>\n",
              "      <td>5MP Front Camera</td>\n",
              "      <td>4G VOLTE, 4G, 3G, 2G</td>\n",
              "      <td>Yes</td>\n",
              "      <td>5000 mAh</td>\n",
              "      <td>75 mm</td>\n",
              "      <td>164.4 mm</td>\n",
              "      <td>8.95 mm</td>\n",
              "      <td>195 g</td>\n",
              "      <td>1600</td>\n",
              "      <td>720</td>\n",
              "    </tr>\n",
              "  </tbody>\n",
              "</table>\n",
              "</div>\n",
              "    <div class=\"colab-df-buttons\">\n",
              "\n",
              "  <div class=\"colab-df-container\">\n",
              "    <button class=\"colab-df-convert\" onclick=\"convertToInteractive('df-f191b8aa-858b-4f97-9ae0-c47bf6311c6c')\"\n",
              "            title=\"Convert this dataframe to an interactive table.\"\n",
              "            style=\"display:none;\">\n",
              "\n",
              "  <svg xmlns=\"http://www.w3.org/2000/svg\" height=\"24px\" viewBox=\"0 -960 960 960\">\n",
              "    <path d=\"M120-120v-720h720v720H120Zm60-500h600v-160H180v160Zm220 220h160v-160H400v160Zm0 220h160v-160H400v160ZM180-400h160v-160H180v160Zm440 0h160v-160H620v160ZM180-180h160v-160H180v160Zm440 0h160v-160H620v160Z\"/>\n",
              "  </svg>\n",
              "    </button>\n",
              "\n",
              "  <style>\n",
              "    .colab-df-container {\n",
              "      display:flex;\n",
              "      gap: 12px;\n",
              "    }\n",
              "\n",
              "    .colab-df-convert {\n",
              "      background-color: #E8F0FE;\n",
              "      border: none;\n",
              "      border-radius: 50%;\n",
              "      cursor: pointer;\n",
              "      display: none;\n",
              "      fill: #1967D2;\n",
              "      height: 32px;\n",
              "      padding: 0 0 0 0;\n",
              "      width: 32px;\n",
              "    }\n",
              "\n",
              "    .colab-df-convert:hover {\n",
              "      background-color: #E2EBFA;\n",
              "      box-shadow: 0px 1px 2px rgba(60, 64, 67, 0.3), 0px 1px 3px 1px rgba(60, 64, 67, 0.15);\n",
              "      fill: #174EA6;\n",
              "    }\n",
              "\n",
              "    .colab-df-buttons div {\n",
              "      margin-bottom: 4px;\n",
              "    }\n",
              "\n",
              "    [theme=dark] .colab-df-convert {\n",
              "      background-color: #3B4455;\n",
              "      fill: #D2E3FC;\n",
              "    }\n",
              "\n",
              "    [theme=dark] .colab-df-convert:hover {\n",
              "      background-color: #434B5C;\n",
              "      box-shadow: 0px 1px 3px 1px rgba(0, 0, 0, 0.15);\n",
              "      filter: drop-shadow(0px 1px 2px rgba(0, 0, 0, 0.3));\n",
              "      fill: #FFFFFF;\n",
              "    }\n",
              "  </style>\n",
              "\n",
              "    <script>\n",
              "      const buttonEl =\n",
              "        document.querySelector('#df-f191b8aa-858b-4f97-9ae0-c47bf6311c6c button.colab-df-convert');\n",
              "      buttonEl.style.display =\n",
              "        google.colab.kernel.accessAllowed ? 'block' : 'none';\n",
              "\n",
              "      async function convertToInteractive(key) {\n",
              "        const element = document.querySelector('#df-f191b8aa-858b-4f97-9ae0-c47bf6311c6c');\n",
              "        const dataTable =\n",
              "          await google.colab.kernel.invokeFunction('convertToInteractive',\n",
              "                                                    [key], {});\n",
              "        if (!dataTable) return;\n",
              "\n",
              "        const docLinkHtml = 'Like what you see? Visit the ' +\n",
              "          '<a target=\"_blank\" href=https://colab.research.google.com/notebooks/data_table.ipynb>data table notebook</a>'\n",
              "          + ' to learn more about interactive tables.';\n",
              "        element.innerHTML = '';\n",
              "        dataTable['output_type'] = 'display_data';\n",
              "        await google.colab.output.renderOutput(dataTable, element);\n",
              "        const docLink = document.createElement('div');\n",
              "        docLink.innerHTML = docLinkHtml;\n",
              "        element.appendChild(docLink);\n",
              "      }\n",
              "    </script>\n",
              "  </div>\n",
              "\n",
              "    </div>\n",
              "  </div>\n"
            ]
          },
          "metadata": {},
          "execution_count": 692
        }
      ]
    },
    {
      "cell_type": "code",
      "source": [
        "df['mp_speed'].value_counts()"
      ],
      "metadata": {
        "colab": {
          "base_uri": "https://localhost:8080/"
        },
        "id": "XrtHZy8psl4c",
        "outputId": "90690dde-8421-44c0-9d7a-3de15ab58dd7"
      },
      "execution_count": 693,
      "outputs": [
        {
          "output_type": "execute_result",
          "data": {
            "text/plain": [
              "2 GHz        133\n",
              "2.3 GHz       60\n",
              "2.2 GHz       45\n",
              "1.8 GHz       40\n",
              "1.4 GHz       22\n",
              "2.8 GHz       20\n",
              "2.1 GHz       18\n",
              "1.95 GHz      17\n",
              "2.96 GHz      15\n",
              "2.84 GHz      10\n",
              "2.5 GHz        5\n",
              "2.05 GHz       3\n",
              "1.6 GHz        3\n",
              "2.39 GHz       3\n",
              "2.6 GHz        3\n",
              "1.5 GHz        2\n",
              "2.649 GHz      2\n",
              "1.3 GHz        1\n",
              "Name: mp_speed, dtype: int64"
            ]
          },
          "metadata": {},
          "execution_count": 693
        }
      ]
    },
    {
      "cell_type": "code",
      "source": [
        "def mp_speed_preprocess(x):\n",
        "  return x.split()[0]"
      ],
      "metadata": {
        "id": "rLk4VqCltgwd"
      },
      "execution_count": 694,
      "outputs": []
    },
    {
      "cell_type": "code",
      "source": [
        "df['mp_speed'] = df['mp_speed'].apply(lambda x:mp_speed_preprocess(x))"
      ],
      "metadata": {
        "id": "7tu3YjhksweF"
      },
      "execution_count": 695,
      "outputs": []
    },
    {
      "cell_type": "code",
      "source": [
        "df['mp_speed'] = df['mp_speed'].astype('float32')"
      ],
      "metadata": {
        "id": "UJl006PGt2T4"
      },
      "execution_count": 696,
      "outputs": []
    },
    {
      "cell_type": "code",
      "source": [
        "df.info()"
      ],
      "metadata": {
        "colab": {
          "base_uri": "https://localhost:8080/"
        },
        "id": "9LkwLp1Wt-5H",
        "outputId": "e2425803-774f-4395-884f-f9bd86978bfa"
      },
      "execution_count": 697,
      "outputs": [
        {
          "output_type": "stream",
          "name": "stdout",
          "text": [
            "<class 'pandas.core.frame.DataFrame'>\n",
            "Int64Index: 402 entries, 0 to 447\n",
            "Data columns (total 20 columns):\n",
            " #   Column         Non-Null Count  Dtype  \n",
            "---  ------         --------------  -----  \n",
            " 0   mobile_price   402 non-null    int32  \n",
            " 1   mobile_color   402 non-null    object \n",
            " 2   dual_sim       402 non-null    object \n",
            " 3   disp_size      402 non-null    float32\n",
            " 4   os             402 non-null    object \n",
            " 5   num_cores      402 non-null    object \n",
            " 6   mp_speed       402 non-null    float32\n",
            " 7   int_memory     402 non-null    object \n",
            " 8   ram            402 non-null    object \n",
            " 9   p_cam          402 non-null    object \n",
            " 10  f_cam          402 non-null    object \n",
            " 11  network        402 non-null    object \n",
            " 12  bluetooth      402 non-null    object \n",
            " 13  battery_power  402 non-null    object \n",
            " 14  mob_width      402 non-null    object \n",
            " 15  mob_height     402 non-null    object \n",
            " 16  mob_depth      402 non-null    object \n",
            " 17  mob_weight     402 non-null    object \n",
            " 18  res_dim_1      402 non-null    int64  \n",
            " 19  res_dim_2      402 non-null    int64  \n",
            "dtypes: float32(2), int32(1), int64(2), object(15)\n",
            "memory usage: 61.2+ KB\n"
          ]
        }
      ]
    },
    {
      "cell_type": "code",
      "source": [
        "sns.scatterplot(x=df['mp_speed'],y=df['mobile_price'])"
      ],
      "metadata": {
        "colab": {
          "base_uri": "https://localhost:8080/",
          "height": 467
        },
        "id": "tOnO4BeSuAWD",
        "outputId": "1038048f-79a1-4a64-a07d-ada8049bcb14"
      },
      "execution_count": 698,
      "outputs": [
        {
          "output_type": "execute_result",
          "data": {
            "text/plain": [
              "<Axes: xlabel='mp_speed', ylabel='mobile_price'>"
            ]
          },
          "metadata": {},
          "execution_count": 698
        },
        {
          "output_type": "display_data",
          "data": {
            "text/plain": [
              "<Figure size 640x480 with 1 Axes>"
            ],
            "image/png": "[encoded data removed]"
          },
          "metadata": {}
        }
      ]
    },
    {
      "cell_type": "code",
      "source": [
        "df.corr()['mobile_price']"
      ],
      "metadata": {
        "colab": {
          "base_uri": "https://localhost:8080/"
        },
        "id": "Rld7BEGkuTI2",
        "outputId": "431deb0e-afe2-40a9-ab58-8e63f5ca6a09"
      },
      "execution_count": 699,
      "outputs": [
        {
          "output_type": "stream",
          "name": "stderr",
          "text": [
            "<ipython-input-699-f1a7ef7ca649>:1: FutureWarning: The default value of numeric_only in DataFrame.corr is deprecated. In a future version, it will default to False. Select only valid columns or specify the value of numeric_only to silence this warning.\n",
            "  df.corr()['mobile_price']\n"
          ]
        },
        {
          "output_type": "execute_result",
          "data": {
            "text/plain": [
              "mobile_price    1.000000\n",
              "disp_size       0.366649\n",
              "mp_speed        0.606659\n",
              "res_dim_1       0.409634\n",
              "res_dim_2       0.230158\n",
              "Name: mobile_price, dtype: float64"
            ]
          },
          "metadata": {},
          "execution_count": 699
        }
      ]
    },
    {
      "cell_type": "code",
      "source": [
        "df.head(1)"
      ],
      "metadata": {
        "colab": {
          "base_uri": "https://localhost:8080/",
          "height": 170
        },
        "id": "-ym8b1eVueTA",
        "outputId": "9b2f184a-8406-46bb-db21-7611cc7a75f6"
      },
      "execution_count": 700,
      "outputs": [
        {
          "output_type": "execute_result",
          "data": {
            "text/plain": [
              "   mobile_price mobile_color  dual_sim  disp_size          os  num_cores  \\\n",
              "0          8999        Other  Dual Sim       6.52  Android 10  Octa Core   \n",
              "\n",
              "   mp_speed int_memory   ram             p_cam             f_cam  \\\n",
              "0       2.0      32 GB  3 GB  12MP + 2MP + 2MP  5MP Front Camera   \n",
              "\n",
              "                network bluetooth battery_power mob_width mob_height  \\\n",
              "0  4G VOLTE, 4G, 3G, 2G       Yes      5000 mAh     75 mm   164.4 mm   \n",
              "\n",
              "  mob_depth mob_weight  res_dim_1  res_dim_2  \n",
              "0   8.95 mm      195 g       1600        720  "
            ],
            "text/html": [
              "\n",
              "  <div id=\"df-c2a3de48-8e06-4a6c-822b-5b351e2c9305\" class=\"colab-df-container\">\n",
              "    <div>\n",
              "<style scoped>\n",
              "    .dataframe tbody tr th:only-of-type {\n",
              "        vertical-align: middle;\n",
              "    }\n",
              "\n",
              "    .dataframe tbody tr th {\n",
              "        vertical-align: top;\n",
              "    }\n",
              "\n",
              "    .dataframe thead th {\n",
              "        text-align: right;\n",
              "    }\n",
              "</style>\n",
              "<table border=\"1\" class=\"dataframe\">\n",
              "  <thead>\n",
              "    <tr style=\"text-align: right;\">\n",
              "      <th></th>\n",
              "      <th>mobile_price</th>\n",
              "      <th>mobile_color</th>\n",
              "      <th>dual_sim</th>\n",
              "      <th>disp_size</th>\n",
              "      <th>os</th>\n",
              "      <th>num_cores</th>\n",
              "      <th>mp_speed</th>\n",
              "      <th>int_memory</th>\n",
              "      <th>ram</th>\n",
              "      <th>p_cam</th>\n",
              "      <th>f_cam</th>\n",
              "      <th>network</th>\n",
              "      <th>bluetooth</th>\n",
              "      <th>battery_power</th>\n",
              "      <th>mob_width</th>\n",
              "      <th>mob_height</th>\n",
              "      <th>mob_depth</th>\n",
              "      <th>mob_weight</th>\n",
              "      <th>res_dim_1</th>\n",
              "      <th>res_dim_2</th>\n",
              "    </tr>\n",
              "  </thead>\n",
              "  <tbody>\n",
              "    <tr>\n",
              "      <th>0</th>\n",
              "      <td>8999</td>\n",
              "      <td>Other</td>\n",
              "      <td>Dual Sim</td>\n",
              "      <td>6.52</td>\n",
              "      <td>Android 10</td>\n",
              "      <td>Octa Core</td>\n",
              "      <td>2.0</td>\n",
              "      <td>32 GB</td>\n",
              "      <td>3 GB</td>\n",
              "      <td>12MP + 2MP + 2MP</td>\n",
              "      <td>5MP Front Camera</td>\n",
              "      <td>4G VOLTE, 4G, 3G, 2G</td>\n",
              "      <td>Yes</td>\n",
              "      <td>5000 mAh</td>\n",
              "      <td>75 mm</td>\n",
              "      <td>164.4 mm</td>\n",
              "      <td>8.95 mm</td>\n",
              "      <td>195 g</td>\n",
              "      <td>1600</td>\n",
              "      <td>720</td>\n",
              "    </tr>\n",
              "  </tbody>\n",
              "</table>\n",
              "</div>\n",
              "    <div class=\"colab-df-buttons\">\n",
              "\n",
              "  <div class=\"colab-df-container\">\n",
              "    <button class=\"colab-df-convert\" onclick=\"convertToInteractive('df-c2a3de48-8e06-4a6c-822b-5b351e2c9305')\"\n",
              "            title=\"Convert this dataframe to an interactive table.\"\n",
              "            style=\"display:none;\">\n",
              "\n",
              "  <svg xmlns=\"http://www.w3.org/2000/svg\" height=\"24px\" viewBox=\"0 -960 960 960\">\n",
              "    <path d=\"M120-120v-720h720v720H120Zm60-500h600v-160H180v160Zm220 220h160v-160H400v160Zm0 220h160v-160H400v160ZM180-400h160v-160H180v160Zm440 0h160v-160H620v160ZM180-180h160v-160H180v160Zm440 0h160v-160H620v160Z\"/>\n",
              "  </svg>\n",
              "    </button>\n",
              "\n",
              "  <style>\n",
              "    .colab-df-container {\n",
              "      display:flex;\n",
              "      gap: 12px;\n",
              "    }\n",
              "\n",
              "    .colab-df-convert {\n",
              "      background-color: #E8F0FE;\n",
              "      border: none;\n",
              "      border-radius: 50%;\n",
              "      cursor: pointer;\n",
              "      display: none;\n",
              "      fill: #1967D2;\n",
              "      height: 32px;\n",
              "      padding: 0 0 0 0;\n",
              "      width: 32px;\n",
              "    }\n",
              "\n",
              "    .colab-df-convert:hover {\n",
              "      background-color: #E2EBFA;\n",
              "      box-shadow: 0px 1px 2px rgba(60, 64, 67, 0.3), 0px 1px 3px 1px rgba(60, 64, 67, 0.15);\n",
              "      fill: #174EA6;\n",
              "    }\n",
              "\n",
              "    .colab-df-buttons div {\n",
              "      margin-bottom: 4px;\n",
              "    }\n",
              "\n",
              "    [theme=dark] .colab-df-convert {\n",
              "      background-color: #3B4455;\n",
              "      fill: #D2E3FC;\n",
              "    }\n",
              "\n",
              "    [theme=dark] .colab-df-convert:hover {\n",
              "      background-color: #434B5C;\n",
              "      box-shadow: 0px 1px 3px 1px rgba(0, 0, 0, 0.15);\n",
              "      filter: drop-shadow(0px 1px 2px rgba(0, 0, 0, 0.3));\n",
              "      fill: #FFFFFF;\n",
              "    }\n",
              "  </style>\n",
              "\n",
              "    <script>\n",
              "      const buttonEl =\n",
              "        document.querySelector('#df-c2a3de48-8e06-4a6c-822b-5b351e2c9305 button.colab-df-convert');\n",
              "      buttonEl.style.display =\n",
              "        google.colab.kernel.accessAllowed ? 'block' : 'none';\n",
              "\n",
              "      async function convertToInteractive(key) {\n",
              "        const element = document.querySelector('#df-c2a3de48-8e06-4a6c-822b-5b351e2c9305');\n",
              "        const dataTable =\n",
              "          await google.colab.kernel.invokeFunction('convertToInteractive',\n",
              "                                                    [key], {});\n",
              "        if (!dataTable) return;\n",
              "\n",
              "        const docLinkHtml = 'Like what you see? Visit the ' +\n",
              "          '<a target=\"_blank\" href=https://colab.research.google.com/notebooks/data_table.ipynb>data table notebook</a>'\n",
              "          + ' to learn more about interactive tables.';\n",
              "        element.innerHTML = '';\n",
              "        dataTable['output_type'] = 'display_data';\n",
              "        await google.colab.output.renderOutput(dataTable, element);\n",
              "        const docLink = document.createElement('div');\n",
              "        docLink.innerHTML = docLinkHtml;\n",
              "        element.appendChild(docLink);\n",
              "      }\n",
              "    </script>\n",
              "  </div>\n",
              "\n",
              "    </div>\n",
              "  </div>\n"
            ]
          },
          "metadata": {},
          "execution_count": 700
        }
      ]
    },
    {
      "cell_type": "code",
      "source": [
        "df['int_memory'].value_counts()"
      ],
      "metadata": {
        "colab": {
          "base_uri": "https://localhost:8080/"
        },
        "id": "KyXVbT3Cul73",
        "outputId": "457dabd2-2240-4606-9a0d-b4e4bde43ac8"
      },
      "execution_count": 701,
      "outputs": [
        {
          "output_type": "execute_result",
          "data": {
            "text/plain": [
              "64 GB     157\n",
              "128 GB    115\n",
              "32 GB      82\n",
              "256 GB     27\n",
              "16 GB      18\n",
              "512 GB      2\n",
              "8 GB        1\n",
              "Name: int_memory, dtype: int64"
            ]
          },
          "metadata": {},
          "execution_count": 701
        }
      ]
    },
    {
      "cell_type": "code",
      "source": [
        "def int_memory_preprocess(x):\n",
        "  return x.split()[0]"
      ],
      "metadata": {
        "id": "2EH_0B2Eurfy"
      },
      "execution_count": 702,
      "outputs": []
    },
    {
      "cell_type": "code",
      "source": [
        "df['int_memory'] = df['int_memory'].apply(lambda x:int_memory_preprocess(x))"
      ],
      "metadata": {
        "id": "bZZPaWudu1_M"
      },
      "execution_count": 703,
      "outputs": []
    },
    {
      "cell_type": "code",
      "source": [
        "df['int_memory'].value_counts()"
      ],
      "metadata": {
        "colab": {
          "base_uri": "https://localhost:8080/"
        },
        "id": "I_7dpM3HvI35",
        "outputId": "2b6aef78-1467-4b93-a4a3-170edea10680"
      },
      "execution_count": 704,
      "outputs": [
        {
          "output_type": "execute_result",
          "data": {
            "text/plain": [
              "64     157\n",
              "128    115\n",
              "32      82\n",
              "256     27\n",
              "16      18\n",
              "512      2\n",
              "8        1\n",
              "Name: int_memory, dtype: int64"
            ]
          },
          "metadata": {},
          "execution_count": 704
        }
      ]
    },
    {
      "cell_type": "code",
      "source": [
        "df['int_memory'] = df['int_memory'].astype('int')"
      ],
      "metadata": {
        "id": "ewKQ8n4FvCH6"
      },
      "execution_count": 705,
      "outputs": []
    },
    {
      "cell_type": "code",
      "source": [
        "sns.scatterplot(x=df['int_memory'],y=df['mobile_price'])"
      ],
      "metadata": {
        "colab": {
          "base_uri": "https://localhost:8080/",
          "height": 467
        },
        "id": "n0d039OpvR2P",
        "outputId": "d5d481e8-925d-43c9-b00f-37b108ead283"
      },
      "execution_count": 706,
      "outputs": [
        {
          "output_type": "execute_result",
          "data": {
            "text/plain": [
              "<Axes: xlabel='int_memory', ylabel='mobile_price'>"
            ]
          },
          "metadata": {},
          "execution_count": 706
        },
        {
          "output_type": "display_data",
          "data": {
            "text/plain": [
              "<Figure size 640x480 with 1 Axes>"
            ],
            "image/png": "[encoded data removed]"
          },
          "metadata": {}
        }
      ]
    },
    {
      "cell_type": "code",
      "source": [
        "df.corr()['mobile_price']"
      ],
      "metadata": {
        "colab": {
          "base_uri": "https://localhost:8080/"
        },
        "id": "B31qzC-LvXPR",
        "outputId": "dc5181f9-041f-4a57-89c3-bf4df1bea283"
      },
      "execution_count": 707,
      "outputs": [
        {
          "output_type": "stream",
          "name": "stderr",
          "text": [
            "<ipython-input-707-f1a7ef7ca649>:1: FutureWarning: The default value of numeric_only in DataFrame.corr is deprecated. In a future version, it will default to False. Select only valid columns or specify the value of numeric_only to silence this warning.\n",
            "  df.corr()['mobile_price']\n"
          ]
        },
        {
          "output_type": "execute_result",
          "data": {
            "text/plain": [
              "mobile_price    1.000000\n",
              "disp_size       0.366649\n",
              "mp_speed        0.606659\n",
              "int_memory      0.763881\n",
              "res_dim_1       0.409634\n",
              "res_dim_2       0.230158\n",
              "Name: mobile_price, dtype: float64"
            ]
          },
          "metadata": {},
          "execution_count": 707
        }
      ]
    },
    {
      "cell_type": "code",
      "source": [
        "df.head(1)"
      ],
      "metadata": {
        "colab": {
          "base_uri": "https://localhost:8080/",
          "height": 170
        },
        "id": "dxEi0PFNvjgl",
        "outputId": "741c9287-2f60-45f0-82f5-d6fb1475c3e4"
      },
      "execution_count": 708,
      "outputs": [
        {
          "output_type": "execute_result",
          "data": {
            "text/plain": [
              "   mobile_price mobile_color  dual_sim  disp_size          os  num_cores  \\\n",
              "0          8999        Other  Dual Sim       6.52  Android 10  Octa Core   \n",
              "\n",
              "   mp_speed  int_memory   ram             p_cam             f_cam  \\\n",
              "0       2.0          32  3 GB  12MP + 2MP + 2MP  5MP Front Camera   \n",
              "\n",
              "                network bluetooth battery_power mob_width mob_height  \\\n",
              "0  4G VOLTE, 4G, 3G, 2G       Yes      5000 mAh     75 mm   164.4 mm   \n",
              "\n",
              "  mob_depth mob_weight  res_dim_1  res_dim_2  \n",
              "0   8.95 mm      195 g       1600        720  "
            ],
            "text/html": [
              "\n",
              "  <div id=\"df-32cd67ff-0a0e-4ba0-b4ca-18a552793243\" class=\"colab-df-container\">\n",
              "    <div>\n",
              "<style scoped>\n",
              "    .dataframe tbody tr th:only-of-type {\n",
              "        vertical-align: middle;\n",
              "    }\n",
              "\n",
              "    .dataframe tbody tr th {\n",
              "        vertical-align: top;\n",
              "    }\n",
              "\n",
              "    .dataframe thead th {\n",
              "        text-align: right;\n",
              "    }\n",
              "</style>\n",
              "<table border=\"1\" class=\"dataframe\">\n",
              "  <thead>\n",
              "    <tr style=\"text-align: right;\">\n",
              "      <th></th>\n",
              "      <th>mobile_price</th>\n",
              "      <th>mobile_color</th>\n",
              "      <th>dual_sim</th>\n",
              "      <th>disp_size</th>\n",
              "      <th>os</th>\n",
              "      <th>num_cores</th>\n",
              "      <th>mp_speed</th>\n",
              "      <th>int_memory</th>\n",
              "      <th>ram</th>\n",
              "      <th>p_cam</th>\n",
              "      <th>f_cam</th>\n",
              "      <th>network</th>\n",
              "      <th>bluetooth</th>\n",
              "      <th>battery_power</th>\n",
              "      <th>mob_width</th>\n",
              "      <th>mob_height</th>\n",
              "      <th>mob_depth</th>\n",
              "      <th>mob_weight</th>\n",
              "      <th>res_dim_1</th>\n",
              "      <th>res_dim_2</th>\n",
              "    </tr>\n",
              "  </thead>\n",
              "  <tbody>\n",
              "    <tr>\n",
              "      <th>0</th>\n",
              "      <td>8999</td>\n",
              "      <td>Other</td>\n",
              "      <td>Dual Sim</td>\n",
              "      <td>6.52</td>\n",
              "      <td>Android 10</td>\n",
              "      <td>Octa Core</td>\n",
              "      <td>2.0</td>\n",
              "      <td>32</td>\n",
              "      <td>3 GB</td>\n",
              "      <td>12MP + 2MP + 2MP</td>\n",
              "      <td>5MP Front Camera</td>\n",
              "      <td>4G VOLTE, 4G, 3G, 2G</td>\n",
              "      <td>Yes</td>\n",
              "      <td>5000 mAh</td>\n",
              "      <td>75 mm</td>\n",
              "      <td>164.4 mm</td>\n",
              "      <td>8.95 mm</td>\n",
              "      <td>195 g</td>\n",
              "      <td>1600</td>\n",
              "      <td>720</td>\n",
              "    </tr>\n",
              "  </tbody>\n",
              "</table>\n",
              "</div>\n",
              "    <div class=\"colab-df-buttons\">\n",
              "\n",
              "  <div class=\"colab-df-container\">\n",
              "    <button class=\"colab-df-convert\" onclick=\"convertToInteractive('df-32cd67ff-0a0e-4ba0-b4ca-18a552793243')\"\n",
              "            title=\"Convert this dataframe to an interactive table.\"\n",
              "            style=\"display:none;\">\n",
              "\n",
              "  <svg xmlns=\"http://www.w3.org/2000/svg\" height=\"24px\" viewBox=\"0 -960 960 960\">\n",
              "    <path d=\"M120-120v-720h720v720H120Zm60-500h600v-160H180v160Zm220 220h160v-160H400v160Zm0 220h160v-160H400v160ZM180-400h160v-160H180v160Zm440 0h160v-160H620v160ZM180-180h160v-160H180v160Zm440 0h160v-160H620v160Z\"/>\n",
              "  </svg>\n",
              "    </button>\n",
              "\n",
              "  <style>\n",
              "    .colab-df-container {\n",
              "      display:flex;\n",
              "      gap: 12px;\n",
              "    }\n",
              "\n",
              "    .colab-df-convert {\n",
              "      background-color: #E8F0FE;\n",
              "      border: none;\n",
              "      border-radius: 50%;\n",
              "      cursor: pointer;\n",
              "      display: none;\n",
              "      fill: #1967D2;\n",
              "      height: 32px;\n",
              "      padding: 0 0 0 0;\n",
              "      width: 32px;\n",
              "    }\n",
              "\n",
              "    .colab-df-convert:hover {\n",
              "      background-color: #E2EBFA;\n",
              "      box-shadow: 0px 1px 2px rgba(60, 64, 67, 0.3), 0px 1px 3px 1px rgba(60, 64, 67, 0.15);\n",
              "      fill: #174EA6;\n",
              "    }\n",
              "\n",
              "    .colab-df-buttons div {\n",
              "      margin-bottom: 4px;\n",
              "    }\n",
              "\n",
              "    [theme=dark] .colab-df-convert {\n",
              "      background-color: #3B4455;\n",
              "      fill: #D2E3FC;\n",
              "    }\n",
              "\n",
              "    [theme=dark] .colab-df-convert:hover {\n",
              "      background-color: #434B5C;\n",
              "      box-shadow: 0px 1px 3px 1px rgba(0, 0, 0, 0.15);\n",
              "      filter: drop-shadow(0px 1px 2px rgba(0, 0, 0, 0.3));\n",
              "      fill: #FFFFFF;\n",
              "    }\n",
              "  </style>\n",
              "\n",
              "    <script>\n",
              "      const buttonEl =\n",
              "        document.querySelector('#df-32cd67ff-0a0e-4ba0-b4ca-18a552793243 button.colab-df-convert');\n",
              "      buttonEl.style.display =\n",
              "        google.colab.kernel.accessAllowed ? 'block' : 'none';\n",
              "\n",
              "      async function convertToInteractive(key) {\n",
              "        const element = document.querySelector('#df-32cd67ff-0a0e-4ba0-b4ca-18a552793243');\n",
              "        const dataTable =\n",
              "          await google.colab.kernel.invokeFunction('convertToInteractive',\n",
              "                                                    [key], {});\n",
              "        if (!dataTable) return;\n",
              "\n",
              "        const docLinkHtml = 'Like what you see? Visit the ' +\n",
              "          '<a target=\"_blank\" href=https://colab.research.google.com/notebooks/data_table.ipynb>data table notebook</a>'\n",
              "          + ' to learn more about interactive tables.';\n",
              "        element.innerHTML = '';\n",
              "        dataTable['output_type'] = 'display_data';\n",
              "        await google.colab.output.renderOutput(dataTable, element);\n",
              "        const docLink = document.createElement('div');\n",
              "        docLink.innerHTML = docLinkHtml;\n",
              "        element.appendChild(docLink);\n",
              "      }\n",
              "    </script>\n",
              "  </div>\n",
              "\n",
              "    </div>\n",
              "  </div>\n"
            ]
          },
          "metadata": {},
          "execution_count": 708
        }
      ]
    },
    {
      "cell_type": "code",
      "source": [
        "def universal(x):\n",
        "  return x.split()[0]\n",
        "\n",
        "# ram,battery,wid,hei,dep,wei"
      ],
      "metadata": {
        "id": "gYqBw_QCwGXU"
      },
      "execution_count": 709,
      "outputs": []
    },
    {
      "cell_type": "code",
      "source": [
        "# df['ram'].value_counts()\n",
        "df['ram'] = df['ram'].apply(lambda x:universal(x))\n",
        "df['battery_power'] = df['battery_power'].apply(lambda x:universal(x))\n",
        "df['mob_width'] = df['mob_width'].apply(lambda x:universal(x))\n",
        "df['mob_height'] = df['mob_height'].apply(lambda x:universal(x))\n",
        "df['mob_depth'] = df['mob_depth'].apply(lambda x:universal(x))\n",
        "df['mob_weight'] = df['mob_weight'].apply(lambda x:universal(x))"
      ],
      "metadata": {
        "id": "EZuy69huvrGn"
      },
      "execution_count": 710,
      "outputs": []
    },
    {
      "cell_type": "code",
      "source": [
        "# df['mob_weight'].value_counts()"
      ],
      "metadata": {
        "id": "5WGZD3uBxc4T"
      },
      "execution_count": 711,
      "outputs": []
    },
    {
      "cell_type": "code",
      "source": [
        "df['ram'] = df['ram'].astype('int')\n",
        "df['battery_power'] = df['battery_power'].astype('int')\n",
        "df['mob_width'] = df['mob_width'].astype('float32')\n",
        "df['mob_height'] = df['mob_height'].astype('float32')\n",
        "df['mob_depth'] = df['mob_depth'].astype('float32')\n",
        "df['mob_weight'] = df['mob_weight'].astype('float32')"
      ],
      "metadata": {
        "id": "wd7v1RMlvywY"
      },
      "execution_count": 712,
      "outputs": []
    },
    {
      "cell_type": "code",
      "source": [
        "import matplotlib.pyplot as plt\n",
        "import seaborn as sns\n",
        "\n",
        "# Create a 2x3 grid of subplots\n",
        "fig, axes = plt.subplots(2, 3, figsize=(15, 10))\n",
        "\n",
        "# Scatterplot 1\n",
        "sns.scatterplot(x=df['ram'], y=df['mobile_price'], ax=axes[0, 0])\n",
        "axes[0, 0].set_title('RAM vs. Mobile Price')\n",
        "\n",
        "# Scatterplot 2\n",
        "sns.scatterplot(x=df['battery_power'], y=df['mobile_price'], ax=axes[0, 1])\n",
        "axes[0, 1].set_title('Battery Power vs. Mobile Price')\n",
        "\n",
        "# Scatterplot 3\n",
        "sns.scatterplot(x=df['mob_width'], y=df['mobile_price'], ax=axes[0, 2])\n",
        "axes[0, 2].set_title('Mobile Width vs. Mobile Price')\n",
        "\n",
        "# Scatterplot 4\n",
        "sns.scatterplot(x=df['mob_height'], y=df['mobile_price'], ax=axes[1, 0])\n",
        "axes[1, 0].set_title('Mobile Height vs. Mobile Price')\n",
        "\n",
        "# Scatterplot 5\n",
        "sns.scatterplot(x=df['mob_depth'], y=df['mobile_price'], ax=axes[1, 1])\n",
        "axes[1, 1].set_title('Mobile Depth vs. Mobile Price')\n",
        "\n",
        "# Scatterplot 6\n",
        "sns.scatterplot(x=df['mob_weight'], y=df['mobile_price'], ax=axes[1, 2])\n",
        "axes[1, 2].set_title('Mobile Weight vs. Mobile Price')\n",
        "\n",
        "# Adjust spacing between subplots\n",
        "plt.tight_layout()\n",
        "\n",
        "# Show the plots\n",
        "plt.show()\n"
      ],
      "metadata": {
        "colab": {
          "base_uri": "https://localhost:8080/",
          "height": 556
        },
        "id": "cGkFkBK0ysal",
        "outputId": "bbfb4850-a4ea-4c7e-9662-e3ddbc3864b5"
      },
      "execution_count": 713,
      "outputs": [
        {
          "output_type": "display_data",
          "data": {
            "text/plain": [
              "<Figure size 1500x1000 with 6 Axes>"
            ],
            "image/png": "[encoded data removed]"
          },
          "metadata": {}
        }
      ]
    },
    {
      "cell_type": "code",
      "source": [
        "df.corr()['mobile_price']"
      ],
      "metadata": {
        "colab": {
          "base_uri": "https://localhost:8080/"
        },
        "id": "44ZD1sOMzuQ4",
        "outputId": "a0051e0b-0a4d-4251-a4f3-2c3c5cb9e669"
      },
      "execution_count": 714,
      "outputs": [
        {
          "output_type": "stream",
          "name": "stderr",
          "text": [
            "<ipython-input-714-f1a7ef7ca649>:1: FutureWarning: The default value of numeric_only in DataFrame.corr is deprecated. In a future version, it will default to False. Select only valid columns or specify the value of numeric_only to silence this warning.\n",
            "  df.corr()['mobile_price']\n"
          ]
        },
        {
          "output_type": "execute_result",
          "data": {
            "text/plain": [
              "mobile_price     1.000000\n",
              "disp_size        0.366649\n",
              "mp_speed         0.606659\n",
              "int_memory       0.763881\n",
              "ram              0.768121\n",
              "battery_power   -0.012244\n",
              "mob_width        0.095643\n",
              "mob_height       0.087446\n",
              "mob_depth       -0.118081\n",
              "mob_weight       0.386041\n",
              "res_dim_1        0.409634\n",
              "res_dim_2        0.230158\n",
              "Name: mobile_price, dtype: float64"
            ]
          },
          "metadata": {},
          "execution_count": 714
        }
      ]
    },
    {
      "cell_type": "code",
      "source": [],
      "metadata": {
        "id": "o6jrRWJXz95J"
      },
      "execution_count": 714,
      "outputs": []
    },
    {
      "cell_type": "markdown",
      "source": [
        "# **As you can see that battery,depth and slighly widht and height are not**:"
      ],
      "metadata": {
        "id": "xQTFxRHo0OxH"
      }
    },
    {
      "cell_type": "code",
      "source": [
        "df.head(1)"
      ],
      "metadata": {
        "colab": {
          "base_uri": "https://localhost:8080/",
          "height": 170
        },
        "id": "IdxE4CgG0XE8",
        "outputId": "71fb59bd-1ea9-4238-fd79-de9ae83342ab"
      },
      "execution_count": 715,
      "outputs": [
        {
          "output_type": "execute_result",
          "data": {
            "text/plain": [
              "   mobile_price mobile_color  dual_sim  disp_size          os  num_cores  \\\n",
              "0          8999        Other  Dual Sim       6.52  Android 10  Octa Core   \n",
              "\n",
              "   mp_speed  int_memory  ram             p_cam             f_cam  \\\n",
              "0       2.0          32    3  12MP + 2MP + 2MP  5MP Front Camera   \n",
              "\n",
              "                network bluetooth  battery_power  mob_width  mob_height  \\\n",
              "0  4G VOLTE, 4G, 3G, 2G       Yes           5000       75.0  164.399994   \n",
              "\n",
              "   mob_depth  mob_weight  res_dim_1  res_dim_2  \n",
              "0       8.95       195.0       1600        720  "
            ],
            "text/html": [
              "\n",
              "  <div id=\"df-89a6a2bd-51d2-4d66-b461-5e105dab7afe\" class=\"colab-df-container\">\n",
              "    <div>\n",
              "<style scoped>\n",
              "    .dataframe tbody tr th:only-of-type {\n",
              "        vertical-align: middle;\n",
              "    }\n",
              "\n",
              "    .dataframe tbody tr th {\n",
              "        vertical-align: top;\n",
              "    }\n",
              "\n",
              "    .dataframe thead th {\n",
              "        text-align: right;\n",
              "    }\n",
              "</style>\n",
              "<table border=\"1\" class=\"dataframe\">\n",
              "  <thead>\n",
              "    <tr style=\"text-align: right;\">\n",
              "      <th></th>\n",
              "      <th>mobile_price</th>\n",
              "      <th>mobile_color</th>\n",
              "      <th>dual_sim</th>\n",
              "      <th>disp_size</th>\n",
              "      <th>os</th>\n",
              "      <th>num_cores</th>\n",
              "      <th>mp_speed</th>\n",
              "      <th>int_memory</th>\n",
              "      <th>ram</th>\n",
              "      <th>p_cam</th>\n",
              "      <th>f_cam</th>\n",
              "      <th>network</th>\n",
              "      <th>bluetooth</th>\n",
              "      <th>battery_power</th>\n",
              "      <th>mob_width</th>\n",
              "      <th>mob_height</th>\n",
              "      <th>mob_depth</th>\n",
              "      <th>mob_weight</th>\n",
              "      <th>res_dim_1</th>\n",
              "      <th>res_dim_2</th>\n",
              "    </tr>\n",
              "  </thead>\n",
              "  <tbody>\n",
              "    <tr>\n",
              "      <th>0</th>\n",
              "      <td>8999</td>\n",
              "      <td>Other</td>\n",
              "      <td>Dual Sim</td>\n",
              "      <td>6.52</td>\n",
              "      <td>Android 10</td>\n",
              "      <td>Octa Core</td>\n",
              "      <td>2.0</td>\n",
              "      <td>32</td>\n",
              "      <td>3</td>\n",
              "      <td>12MP + 2MP + 2MP</td>\n",
              "      <td>5MP Front Camera</td>\n",
              "      <td>4G VOLTE, 4G, 3G, 2G</td>\n",
              "      <td>Yes</td>\n",
              "      <td>5000</td>\n",
              "      <td>75.0</td>\n",
              "      <td>164.399994</td>\n",
              "      <td>8.95</td>\n",
              "      <td>195.0</td>\n",
              "      <td>1600</td>\n",
              "      <td>720</td>\n",
              "    </tr>\n",
              "  </tbody>\n",
              "</table>\n",
              "</div>\n",
              "    <div class=\"colab-df-buttons\">\n",
              "\n",
              "  <div class=\"colab-df-container\">\n",
              "    <button class=\"colab-df-convert\" onclick=\"convertToInteractive('df-89a6a2bd-51d2-4d66-b461-5e105dab7afe')\"\n",
              "            title=\"Convert this dataframe to an interactive table.\"\n",
              "            style=\"display:none;\">\n",
              "\n",
              "  <svg xmlns=\"http://www.w3.org/2000/svg\" height=\"24px\" viewBox=\"0 -960 960 960\">\n",
              "    <path d=\"M120-120v-720h720v720H120Zm60-500h600v-160H180v160Zm220 220h160v-160H400v160Zm0 220h160v-160H400v160ZM180-400h160v-160H180v160Zm440 0h160v-160H620v160ZM180-180h160v-160H180v160Zm440 0h160v-160H620v160Z\"/>\n",
              "  </svg>\n",
              "    </button>\n",
              "\n",
              "  <style>\n",
              "    .colab-df-container {\n",
              "      display:flex;\n",
              "      gap: 12px;\n",
              "    }\n",
              "\n",
              "    .colab-df-convert {\n",
              "      background-color: #E8F0FE;\n",
              "      border: none;\n",
              "      border-radius: 50%;\n",
              "      cursor: pointer;\n",
              "      display: none;\n",
              "      fill: #1967D2;\n",
              "      height: 32px;\n",
              "      padding: 0 0 0 0;\n",
              "      width: 32px;\n",
              "    }\n",
              "\n",
              "    .colab-df-convert:hover {\n",
              "      background-color: #E2EBFA;\n",
              "      box-shadow: 0px 1px 2px rgba(60, 64, 67, 0.3), 0px 1px 3px 1px rgba(60, 64, 67, 0.15);\n",
              "      fill: #174EA6;\n",
              "    }\n",
              "\n",
              "    .colab-df-buttons div {\n",
              "      margin-bottom: 4px;\n",
              "    }\n",
              "\n",
              "    [theme=dark] .colab-df-convert {\n",
              "      background-color: #3B4455;\n",
              "      fill: #D2E3FC;\n",
              "    }\n",
              "\n",
              "    [theme=dark] .colab-df-convert:hover {\n",
              "      background-color: #434B5C;\n",
              "      box-shadow: 0px 1px 3px 1px rgba(0, 0, 0, 0.15);\n",
              "      filter: drop-shadow(0px 1px 2px rgba(0, 0, 0, 0.3));\n",
              "      fill: #FFFFFF;\n",
              "    }\n",
              "  </style>\n",
              "\n",
              "    <script>\n",
              "      const buttonEl =\n",
              "        document.querySelector('#df-89a6a2bd-51d2-4d66-b461-5e105dab7afe button.colab-df-convert');\n",
              "      buttonEl.style.display =\n",
              "        google.colab.kernel.accessAllowed ? 'block' : 'none';\n",
              "\n",
              "      async function convertToInteractive(key) {\n",
              "        const element = document.querySelector('#df-89a6a2bd-51d2-4d66-b461-5e105dab7afe');\n",
              "        const dataTable =\n",
              "          await google.colab.kernel.invokeFunction('convertToInteractive',\n",
              "                                                    [key], {});\n",
              "        if (!dataTable) return;\n",
              "\n",
              "        const docLinkHtml = 'Like what you see? Visit the ' +\n",
              "          '<a target=\"_blank\" href=https://colab.research.google.com/notebooks/data_table.ipynb>data table notebook</a>'\n",
              "          + ' to learn more about interactive tables.';\n",
              "        element.innerHTML = '';\n",
              "        dataTable['output_type'] = 'display_data';\n",
              "        await google.colab.output.renderOutput(dataTable, element);\n",
              "        const docLink = document.createElement('div');\n",
              "        docLink.innerHTML = docLinkHtml;\n",
              "        element.appendChild(docLink);\n",
              "      }\n",
              "    </script>\n",
              "  </div>\n",
              "\n",
              "    </div>\n",
              "  </div>\n"
            ]
          },
          "metadata": {},
          "execution_count": 715
        }
      ]
    },
    {
      "cell_type": "code",
      "source": [],
      "metadata": {
        "id": "vwSNBZ5U0sYE"
      },
      "execution_count": 715,
      "outputs": []
    },
    {
      "cell_type": "code",
      "source": [
        "df['p_cam'].value_counts()"
      ],
      "metadata": {
        "colab": {
          "base_uri": "https://localhost:8080/"
        },
        "id": "Itu56RE91NX_",
        "outputId": "2758a0fc-4252-48ea-9e41-b8bf9f188b33"
      },
      "execution_count": 716,
      "outputs": [
        {
          "output_type": "execute_result",
          "data": {
            "text/plain": [
              "13MP + 2MP                                                                                      60\n",
              "13MP Rear Camera                                                                                40\n",
              "12MP + 5MP                                                                                      34\n",
              "48MP + 8MP + 2MP + 2MP                                                                          32\n",
              "64MP + 8MP + 2MP + 2MP                                                                          20\n",
              "48MP + 13MP + 8MP                                                                               17\n",
              "48MP + 5MP                                                                                      17\n",
              "48MP + 8MP + 5MP + 2MP                                                                          16\n",
              "12MP Rear Camera                                                                                11\n",
              "12MP + 2MP                                                                                      11\n",
              "64MP + 13MP + 8MP + 2MP                                                                         11\n",
              "16MP + 2MP                                                                                      10\n",
              "48MP + 8MP + 2MP                                                                                10\n",
              "12MP + 2MP + 2MP                                                                                 8\n",
              "64MP + 12MP + 8MP + 2MP                                                                          8\n",
              "16MP Rear Camera                                                                                 6\n",
              "48MP + 8MP                                                                                       6\n",
              "16MP + 8MP + 2MP                                                                                 6\n",
              "16MP + 2MP + 8MP                                                                                 6\n",
              "13MP + 8MP + 2MP                                                                                 6\n",
              "20MP + 12MP                                                                                      6\n",
              "48MP + 8MP + 2MP + 2MP Quad Camera                                                               5\n",
              "8MP Rear Camera                                                                                  4\n",
              "64MP + 8MP + 8MP + 2MP                                                                           4\n",
              "108MP Rear Camera                                                                                3\n",
              "13MP + 2MP + 8MP                                                                                 3\n",
              "13MP + 2MP Depth Sensor + 8MP Wide Angle sensor                                                  3\n",
              "12MP + 13MP                                                                                      3\n",
              "16MP + 2MP + Low Light Sensor                                                                    3\n",
              "48MP + 12MP + 5MP                                                                                2\n",
              "16MP + 20MP                                                                                      2\n",
              "12MP + 8MP + 2MP + 2MP                                                                           2\n",
              "16MP + 5MP + 2MP + Low Light Sensor                                                              2\n",
              "48MP + 2MP + Low Light Sensor                                                                    2\n",
              "13 MP + 2 MP + 2 MP + Low Light Sensor                                                           2\n",
              "48 MP + 2 MP + 2 MP + Low Light Sensor                                                           2\n",
              "48MP + 8MP + 5MP                                                                                 2\n",
              "64MP + 8MP + 5MP + 2MP                                                                           2\n",
              "48MP + 13MP + 8MP + 2MP                                                                          2\n",
              "48 Million Quad Pixel Sensor (12 Million Effective Pixel) + 8MP + 5MP, AI Triple Rear Camera     2\n",
              "64MP + 8MP + 2MP + 2MP Quad Camera                                                               2\n",
              "13MP + 8MP + 2MP + 2MP                                                                           2\n",
              "5MP Rear Camera                                                                                  1\n",
              "64MP + 8MP + 5MP + 5MP                                                                           1\n",
              "16MP + 5MP                                                                                       1\n",
              "12MP + 5MP + 8MP                                                                                 1\n",
              "48MP + 5MP + 8MP                                                                                 1\n",
              "48MP + 8MP + 13MP + 2MP                                                                          1\n",
              "12MP + 20MP                                                                                      1\n",
              "Name: p_cam, dtype: int64"
            ]
          },
          "metadata": {},
          "execution_count": 716
        }
      ]
    },
    {
      "cell_type": "code",
      "source": [
        "df['p_cam_max']=[x[0:2].replace('M','') for x in df['p_cam']]\n",
        "df['p_cam_count'] = [x.count('MP') for x in df['p_cam']]"
      ],
      "metadata": {
        "id": "T0kXk0FU1lFE"
      },
      "execution_count": 717,
      "outputs": []
    },
    {
      "cell_type": "code",
      "source": [
        "df.head(1)"
      ],
      "metadata": {
        "colab": {
          "base_uri": "https://localhost:8080/",
          "height": 199
        },
        "id": "HW0TfwfK1_at",
        "outputId": "ff9baef1-f271-4a5e-f612-2a215e12523f"
      },
      "execution_count": 718,
      "outputs": [
        {
          "output_type": "execute_result",
          "data": {
            "text/plain": [
              "   mobile_price mobile_color  dual_sim  disp_size          os  num_cores  \\\n",
              "0          8999        Other  Dual Sim       6.52  Android 10  Octa Core   \n",
              "\n",
              "   mp_speed  int_memory  ram             p_cam  ... bluetooth battery_power  \\\n",
              "0       2.0          32    3  12MP + 2MP + 2MP  ...       Yes          5000   \n",
              "\n",
              "  mob_width  mob_height  mob_depth  mob_weight  res_dim_1  res_dim_2  \\\n",
              "0      75.0  164.399994       8.95       195.0       1600        720   \n",
              "\n",
              "   p_cam_max  p_cam_count  \n",
              "0         12            3  \n",
              "\n",
              "[1 rows x 22 columns]"
            ],
            "text/html": [
              "\n",
              "  <div id=\"df-7a3bcf83-552d-405d-bc78-c6cdd956b45e\" class=\"colab-df-container\">\n",
              "    <div>\n",
              "<style scoped>\n",
              "    .dataframe tbody tr th:only-of-type {\n",
              "        vertical-align: middle;\n",
              "    }\n",
              "\n",
              "    .dataframe tbody tr th {\n",
              "        vertical-align: top;\n",
              "    }\n",
              "\n",
              "    .dataframe thead th {\n",
              "        text-align: right;\n",
              "    }\n",
              "</style>\n",
              "<table border=\"1\" class=\"dataframe\">\n",
              "  <thead>\n",
              "    <tr style=\"text-align: right;\">\n",
              "      <th></th>\n",
              "      <th>mobile_price</th>\n",
              "      <th>mobile_color</th>\n",
              "      <th>dual_sim</th>\n",
              "      <th>disp_size</th>\n",
              "      <th>os</th>\n",
              "      <th>num_cores</th>\n",
              "      <th>mp_speed</th>\n",
              "      <th>int_memory</th>\n",
              "      <th>ram</th>\n",
              "      <th>p_cam</th>\n",
              "      <th>...</th>\n",
              "      <th>bluetooth</th>\n",
              "      <th>battery_power</th>\n",
              "      <th>mob_width</th>\n",
              "      <th>mob_height</th>\n",
              "      <th>mob_depth</th>\n",
              "      <th>mob_weight</th>\n",
              "      <th>res_dim_1</th>\n",
              "      <th>res_dim_2</th>\n",
              "      <th>p_cam_max</th>\n",
              "      <th>p_cam_count</th>\n",
              "    </tr>\n",
              "  </thead>\n",
              "  <tbody>\n",
              "    <tr>\n",
              "      <th>0</th>\n",
              "      <td>8999</td>\n",
              "      <td>Other</td>\n",
              "      <td>Dual Sim</td>\n",
              "      <td>6.52</td>\n",
              "      <td>Android 10</td>\n",
              "      <td>Octa Core</td>\n",
              "      <td>2.0</td>\n",
              "      <td>32</td>\n",
              "      <td>3</td>\n",
              "      <td>12MP + 2MP + 2MP</td>\n",
              "      <td>...</td>\n",
              "      <td>Yes</td>\n",
              "      <td>5000</td>\n",
              "      <td>75.0</td>\n",
              "      <td>164.399994</td>\n",
              "      <td>8.95</td>\n",
              "      <td>195.0</td>\n",
              "      <td>1600</td>\n",
              "      <td>720</td>\n",
              "      <td>12</td>\n",
              "      <td>3</td>\n",
              "    </tr>\n",
              "  </tbody>\n",
              "</table>\n",
              "<p>1 rows × 22 columns</p>\n",
              "</div>\n",
              "    <div class=\"colab-df-buttons\">\n",
              "\n",
              "  <div class=\"colab-df-container\">\n",
              "    <button class=\"colab-df-convert\" onclick=\"convertToInteractive('df-7a3bcf83-552d-405d-bc78-c6cdd956b45e')\"\n",
              "            title=\"Convert this dataframe to an interactive table.\"\n",
              "            style=\"display:none;\">\n",
              "\n",
              "  <svg xmlns=\"http://www.w3.org/2000/svg\" height=\"24px\" viewBox=\"0 -960 960 960\">\n",
              "    <path d=\"M120-120v-720h720v720H120Zm60-500h600v-160H180v160Zm220 220h160v-160H400v160Zm0 220h160v-160H400v160ZM180-400h160v-160H180v160Zm440 0h160v-160H620v160ZM180-180h160v-160H180v160Zm440 0h160v-160H620v160Z\"/>\n",
              "  </svg>\n",
              "    </button>\n",
              "\n",
              "  <style>\n",
              "    .colab-df-container {\n",
              "      display:flex;\n",
              "      gap: 12px;\n",
              "    }\n",
              "\n",
              "    .colab-df-convert {\n",
              "      background-color: #E8F0FE;\n",
              "      border: none;\n",
              "      border-radius: 50%;\n",
              "      cursor: pointer;\n",
              "      display: none;\n",
              "      fill: #1967D2;\n",
              "      height: 32px;\n",
              "      padding: 0 0 0 0;\n",
              "      width: 32px;\n",
              "    }\n",
              "\n",
              "    .colab-df-convert:hover {\n",
              "      background-color: #E2EBFA;\n",
              "      box-shadow: 0px 1px 2px rgba(60, 64, 67, 0.3), 0px 1px 3px 1px rgba(60, 64, 67, 0.15);\n",
              "      fill: #174EA6;\n",
              "    }\n",
              "\n",
              "    .colab-df-buttons div {\n",
              "      margin-bottom: 4px;\n",
              "    }\n",
              "\n",
              "    [theme=dark] .colab-df-convert {\n",
              "      background-color: #3B4455;\n",
              "      fill: #D2E3FC;\n",
              "    }\n",
              "\n",
              "    [theme=dark] .colab-df-convert:hover {\n",
              "      background-color: #434B5C;\n",
              "      box-shadow: 0px 1px 3px 1px rgba(0, 0, 0, 0.15);\n",
              "      filter: drop-shadow(0px 1px 2px rgba(0, 0, 0, 0.3));\n",
              "      fill: #FFFFFF;\n",
              "    }\n",
              "  </style>\n",
              "\n",
              "    <script>\n",
              "      const buttonEl =\n",
              "        document.querySelector('#df-7a3bcf83-552d-405d-bc78-c6cdd956b45e button.colab-df-convert');\n",
              "      buttonEl.style.display =\n",
              "        google.colab.kernel.accessAllowed ? 'block' : 'none';\n",
              "\n",
              "      async function convertToInteractive(key) {\n",
              "        const element = document.querySelector('#df-7a3bcf83-552d-405d-bc78-c6cdd956b45e');\n",
              "        const dataTable =\n",
              "          await google.colab.kernel.invokeFunction('convertToInteractive',\n",
              "                                                    [key], {});\n",
              "        if (!dataTable) return;\n",
              "\n",
              "        const docLinkHtml = 'Like what you see? Visit the ' +\n",
              "          '<a target=\"_blank\" href=https://colab.research.google.com/notebooks/data_table.ipynb>data table notebook</a>'\n",
              "          + ' to learn more about interactive tables.';\n",
              "        element.innerHTML = '';\n",
              "        dataTable['output_type'] = 'display_data';\n",
              "        await google.colab.output.renderOutput(dataTable, element);\n",
              "        const docLink = document.createElement('div');\n",
              "        docLink.innerHTML = docLinkHtml;\n",
              "        element.appendChild(docLink);\n",
              "      }\n",
              "    </script>\n",
              "  </div>\n",
              "\n",
              "    </div>\n",
              "  </div>\n"
            ]
          },
          "metadata": {},
          "execution_count": 718
        }
      ]
    },
    {
      "cell_type": "code",
      "source": [
        "df.drop('p_cam',axis=1,inplace=True)"
      ],
      "metadata": {
        "id": "cpa4piSr66Oy"
      },
      "execution_count": 719,
      "outputs": []
    },
    {
      "cell_type": "code",
      "source": [
        "df.head(1)"
      ],
      "metadata": {
        "colab": {
          "base_uri": "https://localhost:8080/",
          "height": 164
        },
        "id": "va4gQMZg7Ljm",
        "outputId": "07b7e645-41a3-4b73-d8ef-3786c1b1dd9e"
      },
      "execution_count": 720,
      "outputs": [
        {
          "output_type": "execute_result",
          "data": {
            "text/plain": [
              "   mobile_price mobile_color  dual_sim  disp_size          os  num_cores  \\\n",
              "0          8999        Other  Dual Sim       6.52  Android 10  Octa Core   \n",
              "\n",
              "   mp_speed  int_memory  ram             f_cam  ... bluetooth battery_power  \\\n",
              "0       2.0          32    3  5MP Front Camera  ...       Yes          5000   \n",
              "\n",
              "   mob_width  mob_height  mob_depth  mob_weight  res_dim_1  res_dim_2  \\\n",
              "0       75.0  164.399994       8.95       195.0       1600        720   \n",
              "\n",
              "   p_cam_max p_cam_count  \n",
              "0         12           3  \n",
              "\n",
              "[1 rows x 21 columns]"
            ],
            "text/html": [
              "\n",
              "  <div id=\"df-796a3697-b8b0-481f-ac8b-04168216f307\" class=\"colab-df-container\">\n",
              "    <div>\n",
              "<style scoped>\n",
              "    .dataframe tbody tr th:only-of-type {\n",
              "        vertical-align: middle;\n",
              "    }\n",
              "\n",
              "    .dataframe tbody tr th {\n",
              "        vertical-align: top;\n",
              "    }\n",
              "\n",
              "    .dataframe thead th {\n",
              "        text-align: right;\n",
              "    }\n",
              "</style>\n",
              "<table border=\"1\" class=\"dataframe\">\n",
              "  <thead>\n",
              "    <tr style=\"text-align: right;\">\n",
              "      <th></th>\n",
              "      <th>mobile_price</th>\n",
              "      <th>mobile_color</th>\n",
              "      <th>dual_sim</th>\n",
              "      <th>disp_size</th>\n",
              "      <th>os</th>\n",
              "      <th>num_cores</th>\n",
              "      <th>mp_speed</th>\n",
              "      <th>int_memory</th>\n",
              "      <th>ram</th>\n",
              "      <th>f_cam</th>\n",
              "      <th>...</th>\n",
              "      <th>bluetooth</th>\n",
              "      <th>battery_power</th>\n",
              "      <th>mob_width</th>\n",
              "      <th>mob_height</th>\n",
              "      <th>mob_depth</th>\n",
              "      <th>mob_weight</th>\n",
              "      <th>res_dim_1</th>\n",
              "      <th>res_dim_2</th>\n",
              "      <th>p_cam_max</th>\n",
              "      <th>p_cam_count</th>\n",
              "    </tr>\n",
              "  </thead>\n",
              "  <tbody>\n",
              "    <tr>\n",
              "      <th>0</th>\n",
              "      <td>8999</td>\n",
              "      <td>Other</td>\n",
              "      <td>Dual Sim</td>\n",
              "      <td>6.52</td>\n",
              "      <td>Android 10</td>\n",
              "      <td>Octa Core</td>\n",
              "      <td>2.0</td>\n",
              "      <td>32</td>\n",
              "      <td>3</td>\n",
              "      <td>5MP Front Camera</td>\n",
              "      <td>...</td>\n",
              "      <td>Yes</td>\n",
              "      <td>5000</td>\n",
              "      <td>75.0</td>\n",
              "      <td>164.399994</td>\n",
              "      <td>8.95</td>\n",
              "      <td>195.0</td>\n",
              "      <td>1600</td>\n",
              "      <td>720</td>\n",
              "      <td>12</td>\n",
              "      <td>3</td>\n",
              "    </tr>\n",
              "  </tbody>\n",
              "</table>\n",
              "<p>1 rows × 21 columns</p>\n",
              "</div>\n",
              "    <div class=\"colab-df-buttons\">\n",
              "\n",
              "  <div class=\"colab-df-container\">\n",
              "    <button class=\"colab-df-convert\" onclick=\"convertToInteractive('df-796a3697-b8b0-481f-ac8b-04168216f307')\"\n",
              "            title=\"Convert this dataframe to an interactive table.\"\n",
              "            style=\"display:none;\">\n",
              "\n",
              "  <svg xmlns=\"http://www.w3.org/2000/svg\" height=\"24px\" viewBox=\"0 -960 960 960\">\n",
              "    <path d=\"M120-120v-720h720v720H120Zm60-500h600v-160H180v160Zm220 220h160v-160H400v160Zm0 220h160v-160H400v160ZM180-400h160v-160H180v160Zm440 0h160v-160H620v160ZM180-180h160v-160H180v160Zm440 0h160v-160H620v160Z\"/>\n",
              "  </svg>\n",
              "    </button>\n",
              "\n",
              "  <style>\n",
              "    .colab-df-container {\n",
              "      display:flex;\n",
              "      gap: 12px;\n",
              "    }\n",
              "\n",
              "    .colab-df-convert {\n",
              "      background-color: #E8F0FE;\n",
              "      border: none;\n",
              "      border-radius: 50%;\n",
              "      cursor: pointer;\n",
              "      display: none;\n",
              "      fill: #1967D2;\n",
              "      height: 32px;\n",
              "      padding: 0 0 0 0;\n",
              "      width: 32px;\n",
              "    }\n",
              "\n",
              "    .colab-df-convert:hover {\n",
              "      background-color: #E2EBFA;\n",
              "      box-shadow: 0px 1px 2px rgba(60, 64, 67, 0.3), 0px 1px 3px 1px rgba(60, 64, 67, 0.15);\n",
              "      fill: #174EA6;\n",
              "    }\n",
              "\n",
              "    .colab-df-buttons div {\n",
              "      margin-bottom: 4px;\n",
              "    }\n",
              "\n",
              "    [theme=dark] .colab-df-convert {\n",
              "      background-color: #3B4455;\n",
              "      fill: #D2E3FC;\n",
              "    }\n",
              "\n",
              "    [theme=dark] .colab-df-convert:hover {\n",
              "      background-color: #434B5C;\n",
              "      box-shadow: 0px 1px 3px 1px rgba(0, 0, 0, 0.15);\n",
              "      filter: drop-shadow(0px 1px 2px rgba(0, 0, 0, 0.3));\n",
              "      fill: #FFFFFF;\n",
              "    }\n",
              "  </style>\n",
              "\n",
              "    <script>\n",
              "      const buttonEl =\n",
              "        document.querySelector('#df-796a3697-b8b0-481f-ac8b-04168216f307 button.colab-df-convert');\n",
              "      buttonEl.style.display =\n",
              "        google.colab.kernel.accessAllowed ? 'block' : 'none';\n",
              "\n",
              "      async function convertToInteractive(key) {\n",
              "        const element = document.querySelector('#df-796a3697-b8b0-481f-ac8b-04168216f307');\n",
              "        const dataTable =\n",
              "          await google.colab.kernel.invokeFunction('convertToInteractive',\n",
              "                                                    [key], {});\n",
              "        if (!dataTable) return;\n",
              "\n",
              "        const docLinkHtml = 'Like what you see? Visit the ' +\n",
              "          '<a target=\"_blank\" href=https://colab.research.google.com/notebooks/data_table.ipynb>data table notebook</a>'\n",
              "          + ' to learn more about interactive tables.';\n",
              "        element.innerHTML = '';\n",
              "        dataTable['output_type'] = 'display_data';\n",
              "        await google.colab.output.renderOutput(dataTable, element);\n",
              "        const docLink = document.createElement('div');\n",
              "        docLink.innerHTML = docLinkHtml;\n",
              "        element.appendChild(docLink);\n",
              "      }\n",
              "    </script>\n",
              "  </div>\n",
              "\n",
              "    </div>\n",
              "  </div>\n"
            ]
          },
          "metadata": {},
          "execution_count": 720
        }
      ]
    },
    {
      "cell_type": "code",
      "source": [
        "df['p_cam_max'] = df['p_cam_max'].astype('int')\n",
        "df['p_cam_count'] = df['p_cam_count'].astype('int')"
      ],
      "metadata": {
        "id": "u-klAZbr7MjK"
      },
      "execution_count": 721,
      "outputs": []
    },
    {
      "cell_type": "code",
      "source": [
        "df.info()"
      ],
      "metadata": {
        "colab": {
          "base_uri": "https://localhost:8080/"
        },
        "id": "prZ5znJ_7VJH",
        "outputId": "5db23a96-2ca2-4c60-ba90-2a1b5bc125b4"
      },
      "execution_count": 722,
      "outputs": [
        {
          "output_type": "stream",
          "name": "stdout",
          "text": [
            "<class 'pandas.core.frame.DataFrame'>\n",
            "Int64Index: 402 entries, 0 to 447\n",
            "Data columns (total 21 columns):\n",
            " #   Column         Non-Null Count  Dtype  \n",
            "---  ------         --------------  -----  \n",
            " 0   mobile_price   402 non-null    int32  \n",
            " 1   mobile_color   402 non-null    object \n",
            " 2   dual_sim       402 non-null    object \n",
            " 3   disp_size      402 non-null    float32\n",
            " 4   os             402 non-null    object \n",
            " 5   num_cores      402 non-null    object \n",
            " 6   mp_speed       402 non-null    float32\n",
            " 7   int_memory     402 non-null    int64  \n",
            " 8   ram            402 non-null    int64  \n",
            " 9   f_cam          402 non-null    object \n",
            " 10  network        402 non-null    object \n",
            " 11  bluetooth      402 non-null    object \n",
            " 12  battery_power  402 non-null    int64  \n",
            " 13  mob_width      402 non-null    float32\n",
            " 14  mob_height     402 non-null    float32\n",
            " 15  mob_depth      402 non-null    float32\n",
            " 16  mob_weight     402 non-null    float32\n",
            " 17  res_dim_1      402 non-null    int64  \n",
            " 18  res_dim_2      402 non-null    int64  \n",
            " 19  p_cam_max      402 non-null    int64  \n",
            " 20  p_cam_count    402 non-null    int64  \n",
            "dtypes: float32(6), int32(1), int64(7), object(7)\n",
            "memory usage: 58.1+ KB\n"
          ]
        }
      ]
    },
    {
      "cell_type": "code",
      "source": [
        "df.drop('bluetooth',axis=1,inplace=True)"
      ],
      "metadata": {
        "id": "wIvNV32m8yBv"
      },
      "execution_count": 723,
      "outputs": []
    },
    {
      "cell_type": "code",
      "source": [
        "fig, axes = plt.subplots(1, 2, figsize=(15, 10))\n",
        "\n",
        "# Scatterplot 1\n",
        "sns.scatterplot(x=df['p_cam_max'], y=df['mobile_price'], ax=axes[0])\n",
        "axes[0].set_title('p_cam_max vs. Mobile Price')\n",
        "\n",
        "# Scatterplot 2\n",
        "sns.scatterplot(x=df['p_cam_count'], y=df['mobile_price'], ax=axes[1])\n",
        "axes[1].set_title('p_cam_count Power vs. Mobile Price')\n",
        "\n",
        "plt.show()"
      ],
      "metadata": {
        "colab": {
          "base_uri": "https://localhost:8080/",
          "height": 569
        },
        "id": "i0INOiZU85v4",
        "outputId": "3f9bbc50-2867-4eb7-c803-50a403eb7bc7"
      },
      "execution_count": 724,
      "outputs": [
        {
          "output_type": "display_data",
          "data": {
            "text/plain": [
              "<Figure size 1500x1000 with 2 Axes>"
            ],
            "image/png": "[encoded data removed]"
          },
          "metadata": {}
        }
      ]
    },
    {
      "cell_type": "code",
      "source": [
        "df.corr()['mobile_price']"
      ],
      "metadata": {
        "colab": {
          "base_uri": "https://localhost:8080/"
        },
        "id": "wg89obHG9ckA",
        "outputId": "8d0a85d4-9b38-40f4-8811-c8f8250589e1"
      },
      "execution_count": 725,
      "outputs": [
        {
          "output_type": "stream",
          "name": "stderr",
          "text": [
            "<ipython-input-725-f1a7ef7ca649>:1: FutureWarning: The default value of numeric_only in DataFrame.corr is deprecated. In a future version, it will default to False. Select only valid columns or specify the value of numeric_only to silence this warning.\n",
            "  df.corr()['mobile_price']\n"
          ]
        },
        {
          "output_type": "execute_result",
          "data": {
            "text/plain": [
              "mobile_price     1.000000\n",
              "disp_size        0.366649\n",
              "mp_speed         0.606659\n",
              "int_memory       0.763881\n",
              "ram              0.768121\n",
              "battery_power   -0.012244\n",
              "mob_width        0.095643\n",
              "mob_height       0.087446\n",
              "mob_depth       -0.118081\n",
              "mob_weight       0.386041\n",
              "res_dim_1        0.409634\n",
              "res_dim_2        0.230158\n",
              "p_cam_max        0.424421\n",
              "p_cam_count      0.344360\n",
              "Name: mobile_price, dtype: float64"
            ]
          },
          "metadata": {},
          "execution_count": 725
        }
      ]
    },
    {
      "cell_type": "code",
      "source": [
        "df.head(1)"
      ],
      "metadata": {
        "colab": {
          "base_uri": "https://localhost:8080/",
          "height": 152
        },
        "id": "jwn_ctpw9xP8",
        "outputId": "66195126-3ecd-46c7-d7de-3fc68ac8fc6d"
      },
      "execution_count": 726,
      "outputs": [
        {
          "output_type": "execute_result",
          "data": {
            "text/plain": [
              "   mobile_price mobile_color  dual_sim  disp_size          os  num_cores  \\\n",
              "0          8999        Other  Dual Sim       6.52  Android 10  Octa Core   \n",
              "\n",
              "   mp_speed  int_memory  ram             f_cam               network  \\\n",
              "0       2.0          32    3  5MP Front Camera  4G VOLTE, 4G, 3G, 2G   \n",
              "\n",
              "   battery_power  mob_width  mob_height  mob_depth  mob_weight  res_dim_1  \\\n",
              "0           5000       75.0  164.399994       8.95       195.0       1600   \n",
              "\n",
              "   res_dim_2  p_cam_max  p_cam_count  \n",
              "0        720         12            3  "
            ],
            "text/html": [
              "\n",
              "  <div id=\"df-29fc8d18-3a2f-4819-b0a2-797be27aea05\" class=\"colab-df-container\">\n",
              "    <div>\n",
              "<style scoped>\n",
              "    .dataframe tbody tr th:only-of-type {\n",
              "        vertical-align: middle;\n",
              "    }\n",
              "\n",
              "    .dataframe tbody tr th {\n",
              "        vertical-align: top;\n",
              "    }\n",
              "\n",
              "    .dataframe thead th {\n",
              "        text-align: right;\n",
              "    }\n",
              "</style>\n",
              "<table border=\"1\" class=\"dataframe\">\n",
              "  <thead>\n",
              "    <tr style=\"text-align: right;\">\n",
              "      <th></th>\n",
              "      <th>mobile_price</th>\n",
              "      <th>mobile_color</th>\n",
              "      <th>dual_sim</th>\n",
              "      <th>disp_size</th>\n",
              "      <th>os</th>\n",
              "      <th>num_cores</th>\n",
              "      <th>mp_speed</th>\n",
              "      <th>int_memory</th>\n",
              "      <th>ram</th>\n",
              "      <th>f_cam</th>\n",
              "      <th>network</th>\n",
              "      <th>battery_power</th>\n",
              "      <th>mob_width</th>\n",
              "      <th>mob_height</th>\n",
              "      <th>mob_depth</th>\n",
              "      <th>mob_weight</th>\n",
              "      <th>res_dim_1</th>\n",
              "      <th>res_dim_2</th>\n",
              "      <th>p_cam_max</th>\n",
              "      <th>p_cam_count</th>\n",
              "    </tr>\n",
              "  </thead>\n",
              "  <tbody>\n",
              "    <tr>\n",
              "      <th>0</th>\n",
              "      <td>8999</td>\n",
              "      <td>Other</td>\n",
              "      <td>Dual Sim</td>\n",
              "      <td>6.52</td>\n",
              "      <td>Android 10</td>\n",
              "      <td>Octa Core</td>\n",
              "      <td>2.0</td>\n",
              "      <td>32</td>\n",
              "      <td>3</td>\n",
              "      <td>5MP Front Camera</td>\n",
              "      <td>4G VOLTE, 4G, 3G, 2G</td>\n",
              "      <td>5000</td>\n",
              "      <td>75.0</td>\n",
              "      <td>164.399994</td>\n",
              "      <td>8.95</td>\n",
              "      <td>195.0</td>\n",
              "      <td>1600</td>\n",
              "      <td>720</td>\n",
              "      <td>12</td>\n",
              "      <td>3</td>\n",
              "    </tr>\n",
              "  </tbody>\n",
              "</table>\n",
              "</div>\n",
              "    <div class=\"colab-df-buttons\">\n",
              "\n",
              "  <div class=\"colab-df-container\">\n",
              "    <button class=\"colab-df-convert\" onclick=\"convertToInteractive('df-29fc8d18-3a2f-4819-b0a2-797be27aea05')\"\n",
              "            title=\"Convert this dataframe to an interactive table.\"\n",
              "            style=\"display:none;\">\n",
              "\n",
              "  <svg xmlns=\"http://www.w3.org/2000/svg\" height=\"24px\" viewBox=\"0 -960 960 960\">\n",
              "    <path d=\"M120-120v-720h720v720H120Zm60-500h600v-160H180v160Zm220 220h160v-160H400v160Zm0 220h160v-160H400v160ZM180-400h160v-160H180v160Zm440 0h160v-160H620v160ZM180-180h160v-160H180v160Zm440 0h160v-160H620v160Z\"/>\n",
              "  </svg>\n",
              "    </button>\n",
              "\n",
              "  <style>\n",
              "    .colab-df-container {\n",
              "      display:flex;\n",
              "      gap: 12px;\n",
              "    }\n",
              "\n",
              "    .colab-df-convert {\n",
              "      background-color: #E8F0FE;\n",
              "      border: none;\n",
              "      border-radius: 50%;\n",
              "      cursor: pointer;\n",
              "      display: none;\n",
              "      fill: #1967D2;\n",
              "      height: 32px;\n",
              "      padding: 0 0 0 0;\n",
              "      width: 32px;\n",
              "    }\n",
              "\n",
              "    .colab-df-convert:hover {\n",
              "      background-color: #E2EBFA;\n",
              "      box-shadow: 0px 1px 2px rgba(60, 64, 67, 0.3), 0px 1px 3px 1px rgba(60, 64, 67, 0.15);\n",
              "      fill: #174EA6;\n",
              "    }\n",
              "\n",
              "    .colab-df-buttons div {\n",
              "      margin-bottom: 4px;\n",
              "    }\n",
              "\n",
              "    [theme=dark] .colab-df-convert {\n",
              "      background-color: #3B4455;\n",
              "      fill: #D2E3FC;\n",
              "    }\n",
              "\n",
              "    [theme=dark] .colab-df-convert:hover {\n",
              "      background-color: #434B5C;\n",
              "      box-shadow: 0px 1px 3px 1px rgba(0, 0, 0, 0.15);\n",
              "      filter: drop-shadow(0px 1px 2px rgba(0, 0, 0, 0.3));\n",
              "      fill: #FFFFFF;\n",
              "    }\n",
              "  </style>\n",
              "\n",
              "    <script>\n",
              "      const buttonEl =\n",
              "        document.querySelector('#df-29fc8d18-3a2f-4819-b0a2-797be27aea05 button.colab-df-convert');\n",
              "      buttonEl.style.display =\n",
              "        google.colab.kernel.accessAllowed ? 'block' : 'none';\n",
              "\n",
              "      async function convertToInteractive(key) {\n",
              "        const element = document.querySelector('#df-29fc8d18-3a2f-4819-b0a2-797be27aea05');\n",
              "        const dataTable =\n",
              "          await google.colab.kernel.invokeFunction('convertToInteractive',\n",
              "                                                    [key], {});\n",
              "        if (!dataTable) return;\n",
              "\n",
              "        const docLinkHtml = 'Like what you see? Visit the ' +\n",
              "          '<a target=\"_blank\" href=https://colab.research.google.com/notebooks/data_table.ipynb>data table notebook</a>'\n",
              "          + ' to learn more about interactive tables.';\n",
              "        element.innerHTML = '';\n",
              "        dataTable['output_type'] = 'display_data';\n",
              "        await google.colab.output.renderOutput(dataTable, element);\n",
              "        const docLink = document.createElement('div');\n",
              "        docLink.innerHTML = docLinkHtml;\n",
              "        element.appendChild(docLink);\n",
              "      }\n",
              "    </script>\n",
              "  </div>\n",
              "\n",
              "    </div>\n",
              "  </div>\n"
            ]
          },
          "metadata": {},
          "execution_count": 726
        }
      ]
    },
    {
      "cell_type": "code",
      "source": [
        "df['f_cam'].value_counts()"
      ],
      "metadata": {
        "colab": {
          "base_uri": "https://localhost:8080/"
        },
        "id": "sGqiOY--92Wi",
        "outputId": "955b47ff-31a0-4adc-d865-1eb8bc088167"
      },
      "execution_count": 727,
      "outputs": [
        {
          "output_type": "execute_result",
          "data": {
            "text/plain": [
              "16MP Front Camera               99\n",
              "20MP Front Camera               53\n",
              "8MP Front Camera                51\n",
              "32MP Front Camera               50\n",
              "5MP Front Camera                49\n",
              "13MP Front Camera               39\n",
              "20MP + 2MP Dual Front Camera    14\n",
              "32MP + 8MP Dual Front Camera    13\n",
              "25MP Front Camera               11\n",
              "16MP + 8MP Dual Front Camera     6\n",
              "8MP Dual Front Camera            6\n",
              "24MP Front Camera                4\n",
              "13MP + 2MP Dual Front Camera     3\n",
              "44MP + 2MP Dual Front Camera     3\n",
              "2MP Front Camera                 1\n",
              "Name: f_cam, dtype: int64"
            ]
          },
          "metadata": {},
          "execution_count": 727
        }
      ]
    },
    {
      "cell_type": "code",
      "source": [
        "df['f_cam_max']=[x[0:2].replace('M','') for x in df['f_cam']]\n",
        "df['f_cam_count'] = [x.count('MP') for x in df['f_cam']]"
      ],
      "metadata": {
        "id": "1AYxa4I8963Z"
      },
      "execution_count": 728,
      "outputs": []
    },
    {
      "cell_type": "code",
      "source": [
        "df['f_cam_max'] = df['f_cam_max'].astype('int')\n",
        "df['f_cam_count'] = df['f_cam_count'].astype('int')"
      ],
      "metadata": {
        "id": "2WElPsBl-CJU"
      },
      "execution_count": 729,
      "outputs": []
    },
    {
      "cell_type": "code",
      "source": [
        "fig, axes = plt.subplots(1, 2, figsize=(15, 10))\n",
        "\n",
        "# Scatterplot 1\n",
        "sns.scatterplot(x=df['f_cam_max'], y=df['mobile_price'], ax=axes[0])\n",
        "axes[0].set_title('f_cam_max vs. Mobile Price')\n",
        "\n",
        "# Scatterplot 2\n",
        "sns.scatterplot(x=df['f_cam_count'], y=df['mobile_price'], ax=axes[1])\n",
        "axes[1].set_title('f_cam_count vs. Mobile Price')\n",
        "\n",
        "plt.show()"
      ],
      "metadata": {
        "colab": {
          "base_uri": "https://localhost:8080/",
          "height": 569
        },
        "id": "rromTtHK-NmG",
        "outputId": "0f4b9e36-b0a8-4ad7-ad98-d2e11111fe24"
      },
      "execution_count": 730,
      "outputs": [
        {
          "output_type": "display_data",
          "data": {
            "text/plain": [
              "<Figure size 1500x1000 with 2 Axes>"
            ],
            "image/png": "[encoded data removed]"
          },
          "metadata": {}
        }
      ]
    },
    {
      "cell_type": "code",
      "source": [
        "df.corr()['mobile_price']"
      ],
      "metadata": {
        "colab": {
          "base_uri": "https://localhost:8080/"
        },
        "id": "5c0uPQXs-d2J",
        "outputId": "4299a2ee-9625-4b4f-f997-71724b156dd9"
      },
      "execution_count": 731,
      "outputs": [
        {
          "output_type": "stream",
          "name": "stderr",
          "text": [
            "<ipython-input-731-f1a7ef7ca649>:1: FutureWarning: The default value of numeric_only in DataFrame.corr is deprecated. In a future version, it will default to False. Select only valid columns or specify the value of numeric_only to silence this warning.\n",
            "  df.corr()['mobile_price']\n"
          ]
        },
        {
          "output_type": "execute_result",
          "data": {
            "text/plain": [
              "mobile_price     1.000000\n",
              "disp_size        0.366649\n",
              "mp_speed         0.606659\n",
              "int_memory       0.763881\n",
              "ram              0.768121\n",
              "battery_power   -0.012244\n",
              "mob_width        0.095643\n",
              "mob_height       0.087446\n",
              "mob_depth       -0.118081\n",
              "mob_weight       0.386041\n",
              "res_dim_1        0.409634\n",
              "res_dim_2        0.230158\n",
              "p_cam_max        0.424421\n",
              "p_cam_count      0.344360\n",
              "f_cam_max        0.485887\n",
              "f_cam_count      0.261053\n",
              "Name: mobile_price, dtype: float64"
            ]
          },
          "metadata": {},
          "execution_count": 731
        }
      ]
    },
    {
      "cell_type": "code",
      "source": [
        "df.drop(['f_cam'],axis=1,inplace=True)"
      ],
      "metadata": {
        "id": "MfnLfXQ4-6a5"
      },
      "execution_count": 732,
      "outputs": []
    },
    {
      "cell_type": "code",
      "source": [
        "df.head(1)"
      ],
      "metadata": {
        "colab": {
          "base_uri": "https://localhost:8080/",
          "height": 182
        },
        "id": "euBUkUM7-ml6",
        "outputId": "43cc7dfa-1b75-475e-acab-5edfd4642365"
      },
      "execution_count": 733,
      "outputs": [
        {
          "output_type": "execute_result",
          "data": {
            "text/plain": [
              "   mobile_price mobile_color  dual_sim  disp_size          os  num_cores  \\\n",
              "0          8999        Other  Dual Sim       6.52  Android 10  Octa Core   \n",
              "\n",
              "   mp_speed  int_memory  ram               network  ...  mob_width  \\\n",
              "0       2.0          32    3  4G VOLTE, 4G, 3G, 2G  ...       75.0   \n",
              "\n",
              "   mob_height  mob_depth  mob_weight  res_dim_1  res_dim_2  p_cam_max  \\\n",
              "0  164.399994       8.95       195.0       1600        720         12   \n",
              "\n",
              "   p_cam_count  f_cam_max  f_cam_count  \n",
              "0            3          5            1  \n",
              "\n",
              "[1 rows x 21 columns]"
            ],
            "text/html": [
              "\n",
              "  <div id=\"df-07c28825-f56b-4abc-9096-e2e6e74438aa\" class=\"colab-df-container\">\n",
              "    <div>\n",
              "<style scoped>\n",
              "    .dataframe tbody tr th:only-of-type {\n",
              "        vertical-align: middle;\n",
              "    }\n",
              "\n",
              "    .dataframe tbody tr th {\n",
              "        vertical-align: top;\n",
              "    }\n",
              "\n",
              "    .dataframe thead th {\n",
              "        text-align: right;\n",
              "    }\n",
              "</style>\n",
              "<table border=\"1\" class=\"dataframe\">\n",
              "  <thead>\n",
              "    <tr style=\"text-align: right;\">\n",
              "      <th></th>\n",
              "      <th>mobile_price</th>\n",
              "      <th>mobile_color</th>\n",
              "      <th>dual_sim</th>\n",
              "      <th>disp_size</th>\n",
              "      <th>os</th>\n",
              "      <th>num_cores</th>\n",
              "      <th>mp_speed</th>\n",
              "      <th>int_memory</th>\n",
              "      <th>ram</th>\n",
              "      <th>network</th>\n",
              "      <th>...</th>\n",
              "      <th>mob_width</th>\n",
              "      <th>mob_height</th>\n",
              "      <th>mob_depth</th>\n",
              "      <th>mob_weight</th>\n",
              "      <th>res_dim_1</th>\n",
              "      <th>res_dim_2</th>\n",
              "      <th>p_cam_max</th>\n",
              "      <th>p_cam_count</th>\n",
              "      <th>f_cam_max</th>\n",
              "      <th>f_cam_count</th>\n",
              "    </tr>\n",
              "  </thead>\n",
              "  <tbody>\n",
              "    <tr>\n",
              "      <th>0</th>\n",
              "      <td>8999</td>\n",
              "      <td>Other</td>\n",
              "      <td>Dual Sim</td>\n",
              "      <td>6.52</td>\n",
              "      <td>Android 10</td>\n",
              "      <td>Octa Core</td>\n",
              "      <td>2.0</td>\n",
              "      <td>32</td>\n",
              "      <td>3</td>\n",
              "      <td>4G VOLTE, 4G, 3G, 2G</td>\n",
              "      <td>...</td>\n",
              "      <td>75.0</td>\n",
              "      <td>164.399994</td>\n",
              "      <td>8.95</td>\n",
              "      <td>195.0</td>\n",
              "      <td>1600</td>\n",
              "      <td>720</td>\n",
              "      <td>12</td>\n",
              "      <td>3</td>\n",
              "      <td>5</td>\n",
              "      <td>1</td>\n",
              "    </tr>\n",
              "  </tbody>\n",
              "</table>\n",
              "<p>1 rows × 21 columns</p>\n",
              "</div>\n",
              "    <div class=\"colab-df-buttons\">\n",
              "\n",
              "  <div class=\"colab-df-container\">\n",
              "    <button class=\"colab-df-convert\" onclick=\"convertToInteractive('df-07c28825-f56b-4abc-9096-e2e6e74438aa')\"\n",
              "            title=\"Convert this dataframe to an interactive table.\"\n",
              "            style=\"display:none;\">\n",
              "\n",
              "  <svg xmlns=\"http://www.w3.org/2000/svg\" height=\"24px\" viewBox=\"0 -960 960 960\">\n",
              "    <path d=\"M120-120v-720h720v720H120Zm60-500h600v-160H180v160Zm220 220h160v-160H400v160Zm0 220h160v-160H400v160ZM180-400h160v-160H180v160Zm440 0h160v-160H620v160ZM180-180h160v-160H180v160Zm440 0h160v-160H620v160Z\"/>\n",
              "  </svg>\n",
              "    </button>\n",
              "\n",
              "  <style>\n",
              "    .colab-df-container {\n",
              "      display:flex;\n",
              "      gap: 12px;\n",
              "    }\n",
              "\n",
              "    .colab-df-convert {\n",
              "      background-color: #E8F0FE;\n",
              "      border: none;\n",
              "      border-radius: 50%;\n",
              "      cursor: pointer;\n",
              "      display: none;\n",
              "      fill: #1967D2;\n",
              "      height: 32px;\n",
              "      padding: 0 0 0 0;\n",
              "      width: 32px;\n",
              "    }\n",
              "\n",
              "    .colab-df-convert:hover {\n",
              "      background-color: #E2EBFA;\n",
              "      box-shadow: 0px 1px 2px rgba(60, 64, 67, 0.3), 0px 1px 3px 1px rgba(60, 64, 67, 0.15);\n",
              "      fill: #174EA6;\n",
              "    }\n",
              "\n",
              "    .colab-df-buttons div {\n",
              "      margin-bottom: 4px;\n",
              "    }\n",
              "\n",
              "    [theme=dark] .colab-df-convert {\n",
              "      background-color: #3B4455;\n",
              "      fill: #D2E3FC;\n",
              "    }\n",
              "\n",
              "    [theme=dark] .colab-df-convert:hover {\n",
              "      background-color: #434B5C;\n",
              "      box-shadow: 0px 1px 3px 1px rgba(0, 0, 0, 0.15);\n",
              "      filter: drop-shadow(0px 1px 2px rgba(0, 0, 0, 0.3));\n",
              "      fill: #FFFFFF;\n",
              "    }\n",
              "  </style>\n",
              "\n",
              "    <script>\n",
              "      const buttonEl =\n",
              "        document.querySelector('#df-07c28825-f56b-4abc-9096-e2e6e74438aa button.colab-df-convert');\n",
              "      buttonEl.style.display =\n",
              "        google.colab.kernel.accessAllowed ? 'block' : 'none';\n",
              "\n",
              "      async function convertToInteractive(key) {\n",
              "        const element = document.querySelector('#df-07c28825-f56b-4abc-9096-e2e6e74438aa');\n",
              "        const dataTable =\n",
              "          await google.colab.kernel.invokeFunction('convertToInteractive',\n",
              "                                                    [key], {});\n",
              "        if (!dataTable) return;\n",
              "\n",
              "        const docLinkHtml = 'Like what you see? Visit the ' +\n",
              "          '<a target=\"_blank\" href=https://colab.research.google.com/notebooks/data_table.ipynb>data table notebook</a>'\n",
              "          + ' to learn more about interactive tables.';\n",
              "        element.innerHTML = '';\n",
              "        dataTable['output_type'] = 'display_data';\n",
              "        await google.colab.output.renderOutput(dataTable, element);\n",
              "        const docLink = document.createElement('div');\n",
              "        docLink.innerHTML = docLinkHtml;\n",
              "        element.appendChild(docLink);\n",
              "      }\n",
              "    </script>\n",
              "  </div>\n",
              "\n",
              "    </div>\n",
              "  </div>\n"
            ]
          },
          "metadata": {},
          "execution_count": 733
        }
      ]
    },
    {
      "cell_type": "code",
      "source": [
        "df['network'].value_counts()"
      ],
      "metadata": {
        "colab": {
          "base_uri": "https://localhost:8080/"
        },
        "id": "YcQelG1g-qr3",
        "outputId": "de737dc0-a8a2-416a-a796-5346fd8055cc"
      },
      "execution_count": 734,
      "outputs": [
        {
          "output_type": "execute_result",
          "data": {
            "text/plain": [
              "3G, 4G VOLTE, 4G, 2G        109\n",
              "3G, 4G VOLTE, 2G             79\n",
              "4G VOLTE, 4G, 3G, 2G         74\n",
              "3G, 4G, 2G                   34\n",
              "4G, 3G, 2G                   26\n",
              "4G VOLTE, 4G, 2G, 3G         17\n",
              "4G VOLTE, 3G, 2G             13\n",
              "4G VOLTE, 3G                 10\n",
              "3G, 4G VOLTE, 4G              9\n",
              "3G, 4G VOLTE                  8\n",
              "4G VOLTE                      7\n",
              "5G, 4G VOLTE, 4G, 3G, 2G      3\n",
              "4G VOLTE, 5G                  3\n",
              "4G, 2G, 3G                    3\n",
              "4G VOLTE, 4G                  3\n",
              "2G                            2\n",
              "3G, 4G                        2\n",
              "Name: network, dtype: int64"
            ]
          },
          "metadata": {},
          "execution_count": 734
        }
      ]
    },
    {
      "cell_type": "code",
      "source": [
        "df['network']=df['network'].str.replace(' ','')"
      ],
      "metadata": {
        "id": "1G77p9YM_36u"
      },
      "execution_count": 735,
      "outputs": []
    },
    {
      "cell_type": "code",
      "source": [
        "df['network']=df['network'].apply(lambda x: sorted(x.split(',')))"
      ],
      "metadata": {
        "id": "j8GUjrah_5BG"
      },
      "execution_count": 736,
      "outputs": []
    },
    {
      "cell_type": "code",
      "source": [
        "df['network'].value_counts()"
      ],
      "metadata": {
        "colab": {
          "base_uri": "https://localhost:8080/"
        },
        "id": "bzdd2IoS_83v",
        "outputId": "9dbf5ebe-67c8-454a-c457-f36970afc6ef"
      },
      "execution_count": 737,
      "outputs": [
        {
          "output_type": "execute_result",
          "data": {
            "text/plain": [
              "[2G, 3G, 4G, 4GVOLTE]        200\n",
              "[2G, 3G, 4GVOLTE]             92\n",
              "[2G, 3G, 4G]                  63\n",
              "[3G, 4GVOLTE]                 18\n",
              "[3G, 4G, 4GVOLTE]              9\n",
              "[4GVOLTE]                      7\n",
              "[2G, 3G, 4G, 4GVOLTE, 5G]      3\n",
              "[4GVOLTE, 5G]                  3\n",
              "[4G, 4GVOLTE]                  3\n",
              "[2G]                           2\n",
              "[3G, 4G]                       2\n",
              "Name: network, dtype: int64"
            ]
          },
          "metadata": {},
          "execution_count": 737
        }
      ]
    },
    {
      "cell_type": "code",
      "source": [
        "from sklearn.preprocessing import MultiLabelBinarizer\n",
        "\n",
        "mlb=MultiLabelBinarizer()\n",
        "dg=pd.DataFrame(mlb.fit_transform(df['network']),columns=mlb.classes_,index=df.index)"
      ],
      "metadata": {
        "id": "ZXdPxwSj-vmO"
      },
      "execution_count": 738,
      "outputs": []
    },
    {
      "cell_type": "code",
      "source": [
        "dg.head(3)"
      ],
      "metadata": {
        "colab": {
          "base_uri": "https://localhost:8080/",
          "height": 143
        },
        "id": "Dgi9j2BD_ffX",
        "outputId": "f42d62d3-cebc-40da-a511-bd8fe07a4138"
      },
      "execution_count": 739,
      "outputs": [
        {
          "output_type": "execute_result",
          "data": {
            "text/plain": [
              "   2G  3G  4G  4GVOLTE  5G\n",
              "0   1   1   1        1   0\n",
              "1   1   1   1        1   0\n",
              "2   1   1   1        1   0"
            ],
            "text/html": [
              "\n",
              "  <div id=\"df-8cc99670-41fc-4898-8a70-16d2e9ef1398\" class=\"colab-df-container\">\n",
              "    <div>\n",
              "<style scoped>\n",
              "    .dataframe tbody tr th:only-of-type {\n",
              "        vertical-align: middle;\n",
              "    }\n",
              "\n",
              "    .dataframe tbody tr th {\n",
              "        vertical-align: top;\n",
              "    }\n",
              "\n",
              "    .dataframe thead th {\n",
              "        text-align: right;\n",
              "    }\n",
              "</style>\n",
              "<table border=\"1\" class=\"dataframe\">\n",
              "  <thead>\n",
              "    <tr style=\"text-align: right;\">\n",
              "      <th></th>\n",
              "      <th>2G</th>\n",
              "      <th>3G</th>\n",
              "      <th>4G</th>\n",
              "      <th>4GVOLTE</th>\n",
              "      <th>5G</th>\n",
              "    </tr>\n",
              "  </thead>\n",
              "  <tbody>\n",
              "    <tr>\n",
              "      <th>0</th>\n",
              "      <td>1</td>\n",
              "      <td>1</td>\n",
              "      <td>1</td>\n",
              "      <td>1</td>\n",
              "      <td>0</td>\n",
              "    </tr>\n",
              "    <tr>\n",
              "      <th>1</th>\n",
              "      <td>1</td>\n",
              "      <td>1</td>\n",
              "      <td>1</td>\n",
              "      <td>1</td>\n",
              "      <td>0</td>\n",
              "    </tr>\n",
              "    <tr>\n",
              "      <th>2</th>\n",
              "      <td>1</td>\n",
              "      <td>1</td>\n",
              "      <td>1</td>\n",
              "      <td>1</td>\n",
              "      <td>0</td>\n",
              "    </tr>\n",
              "  </tbody>\n",
              "</table>\n",
              "</div>\n",
              "    <div class=\"colab-df-buttons\">\n",
              "\n",
              "  <div class=\"colab-df-container\">\n",
              "    <button class=\"colab-df-convert\" onclick=\"convertToInteractive('df-8cc99670-41fc-4898-8a70-16d2e9ef1398')\"\n",
              "            title=\"Convert this dataframe to an interactive table.\"\n",
              "            style=\"display:none;\">\n",
              "\n",
              "  <svg xmlns=\"http://www.w3.org/2000/svg\" height=\"24px\" viewBox=\"0 -960 960 960\">\n",
              "    <path d=\"M120-120v-720h720v720H120Zm60-500h600v-160H180v160Zm220 220h160v-160H400v160Zm0 220h160v-160H400v160ZM180-400h160v-160H180v160Zm440 0h160v-160H620v160ZM180-180h160v-160H180v160Zm440 0h160v-160H620v160Z\"/>\n",
              "  </svg>\n",
              "    </button>\n",
              "\n",
              "  <style>\n",
              "    .colab-df-container {\n",
              "      display:flex;\n",
              "      gap: 12px;\n",
              "    }\n",
              "\n",
              "    .colab-df-convert {\n",
              "      background-color: #E8F0FE;\n",
              "      border: none;\n",
              "      border-radius: 50%;\n",
              "      cursor: pointer;\n",
              "      display: none;\n",
              "      fill: #1967D2;\n",
              "      height: 32px;\n",
              "      padding: 0 0 0 0;\n",
              "      width: 32px;\n",
              "    }\n",
              "\n",
              "    .colab-df-convert:hover {\n",
              "      background-color: #E2EBFA;\n",
              "      box-shadow: 0px 1px 2px rgba(60, 64, 67, 0.3), 0px 1px 3px 1px rgba(60, 64, 67, 0.15);\n",
              "      fill: #174EA6;\n",
              "    }\n",
              "\n",
              "    .colab-df-buttons div {\n",
              "      margin-bottom: 4px;\n",
              "    }\n",
              "\n",
              "    [theme=dark] .colab-df-convert {\n",
              "      background-color: #3B4455;\n",
              "      fill: #D2E3FC;\n",
              "    }\n",
              "\n",
              "    [theme=dark] .colab-df-convert:hover {\n",
              "      background-color: #434B5C;\n",
              "      box-shadow: 0px 1px 3px 1px rgba(0, 0, 0, 0.15);\n",
              "      filter: drop-shadow(0px 1px 2px rgba(0, 0, 0, 0.3));\n",
              "      fill: #FFFFFF;\n",
              "    }\n",
              "  </style>\n",
              "\n",
              "    <script>\n",
              "      const buttonEl =\n",
              "        document.querySelector('#df-8cc99670-41fc-4898-8a70-16d2e9ef1398 button.colab-df-convert');\n",
              "      buttonEl.style.display =\n",
              "        google.colab.kernel.accessAllowed ? 'block' : 'none';\n",
              "\n",
              "      async function convertToInteractive(key) {\n",
              "        const element = document.querySelector('#df-8cc99670-41fc-4898-8a70-16d2e9ef1398');\n",
              "        const dataTable =\n",
              "          await google.colab.kernel.invokeFunction('convertToInteractive',\n",
              "                                                    [key], {});\n",
              "        if (!dataTable) return;\n",
              "\n",
              "        const docLinkHtml = 'Like what you see? Visit the ' +\n",
              "          '<a target=\"_blank\" href=https://colab.research.google.com/notebooks/data_table.ipynb>data table notebook</a>'\n",
              "          + ' to learn more about interactive tables.';\n",
              "        element.innerHTML = '';\n",
              "        dataTable['output_type'] = 'display_data';\n",
              "        await google.colab.output.renderOutput(dataTable, element);\n",
              "        const docLink = document.createElement('div');\n",
              "        docLink.innerHTML = docLinkHtml;\n",
              "        element.appendChild(docLink);\n",
              "      }\n",
              "    </script>\n",
              "  </div>\n",
              "\n",
              "\n",
              "<div id=\"df-53b384d0-7370-4636-89ed-f1731596a86c\">\n",
              "  <button class=\"colab-df-quickchart\" onclick=\"quickchart('df-53b384d0-7370-4636-89ed-f1731596a86c')\"\n",
              "            title=\"Suggest charts.\"\n",
              "            style=\"display:none;\">\n",
              "\n",
              "<svg xmlns=\"http://www.w3.org/2000/svg\" height=\"24px\"viewBox=\"0 0 24 24\"\n",
              "     width=\"24px\">\n",
              "    <g>\n",
              "        <path d=\"M19 3H5c-1.1 0-2 .9-2 2v14c0 1.1.9 2 2 2h14c1.1 0 2-.9 2-2V5c0-1.1-.9-2-2-2zM9 17H7v-7h2v7zm4 0h-2V7h2v10zm4 0h-2v-4h2v4z\"/>\n",
              "    </g>\n",
              "</svg>\n",
              "  </button>\n",
              "\n",
              "<style>\n",
              "  .colab-df-quickchart {\n",
              "      --bg-color: #E8F0FE;\n",
              "      --fill-color: #1967D2;\n",
              "      --hover-bg-color: #E2EBFA;\n",
              "      --hover-fill-color: #174EA6;\n",
              "      --disabled-fill-color: #AAA;\n",
              "      --disabled-bg-color: #DDD;\n",
              "  }\n",
              "\n",
              "  [theme=dark] .colab-df-quickchart {\n",
              "      --bg-color: #3B4455;\n",
              "      --fill-color: #D2E3FC;\n",
              "      --hover-bg-color: #434B5C;\n",
              "      --hover-fill-color: #FFFFFF;\n",
              "      --disabled-bg-color: #3B4455;\n",
              "      --disabled-fill-color: #666;\n",
              "  }\n",
              "\n",
              "  .colab-df-quickchart {\n",
              "    background-color: var(--bg-color);\n",
              "    border: none;\n",
              "    border-radius: 50%;\n",
              "    cursor: pointer;\n",
              "    display: none;\n",
              "    fill: var(--fill-color);\n",
              "    height: 32px;\n",
              "    padding: 0;\n",
              "    width: 32px;\n",
              "  }\n",
              "\n",
              "  .colab-df-quickchart:hover {\n",
              "    background-color: var(--hover-bg-color);\n",
              "    box-shadow: 0 1px 2px rgba(60, 64, 67, 0.3), 0 1px 3px 1px rgba(60, 64, 67, 0.15);\n",
              "    fill: var(--button-hover-fill-color);\n",
              "  }\n",
              "\n",
              "  .colab-df-quickchart-complete:disabled,\n",
              "  .colab-df-quickchart-complete:disabled:hover {\n",
              "    background-color: var(--disabled-bg-color);\n",
              "    fill: var(--disabled-fill-color);\n",
              "    box-shadow: none;\n",
              "  }\n",
              "\n",
              "  .colab-df-spinner {\n",
              "    border: 2px solid var(--fill-color);\n",
              "    border-color: transparent;\n",
              "    border-bottom-color: var(--fill-color);\n",
              "    animation:\n",
              "      spin 1s steps(1) infinite;\n",
              "  }\n",
              "\n",
              "  @keyframes spin {\n",
              "    0% {\n",
              "      border-color: transparent;\n",
              "      border-bottom-color: var(--fill-color);\n",
              "      border-left-color: var(--fill-color);\n",
              "    }\n",
              "    20% {\n",
              "      border-color: transparent;\n",
              "      border-left-color: var(--fill-color);\n",
              "      border-top-color: var(--fill-color);\n",
              "    }\n",
              "    30% {\n",
              "      border-color: transparent;\n",
              "      border-left-color: var(--fill-color);\n",
              "      border-top-color: var(--fill-color);\n",
              "      border-right-color: var(--fill-color);\n",
              "    }\n",
              "    40% {\n",
              "      border-color: transparent;\n",
              "      border-right-color: var(--fill-color);\n",
              "      border-top-color: var(--fill-color);\n",
              "    }\n",
              "    60% {\n",
              "      border-color: transparent;\n",
              "      border-right-color: var(--fill-color);\n",
              "    }\n",
              "    80% {\n",
              "      border-color: transparent;\n",
              "      border-right-color: var(--fill-color);\n",
              "      border-bottom-color: var(--fill-color);\n",
              "    }\n",
              "    90% {\n",
              "      border-color: transparent;\n",
              "      border-bottom-color: var(--fill-color);\n",
              "    }\n",
              "  }\n",
              "</style>\n",
              "\n",
              "  <script>\n",
              "    async function quickchart(key) {\n",
              "      const quickchartButtonEl =\n",
              "        document.querySelector('#' + key + ' button');\n",
              "      quickchartButtonEl.disabled = true;  // To prevent multiple clicks.\n",
              "      quickchartButtonEl.classList.add('colab-df-spinner');\n",
              "      try {\n",
              "        const charts = await google.colab.kernel.invokeFunction(\n",
              "            'suggestCharts', [key], {});\n",
              "      } catch (error) {\n",
              "        console.error('Error during call to suggestCharts:', error);\n",
              "      }\n",
              "      quickchartButtonEl.classList.remove('colab-df-spinner');\n",
              "      quickchartButtonEl.classList.add('colab-df-quickchart-complete');\n",
              "    }\n",
              "    (() => {\n",
              "      let quickchartButtonEl =\n",
              "        document.querySelector('#df-53b384d0-7370-4636-89ed-f1731596a86c button');\n",
              "      quickchartButtonEl.style.display =\n",
              "        google.colab.kernel.accessAllowed ? 'block' : 'none';\n",
              "    })();\n",
              "  </script>\n",
              "</div>\n",
              "    </div>\n",
              "  </div>\n"
            ]
          },
          "metadata": {},
          "execution_count": 739
        }
      ]
    },
    {
      "cell_type": "code",
      "source": [
        "df=pd.merge(df,dg,left_index=True,right_index=True)"
      ],
      "metadata": {
        "id": "ownk6iID_iQ2"
      },
      "execution_count": 740,
      "outputs": []
    },
    {
      "cell_type": "code",
      "source": [
        "df.drop('network',axis=1,inplace=True)"
      ],
      "metadata": {
        "id": "70O0UwoSAfhY"
      },
      "execution_count": 741,
      "outputs": []
    },
    {
      "cell_type": "code",
      "source": [
        "df.head(3)"
      ],
      "metadata": {
        "colab": {
          "base_uri": "https://localhost:8080/",
          "height": 245
        },
        "id": "nHNfuSS-AjYB",
        "outputId": "5975335c-99c1-4273-c5c2-597b548fa10a"
      },
      "execution_count": 742,
      "outputs": [
        {
          "output_type": "execute_result",
          "data": {
            "text/plain": [
              "   mobile_price mobile_color  dual_sim  disp_size          os  num_cores  \\\n",
              "0          8999        Other  Dual Sim       6.52  Android 10  Octa Core   \n",
              "1          8999         Blue  Dual Sim       6.52  Android 10  Octa Core   \n",
              "2          9999         Blue  Dual Sim       6.52  Android 10  Octa Core   \n",
              "\n",
              "   mp_speed  int_memory  ram  battery_power  ...  res_dim_2  p_cam_max  \\\n",
              "0       2.0          32    3           5000  ...        720         12   \n",
              "1       2.0          32    3           5000  ...        720         12   \n",
              "2       2.0          64    4           5000  ...        720         12   \n",
              "\n",
              "   p_cam_count  f_cam_max  f_cam_count  2G  3G  4G  4GVOLTE  5G  \n",
              "0            3          5            1   1   1   1        1   0  \n",
              "1            3          5            1   1   1   1        1   0  \n",
              "2            3          5            1   1   1   1        1   0  \n",
              "\n",
              "[3 rows x 25 columns]"
            ],
            "text/html": [
              "\n",
              "  <div id=\"df-341e3f16-bc52-477b-bc7d-62571a74d32e\" class=\"colab-df-container\">\n",
              "    <div>\n",
              "<style scoped>\n",
              "    .dataframe tbody tr th:only-of-type {\n",
              "        vertical-align: middle;\n",
              "    }\n",
              "\n",
              "    .dataframe tbody tr th {\n",
              "        vertical-align: top;\n",
              "    }\n",
              "\n",
              "    .dataframe thead th {\n",
              "        text-align: right;\n",
              "    }\n",
              "</style>\n",
              "<table border=\"1\" class=\"dataframe\">\n",
              "  <thead>\n",
              "    <tr style=\"text-align: right;\">\n",
              "      <th></th>\n",
              "      <th>mobile_price</th>\n",
              "      <th>mobile_color</th>\n",
              "      <th>dual_sim</th>\n",
              "      <th>disp_size</th>\n",
              "      <th>os</th>\n",
              "      <th>num_cores</th>\n",
              "      <th>mp_speed</th>\n",
              "      <th>int_memory</th>\n",
              "      <th>ram</th>\n",
              "      <th>battery_power</th>\n",
              "      <th>...</th>\n",
              "      <th>res_dim_2</th>\n",
              "      <th>p_cam_max</th>\n",
              "      <th>p_cam_count</th>\n",
              "      <th>f_cam_max</th>\n",
              "      <th>f_cam_count</th>\n",
              "      <th>2G</th>\n",
              "      <th>3G</th>\n",
              "      <th>4G</th>\n",
              "      <th>4GVOLTE</th>\n",
              "      <th>5G</th>\n",
              "    </tr>\n",
              "  </thead>\n",
              "  <tbody>\n",
              "    <tr>\n",
              "      <th>0</th>\n",
              "      <td>8999</td>\n",
              "      <td>Other</td>\n",
              "      <td>Dual Sim</td>\n",
              "      <td>6.52</td>\n",
              "      <td>Android 10</td>\n",
              "      <td>Octa Core</td>\n",
              "      <td>2.0</td>\n",
              "      <td>32</td>\n",
              "      <td>3</td>\n",
              "      <td>5000</td>\n",
              "      <td>...</td>\n",
              "      <td>720</td>\n",
              "      <td>12</td>\n",
              "      <td>3</td>\n",
              "      <td>5</td>\n",
              "      <td>1</td>\n",
              "      <td>1</td>\n",
              "      <td>1</td>\n",
              "      <td>1</td>\n",
              "      <td>1</td>\n",
              "      <td>0</td>\n",
              "    </tr>\n",
              "    <tr>\n",
              "      <th>1</th>\n",
              "      <td>8999</td>\n",
              "      <td>Blue</td>\n",
              "      <td>Dual Sim</td>\n",
              "      <td>6.52</td>\n",
              "      <td>Android 10</td>\n",
              "      <td>Octa Core</td>\n",
              "      <td>2.0</td>\n",
              "      <td>32</td>\n",
              "      <td>3</td>\n",
              "      <td>5000</td>\n",
              "      <td>...</td>\n",
              "      <td>720</td>\n",
              "      <td>12</td>\n",
              "      <td>3</td>\n",
              "      <td>5</td>\n",
              "      <td>1</td>\n",
              "      <td>1</td>\n",
              "      <td>1</td>\n",
              "      <td>1</td>\n",
              "      <td>1</td>\n",
              "      <td>0</td>\n",
              "    </tr>\n",
              "    <tr>\n",
              "      <th>2</th>\n",
              "      <td>9999</td>\n",
              "      <td>Blue</td>\n",
              "      <td>Dual Sim</td>\n",
              "      <td>6.52</td>\n",
              "      <td>Android 10</td>\n",
              "      <td>Octa Core</td>\n",
              "      <td>2.0</td>\n",
              "      <td>64</td>\n",
              "      <td>4</td>\n",
              "      <td>5000</td>\n",
              "      <td>...</td>\n",
              "      <td>720</td>\n",
              "      <td>12</td>\n",
              "      <td>3</td>\n",
              "      <td>5</td>\n",
              "      <td>1</td>\n",
              "      <td>1</td>\n",
              "      <td>1</td>\n",
              "      <td>1</td>\n",
              "      <td>1</td>\n",
              "      <td>0</td>\n",
              "    </tr>\n",
              "  </tbody>\n",
              "</table>\n",
              "<p>3 rows × 25 columns</p>\n",
              "</div>\n",
              "    <div class=\"colab-df-buttons\">\n",
              "\n",
              "  <div class=\"colab-df-container\">\n",
              "    <button class=\"colab-df-convert\" onclick=\"convertToInteractive('df-341e3f16-bc52-477b-bc7d-62571a74d32e')\"\n",
              "            title=\"Convert this dataframe to an interactive table.\"\n",
              "            style=\"display:none;\">\n",
              "\n",
              "  <svg xmlns=\"http://www.w3.org/2000/svg\" height=\"24px\" viewBox=\"0 -960 960 960\">\n",
              "    <path d=\"M120-120v-720h720v720H120Zm60-500h600v-160H180v160Zm220 220h160v-160H400v160Zm0 220h160v-160H400v160ZM180-400h160v-160H180v160Zm440 0h160v-160H620v160ZM180-180h160v-160H180v160Zm440 0h160v-160H620v160Z\"/>\n",
              "  </svg>\n",
              "    </button>\n",
              "\n",
              "  <style>\n",
              "    .colab-df-container {\n",
              "      display:flex;\n",
              "      gap: 12px;\n",
              "    }\n",
              "\n",
              "    .colab-df-convert {\n",
              "      background-color: #E8F0FE;\n",
              "      border: none;\n",
              "      border-radius: 50%;\n",
              "      cursor: pointer;\n",
              "      display: none;\n",
              "      fill: #1967D2;\n",
              "      height: 32px;\n",
              "      padding: 0 0 0 0;\n",
              "      width: 32px;\n",
              "    }\n",
              "\n",
              "    .colab-df-convert:hover {\n",
              "      background-color: #E2EBFA;\n",
              "      box-shadow: 0px 1px 2px rgba(60, 64, 67, 0.3), 0px 1px 3px 1px rgba(60, 64, 67, 0.15);\n",
              "      fill: #174EA6;\n",
              "    }\n",
              "\n",
              "    .colab-df-buttons div {\n",
              "      margin-bottom: 4px;\n",
              "    }\n",
              "\n",
              "    [theme=dark] .colab-df-convert {\n",
              "      background-color: #3B4455;\n",
              "      fill: #D2E3FC;\n",
              "    }\n",
              "\n",
              "    [theme=dark] .colab-df-convert:hover {\n",
              "      background-color: #434B5C;\n",
              "      box-shadow: 0px 1px 3px 1px rgba(0, 0, 0, 0.15);\n",
              "      filter: drop-shadow(0px 1px 2px rgba(0, 0, 0, 0.3));\n",
              "      fill: #FFFFFF;\n",
              "    }\n",
              "  </style>\n",
              "\n",
              "    <script>\n",
              "      const buttonEl =\n",
              "        document.querySelector('#df-341e3f16-bc52-477b-bc7d-62571a74d32e button.colab-df-convert');\n",
              "      buttonEl.style.display =\n",
              "        google.colab.kernel.accessAllowed ? 'block' : 'none';\n",
              "\n",
              "      async function convertToInteractive(key) {\n",
              "        const element = document.querySelector('#df-341e3f16-bc52-477b-bc7d-62571a74d32e');\n",
              "        const dataTable =\n",
              "          await google.colab.kernel.invokeFunction('convertToInteractive',\n",
              "                                                    [key], {});\n",
              "        if (!dataTable) return;\n",
              "\n",
              "        const docLinkHtml = 'Like what you see? Visit the ' +\n",
              "          '<a target=\"_blank\" href=https://colab.research.google.com/notebooks/data_table.ipynb>data table notebook</a>'\n",
              "          + ' to learn more about interactive tables.';\n",
              "        element.innerHTML = '';\n",
              "        dataTable['output_type'] = 'display_data';\n",
              "        await google.colab.output.renderOutput(dataTable, element);\n",
              "        const docLink = document.createElement('div');\n",
              "        docLink.innerHTML = docLinkHtml;\n",
              "        element.appendChild(docLink);\n",
              "      }\n",
              "    </script>\n",
              "  </div>\n",
              "\n",
              "\n",
              "<div id=\"df-40fb9618-a2ad-4101-a54e-40c74579f6f5\">\n",
              "  <button class=\"colab-df-quickchart\" onclick=\"quickchart('df-40fb9618-a2ad-4101-a54e-40c74579f6f5')\"\n",
              "            title=\"Suggest charts.\"\n",
              "            style=\"display:none;\">\n",
              "\n",
              "<svg xmlns=\"http://www.w3.org/2000/svg\" height=\"24px\"viewBox=\"0 0 24 24\"\n",
              "     width=\"24px\">\n",
              "    <g>\n",
              "        <path d=\"M19 3H5c-1.1 0-2 .9-2 2v14c0 1.1.9 2 2 2h14c1.1 0 2-.9 2-2V5c0-1.1-.9-2-2-2zM9 17H7v-7h2v7zm4 0h-2V7h2v10zm4 0h-2v-4h2v4z\"/>\n",
              "    </g>\n",
              "</svg>\n",
              "  </button>\n",
              "\n",
              "<style>\n",
              "  .colab-df-quickchart {\n",
              "      --bg-color: #E8F0FE;\n",
              "      --fill-color: #1967D2;\n",
              "      --hover-bg-color: #E2EBFA;\n",
              "      --hover-fill-color: #174EA6;\n",
              "      --disabled-fill-color: #AAA;\n",
              "      --disabled-bg-color: #DDD;\n",
              "  }\n",
              "\n",
              "  [theme=dark] .colab-df-quickchart {\n",
              "      --bg-color: #3B4455;\n",
              "      --fill-color: #D2E3FC;\n",
              "      --hover-bg-color: #434B5C;\n",
              "      --hover-fill-color: #FFFFFF;\n",
              "      --disabled-bg-color: #3B4455;\n",
              "      --disabled-fill-color: #666;\n",
              "  }\n",
              "\n",
              "  .colab-df-quickchart {\n",
              "    background-color: var(--bg-color);\n",
              "    border: none;\n",
              "    border-radius: 50%;\n",
              "    cursor: pointer;\n",
              "    display: none;\n",
              "    fill: var(--fill-color);\n",
              "    height: 32px;\n",
              "    padding: 0;\n",
              "    width: 32px;\n",
              "  }\n",
              "\n",
              "  .colab-df-quickchart:hover {\n",
              "    background-color: var(--hover-bg-color);\n",
              "    box-shadow: 0 1px 2px rgba(60, 64, 67, 0.3), 0 1px 3px 1px rgba(60, 64, 67, 0.15);\n",
              "    fill: var(--button-hover-fill-color);\n",
              "  }\n",
              "\n",
              "  .colab-df-quickchart-complete:disabled,\n",
              "  .colab-df-quickchart-complete:disabled:hover {\n",
              "    background-color: var(--disabled-bg-color);\n",
              "    fill: var(--disabled-fill-color);\n",
              "    box-shadow: none;\n",
              "  }\n",
              "\n",
              "  .colab-df-spinner {\n",
              "    border: 2px solid var(--fill-color);\n",
              "    border-color: transparent;\n",
              "    border-bottom-color: var(--fill-color);\n",
              "    animation:\n",
              "      spin 1s steps(1) infinite;\n",
              "  }\n",
              "\n",
              "  @keyframes spin {\n",
              "    0% {\n",
              "      border-color: transparent;\n",
              "      border-bottom-color: var(--fill-color);\n",
              "      border-left-color: var(--fill-color);\n",
              "    }\n",
              "    20% {\n",
              "      border-color: transparent;\n",
              "      border-left-color: var(--fill-color);\n",
              "      border-top-color: var(--fill-color);\n",
              "    }\n",
              "    30% {\n",
              "      border-color: transparent;\n",
              "      border-left-color: var(--fill-color);\n",
              "      border-top-color: var(--fill-color);\n",
              "      border-right-color: var(--fill-color);\n",
              "    }\n",
              "    40% {\n",
              "      border-color: transparent;\n",
              "      border-right-color: var(--fill-color);\n",
              "      border-top-color: var(--fill-color);\n",
              "    }\n",
              "    60% {\n",
              "      border-color: transparent;\n",
              "      border-right-color: var(--fill-color);\n",
              "    }\n",
              "    80% {\n",
              "      border-color: transparent;\n",
              "      border-right-color: var(--fill-color);\n",
              "      border-bottom-color: var(--fill-color);\n",
              "    }\n",
              "    90% {\n",
              "      border-color: transparent;\n",
              "      border-bottom-color: var(--fill-color);\n",
              "    }\n",
              "  }\n",
              "</style>\n",
              "\n",
              "  <script>\n",
              "    async function quickchart(key) {\n",
              "      const quickchartButtonEl =\n",
              "        document.querySelector('#' + key + ' button');\n",
              "      quickchartButtonEl.disabled = true;  // To prevent multiple clicks.\n",
              "      quickchartButtonEl.classList.add('colab-df-spinner');\n",
              "      try {\n",
              "        const charts = await google.colab.kernel.invokeFunction(\n",
              "            'suggestCharts', [key], {});\n",
              "      } catch (error) {\n",
              "        console.error('Error during call to suggestCharts:', error);\n",
              "      }\n",
              "      quickchartButtonEl.classList.remove('colab-df-spinner');\n",
              "      quickchartButtonEl.classList.add('colab-df-quickchart-complete');\n",
              "    }\n",
              "    (() => {\n",
              "      let quickchartButtonEl =\n",
              "        document.querySelector('#df-40fb9618-a2ad-4101-a54e-40c74579f6f5 button');\n",
              "      quickchartButtonEl.style.display =\n",
              "        google.colab.kernel.accessAllowed ? 'block' : 'none';\n",
              "    })();\n",
              "  </script>\n",
              "</div>\n",
              "    </div>\n",
              "  </div>\n"
            ]
          },
          "metadata": {},
          "execution_count": 742
        }
      ]
    },
    {
      "cell_type": "code",
      "source": [
        "df.columns"
      ],
      "metadata": {
        "colab": {
          "base_uri": "https://localhost:8080/"
        },
        "id": "65V4YEs1Ak_S",
        "outputId": "d4e089fb-c822-4758-feab-1af75d5cc8f6"
      },
      "execution_count": 743,
      "outputs": [
        {
          "output_type": "execute_result",
          "data": {
            "text/plain": [
              "Index(['mobile_price', 'mobile_color', 'dual_sim', 'disp_size', 'os',\n",
              "       'num_cores', 'mp_speed', 'int_memory', 'ram', 'battery_power',\n",
              "       'mob_width', 'mob_height', 'mob_depth', 'mob_weight', 'res_dim_1',\n",
              "       'res_dim_2', 'p_cam_max', 'p_cam_count', 'f_cam_max', 'f_cam_count',\n",
              "       '2G', '3G', '4G', '4GVOLTE', '5G'],\n",
              "      dtype='object')"
            ]
          },
          "metadata": {},
          "execution_count": 743
        }
      ]
    },
    {
      "cell_type": "code",
      "source": [
        "df.info()"
      ],
      "metadata": {
        "colab": {
          "base_uri": "https://localhost:8080/"
        },
        "id": "8M8Gbk8eA2RU",
        "outputId": "a1ad21af-277f-4495-c873-973ab915eb7c"
      },
      "execution_count": 744,
      "outputs": [
        {
          "output_type": "stream",
          "name": "stdout",
          "text": [
            "<class 'pandas.core.frame.DataFrame'>\n",
            "Int64Index: 402 entries, 0 to 447\n",
            "Data columns (total 25 columns):\n",
            " #   Column         Non-Null Count  Dtype  \n",
            "---  ------         --------------  -----  \n",
            " 0   mobile_price   402 non-null    int32  \n",
            " 1   mobile_color   402 non-null    object \n",
            " 2   dual_sim       402 non-null    object \n",
            " 3   disp_size      402 non-null    float32\n",
            " 4   os             402 non-null    object \n",
            " 5   num_cores      402 non-null    object \n",
            " 6   mp_speed       402 non-null    float32\n",
            " 7   int_memory     402 non-null    int64  \n",
            " 8   ram            402 non-null    int64  \n",
            " 9   battery_power  402 non-null    int64  \n",
            " 10  mob_width      402 non-null    float32\n",
            " 11  mob_height     402 non-null    float32\n",
            " 12  mob_depth      402 non-null    float32\n",
            " 13  mob_weight     402 non-null    float32\n",
            " 14  res_dim_1      402 non-null    int64  \n",
            " 15  res_dim_2      402 non-null    int64  \n",
            " 16  p_cam_max      402 non-null    int64  \n",
            " 17  p_cam_count    402 non-null    int64  \n",
            " 18  f_cam_max      402 non-null    int64  \n",
            " 19  f_cam_count    402 non-null    int64  \n",
            " 20  2G             402 non-null    int64  \n",
            " 21  3G             402 non-null    int64  \n",
            " 22  4G             402 non-null    int64  \n",
            " 23  4GVOLTE        402 non-null    int64  \n",
            " 24  5G             402 non-null    int64  \n",
            "dtypes: float32(6), int32(1), int64(14), object(4)\n",
            "memory usage: 86.8+ KB\n"
          ]
        }
      ]
    },
    {
      "cell_type": "code",
      "source": [
        "df['num_cores']=df['num_cores'].map({'Octa Core':8,'Quad Core':4,'Single Core':1})"
      ],
      "metadata": {
        "id": "GeK4AWjSA_CF"
      },
      "execution_count": 745,
      "outputs": []
    },
    {
      "cell_type": "code",
      "source": [
        "df.info()"
      ],
      "metadata": {
        "colab": {
          "base_uri": "https://localhost:8080/"
        },
        "id": "jtMcrjnHBcxF",
        "outputId": "bc63ade9-1088-43ab-d9b8-50dd1c874be5"
      },
      "execution_count": 746,
      "outputs": [
        {
          "output_type": "stream",
          "name": "stdout",
          "text": [
            "<class 'pandas.core.frame.DataFrame'>\n",
            "Int64Index: 402 entries, 0 to 447\n",
            "Data columns (total 25 columns):\n",
            " #   Column         Non-Null Count  Dtype  \n",
            "---  ------         --------------  -----  \n",
            " 0   mobile_price   402 non-null    int32  \n",
            " 1   mobile_color   402 non-null    object \n",
            " 2   dual_sim       402 non-null    object \n",
            " 3   disp_size      402 non-null    float32\n",
            " 4   os             402 non-null    object \n",
            " 5   num_cores      402 non-null    int64  \n",
            " 6   mp_speed       402 non-null    float32\n",
            " 7   int_memory     402 non-null    int64  \n",
            " 8   ram            402 non-null    int64  \n",
            " 9   battery_power  402 non-null    int64  \n",
            " 10  mob_width      402 non-null    float32\n",
            " 11  mob_height     402 non-null    float32\n",
            " 12  mob_depth      402 non-null    float32\n",
            " 13  mob_weight     402 non-null    float32\n",
            " 14  res_dim_1      402 non-null    int64  \n",
            " 15  res_dim_2      402 non-null    int64  \n",
            " 16  p_cam_max      402 non-null    int64  \n",
            " 17  p_cam_count    402 non-null    int64  \n",
            " 18  f_cam_max      402 non-null    int64  \n",
            " 19  f_cam_count    402 non-null    int64  \n",
            " 20  2G             402 non-null    int64  \n",
            " 21  3G             402 non-null    int64  \n",
            " 22  4G             402 non-null    int64  \n",
            " 23  4GVOLTE        402 non-null    int64  \n",
            " 24  5G             402 non-null    int64  \n",
            "dtypes: float32(6), int32(1), int64(15), object(3)\n",
            "memory usage: 86.8+ KB\n"
          ]
        }
      ]
    },
    {
      "cell_type": "code",
      "source": [],
      "metadata": {
        "id": "QapmOyj-Be8c"
      },
      "execution_count": null,
      "outputs": []
    },
    {
      "cell_type": "markdown",
      "source": [
        "# **Finally, Our Dataset is Ready**"
      ],
      "metadata": {
        "id": "XXOKlgZ0Bogj"
      }
    },
    {
      "cell_type": "code",
      "source": [
        "df.head()"
      ],
      "metadata": {
        "colab": {
          "base_uri": "https://localhost:8080/",
          "height": 342
        },
        "id": "kZ6SJb_LBy1l",
        "outputId": "c7375617-0b03-4e41-bafb-e15307fdffcc"
      },
      "execution_count": 747,
      "outputs": [
        {
          "output_type": "execute_result",
          "data": {
            "text/plain": [
              "   mobile_price mobile_color  dual_sim  disp_size          os  num_cores  \\\n",
              "0          8999        Other  Dual Sim       6.52  Android 10          8   \n",
              "1          8999         Blue  Dual Sim       6.52  Android 10          8   \n",
              "2          9999         Blue  Dual Sim       6.52  Android 10          8   \n",
              "3          9999        Other  Dual Sim       6.52  Android 10          8   \n",
              "4         11999        Other  Dual Sim       6.50  Android 10          8   \n",
              "\n",
              "   mp_speed  int_memory  ram  battery_power  ...  res_dim_2  p_cam_max  \\\n",
              "0       2.0          32    3           5000  ...        720         12   \n",
              "1       2.0          32    3           5000  ...        720         12   \n",
              "2       2.0          64    4           5000  ...        720         12   \n",
              "3       2.0          64    4           5000  ...        720         12   \n",
              "4       2.0         128    4           5000  ...        720         48   \n",
              "\n",
              "   p_cam_count  f_cam_max  f_cam_count  2G  3G  4G  4GVOLTE  5G  \n",
              "0            3          5            1   1   1   1        1   0  \n",
              "1            3          5            1   1   1   1        1   0  \n",
              "2            3          5            1   1   1   1        1   0  \n",
              "3            3          5            1   1   1   1        1   0  \n",
              "4            4         16            1   1   1   1        1   0  \n",
              "\n",
              "[5 rows x 25 columns]"
            ],
            "text/html": [
              "\n",
              "  <div id=\"df-a4866aa2-6e2d-4712-9bfa-fc759592f5bd\" class=\"colab-df-container\">\n",
              "    <div>\n",
              "<style scoped>\n",
              "    .dataframe tbody tr th:only-of-type {\n",
              "        vertical-align: middle;\n",
              "    }\n",
              "\n",
              "    .dataframe tbody tr th {\n",
              "        vertical-align: top;\n",
              "    }\n",
              "\n",
              "    .dataframe thead th {\n",
              "        text-align: right;\n",
              "    }\n",
              "</style>\n",
              "<table border=\"1\" class=\"dataframe\">\n",
              "  <thead>\n",
              "    <tr style=\"text-align: right;\">\n",
              "      <th></th>\n",
              "      <th>mobile_price</th>\n",
              "      <th>mobile_color</th>\n",
              "      <th>dual_sim</th>\n",
              "      <th>disp_size</th>\n",
              "      <th>os</th>\n",
              "      <th>num_cores</th>\n",
              "      <th>mp_speed</th>\n",
              "      <th>int_memory</th>\n",
              "      <th>ram</th>\n",
              "      <th>battery_power</th>\n",
              "      <th>...</th>\n",
              "      <th>res_dim_2</th>\n",
              "      <th>p_cam_max</th>\n",
              "      <th>p_cam_count</th>\n",
              "      <th>f_cam_max</th>\n",
              "      <th>f_cam_count</th>\n",
              "      <th>2G</th>\n",
              "      <th>3G</th>\n",
              "      <th>4G</th>\n",
              "      <th>4GVOLTE</th>\n",
              "      <th>5G</th>\n",
              "    </tr>\n",
              "  </thead>\n",
              "  <tbody>\n",
              "    <tr>\n",
              "      <th>0</th>\n",
              "      <td>8999</td>\n",
              "      <td>Other</td>\n",
              "      <td>Dual Sim</td>\n",
              "      <td>6.52</td>\n",
              "      <td>Android 10</td>\n",
              "      <td>8</td>\n",
              "      <td>2.0</td>\n",
              "      <td>32</td>\n",
              "      <td>3</td>\n",
              "      <td>5000</td>\n",
              "      <td>...</td>\n",
              "      <td>720</td>\n",
              "      <td>12</td>\n",
              "      <td>3</td>\n",
              "      <td>5</td>\n",
              "      <td>1</td>\n",
              "      <td>1</td>\n",
              "      <td>1</td>\n",
              "      <td>1</td>\n",
              "      <td>1</td>\n",
              "      <td>0</td>\n",
              "    </tr>\n",
              "    <tr>\n",
              "      <th>1</th>\n",
              "      <td>8999</td>\n",
              "      <td>Blue</td>\n",
              "      <td>Dual Sim</td>\n",
              "      <td>6.52</td>\n",
              "      <td>Android 10</td>\n",
              "      <td>8</td>\n",
              "      <td>2.0</td>\n",
              "      <td>32</td>\n",
              "      <td>3</td>\n",
              "      <td>5000</td>\n",
              "      <td>...</td>\n",
              "      <td>720</td>\n",
              "      <td>12</td>\n",
              "      <td>3</td>\n",
              "      <td>5</td>\n",
              "      <td>1</td>\n",
              "      <td>1</td>\n",
              "      <td>1</td>\n",
              "      <td>1</td>\n",
              "      <td>1</td>\n",
              "      <td>0</td>\n",
              "    </tr>\n",
              "    <tr>\n",
              "      <th>2</th>\n",
              "      <td>9999</td>\n",
              "      <td>Blue</td>\n",
              "      <td>Dual Sim</td>\n",
              "      <td>6.52</td>\n",
              "      <td>Android 10</td>\n",
              "      <td>8</td>\n",
              "      <td>2.0</td>\n",
              "      <td>64</td>\n",
              "      <td>4</td>\n",
              "      <td>5000</td>\n",
              "      <td>...</td>\n",
              "      <td>720</td>\n",
              "      <td>12</td>\n",
              "      <td>3</td>\n",
              "      <td>5</td>\n",
              "      <td>1</td>\n",
              "      <td>1</td>\n",
              "      <td>1</td>\n",
              "      <td>1</td>\n",
              "      <td>1</td>\n",
              "      <td>0</td>\n",
              "    </tr>\n",
              "    <tr>\n",
              "      <th>3</th>\n",
              "      <td>9999</td>\n",
              "      <td>Other</td>\n",
              "      <td>Dual Sim</td>\n",
              "      <td>6.52</td>\n",
              "      <td>Android 10</td>\n",
              "      <td>8</td>\n",
              "      <td>2.0</td>\n",
              "      <td>64</td>\n",
              "      <td>4</td>\n",
              "      <td>5000</td>\n",
              "      <td>...</td>\n",
              "      <td>720</td>\n",
              "      <td>12</td>\n",
              "      <td>3</td>\n",
              "      <td>5</td>\n",
              "      <td>1</td>\n",
              "      <td>1</td>\n",
              "      <td>1</td>\n",
              "      <td>1</td>\n",
              "      <td>1</td>\n",
              "      <td>0</td>\n",
              "    </tr>\n",
              "    <tr>\n",
              "      <th>4</th>\n",
              "      <td>11999</td>\n",
              "      <td>Other</td>\n",
              "      <td>Dual Sim</td>\n",
              "      <td>6.50</td>\n",
              "      <td>Android 10</td>\n",
              "      <td>8</td>\n",
              "      <td>2.0</td>\n",
              "      <td>128</td>\n",
              "      <td>4</td>\n",
              "      <td>5000</td>\n",
              "      <td>...</td>\n",
              "      <td>720</td>\n",
              "      <td>48</td>\n",
              "      <td>4</td>\n",
              "      <td>16</td>\n",
              "      <td>1</td>\n",
              "      <td>1</td>\n",
              "      <td>1</td>\n",
              "      <td>1</td>\n",
              "      <td>1</td>\n",
              "      <td>0</td>\n",
              "    </tr>\n",
              "  </tbody>\n",
              "</table>\n",
              "<p>5 rows × 25 columns</p>\n",
              "</div>\n",
              "    <div class=\"colab-df-buttons\">\n",
              "\n",
              "  <div class=\"colab-df-container\">\n",
              "    <button class=\"colab-df-convert\" onclick=\"convertToInteractive('df-a4866aa2-6e2d-4712-9bfa-fc759592f5bd')\"\n",
              "            title=\"Convert this dataframe to an interactive table.\"\n",
              "            style=\"display:none;\">\n",
              "\n",
              "  <svg xmlns=\"http://www.w3.org/2000/svg\" height=\"24px\" viewBox=\"0 -960 960 960\">\n",
              "    <path d=\"M120-120v-720h720v720H120Zm60-500h600v-160H180v160Zm220 220h160v-160H400v160Zm0 220h160v-160H400v160ZM180-400h160v-160H180v160Zm440 0h160v-160H620v160ZM180-180h160v-160H180v160Zm440 0h160v-160H620v160Z\"/>\n",
              "  </svg>\n",
              "    </button>\n",
              "\n",
              "  <style>\n",
              "    .colab-df-container {\n",
              "      display:flex;\n",
              "      gap: 12px;\n",
              "    }\n",
              "\n",
              "    .colab-df-convert {\n",
              "      background-color: #E8F0FE;\n",
              "      border: none;\n",
              "      border-radius: 50%;\n",
              "      cursor: pointer;\n",
              "      display: none;\n",
              "      fill: #1967D2;\n",
              "      height: 32px;\n",
              "      padding: 0 0 0 0;\n",
              "      width: 32px;\n",
              "    }\n",
              "\n",
              "    .colab-df-convert:hover {\n",
              "      background-color: #E2EBFA;\n",
              "      box-shadow: 0px 1px 2px rgba(60, 64, 67, 0.3), 0px 1px 3px 1px rgba(60, 64, 67, 0.15);\n",
              "      fill: #174EA6;\n",
              "    }\n",
              "\n",
              "    .colab-df-buttons div {\n",
              "      margin-bottom: 4px;\n",
              "    }\n",
              "\n",
              "    [theme=dark] .colab-df-convert {\n",
              "      background-color: #3B4455;\n",
              "      fill: #D2E3FC;\n",
              "    }\n",
              "\n",
              "    [theme=dark] .colab-df-convert:hover {\n",
              "      background-color: #434B5C;\n",
              "      box-shadow: 0px 1px 3px 1px rgba(0, 0, 0, 0.15);\n",
              "      filter: drop-shadow(0px 1px 2px rgba(0, 0, 0, 0.3));\n",
              "      fill: #FFFFFF;\n",
              "    }\n",
              "  </style>\n",
              "\n",
              "    <script>\n",
              "      const buttonEl =\n",
              "        document.querySelector('#df-a4866aa2-6e2d-4712-9bfa-fc759592f5bd button.colab-df-convert');\n",
              "      buttonEl.style.display =\n",
              "        google.colab.kernel.accessAllowed ? 'block' : 'none';\n",
              "\n",
              "      async function convertToInteractive(key) {\n",
              "        const element = document.querySelector('#df-a4866aa2-6e2d-4712-9bfa-fc759592f5bd');\n",
              "        const dataTable =\n",
              "          await google.colab.kernel.invokeFunction('convertToInteractive',\n",
              "                                                    [key], {});\n",
              "        if (!dataTable) return;\n",
              "\n",
              "        const docLinkHtml = 'Like what you see? Visit the ' +\n",
              "          '<a target=\"_blank\" href=https://colab.research.google.com/notebooks/data_table.ipynb>data table notebook</a>'\n",
              "          + ' to learn more about interactive tables.';\n",
              "        element.innerHTML = '';\n",
              "        dataTable['output_type'] = 'display_data';\n",
              "        await google.colab.output.renderOutput(dataTable, element);\n",
              "        const docLink = document.createElement('div');\n",
              "        docLink.innerHTML = docLinkHtml;\n",
              "        element.appendChild(docLink);\n",
              "      }\n",
              "    </script>\n",
              "  </div>\n",
              "\n",
              "\n",
              "<div id=\"df-d4d0614a-6b6d-4b1b-b75e-e6c5be793949\">\n",
              "  <button class=\"colab-df-quickchart\" onclick=\"quickchart('df-d4d0614a-6b6d-4b1b-b75e-e6c5be793949')\"\n",
              "            title=\"Suggest charts.\"\n",
              "            style=\"display:none;\">\n",
              "\n",
              "<svg xmlns=\"http://www.w3.org/2000/svg\" height=\"24px\"viewBox=\"0 0 24 24\"\n",
              "     width=\"24px\">\n",
              "    <g>\n",
              "        <path d=\"M19 3H5c-1.1 0-2 .9-2 2v14c0 1.1.9 2 2 2h14c1.1 0 2-.9 2-2V5c0-1.1-.9-2-2-2zM9 17H7v-7h2v7zm4 0h-2V7h2v10zm4 0h-2v-4h2v4z\"/>\n",
              "    </g>\n",
              "</svg>\n",
              "  </button>\n",
              "\n",
              "<style>\n",
              "  .colab-df-quickchart {\n",
              "      --bg-color: #E8F0FE;\n",
              "      --fill-color: #1967D2;\n",
              "      --hover-bg-color: #E2EBFA;\n",
              "      --hover-fill-color: #174EA6;\n",
              "      --disabled-fill-color: #AAA;\n",
              "      --disabled-bg-color: #DDD;\n",
              "  }\n",
              "\n",
              "  [theme=dark] .colab-df-quickchart {\n",
              "      --bg-color: #3B4455;\n",
              "      --fill-color: #D2E3FC;\n",
              "      --hover-bg-color: #434B5C;\n",
              "      --hover-fill-color: #FFFFFF;\n",
              "      --disabled-bg-color: #3B4455;\n",
              "      --disabled-fill-color: #666;\n",
              "  }\n",
              "\n",
              "  .colab-df-quickchart {\n",
              "    background-color: var(--bg-color);\n",
              "    border: none;\n",
              "    border-radius: 50%;\n",
              "    cursor: pointer;\n",
              "    display: none;\n",
              "    fill: var(--fill-color);\n",
              "    height: 32px;\n",
              "    padding: 0;\n",
              "    width: 32px;\n",
              "  }\n",
              "\n",
              "  .colab-df-quickchart:hover {\n",
              "    background-color: var(--hover-bg-color);\n",
              "    box-shadow: 0 1px 2px rgba(60, 64, 67, 0.3), 0 1px 3px 1px rgba(60, 64, 67, 0.15);\n",
              "    fill: var(--button-hover-fill-color);\n",
              "  }\n",
              "\n",
              "  .colab-df-quickchart-complete:disabled,\n",
              "  .colab-df-quickchart-complete:disabled:hover {\n",
              "    background-color: var(--disabled-bg-color);\n",
              "    fill: var(--disabled-fill-color);\n",
              "    box-shadow: none;\n",
              "  }\n",
              "\n",
              "  .colab-df-spinner {\n",
              "    border: 2px solid var(--fill-color);\n",
              "    border-color: transparent;\n",
              "    border-bottom-color: var(--fill-color);\n",
              "    animation:\n",
              "      spin 1s steps(1) infinite;\n",
              "  }\n",
              "\n",
              "  @keyframes spin {\n",
              "    0% {\n",
              "      border-color: transparent;\n",
              "      border-bottom-color: var(--fill-color);\n",
              "      border-left-color: var(--fill-color);\n",
              "    }\n",
              "    20% {\n",
              "      border-color: transparent;\n",
              "      border-left-color: var(--fill-color);\n",
              "      border-top-color: var(--fill-color);\n",
              "    }\n",
              "    30% {\n",
              "      border-color: transparent;\n",
              "      border-left-color: var(--fill-color);\n",
              "      border-top-color: var(--fill-color);\n",
              "      border-right-color: var(--fill-color);\n",
              "    }\n",
              "    40% {\n",
              "      border-color: transparent;\n",
              "      border-right-color: var(--fill-color);\n",
              "      border-top-color: var(--fill-color);\n",
              "    }\n",
              "    60% {\n",
              "      border-color: transparent;\n",
              "      border-right-color: var(--fill-color);\n",
              "    }\n",
              "    80% {\n",
              "      border-color: transparent;\n",
              "      border-right-color: var(--fill-color);\n",
              "      border-bottom-color: var(--fill-color);\n",
              "    }\n",
              "    90% {\n",
              "      border-color: transparent;\n",
              "      border-bottom-color: var(--fill-color);\n",
              "    }\n",
              "  }\n",
              "</style>\n",
              "\n",
              "  <script>\n",
              "    async function quickchart(key) {\n",
              "      const quickchartButtonEl =\n",
              "        document.querySelector('#' + key + ' button');\n",
              "      quickchartButtonEl.disabled = true;  // To prevent multiple clicks.\n",
              "      quickchartButtonEl.classList.add('colab-df-spinner');\n",
              "      try {\n",
              "        const charts = await google.colab.kernel.invokeFunction(\n",
              "            'suggestCharts', [key], {});\n",
              "      } catch (error) {\n",
              "        console.error('Error during call to suggestCharts:', error);\n",
              "      }\n",
              "      quickchartButtonEl.classList.remove('colab-df-spinner');\n",
              "      quickchartButtonEl.classList.add('colab-df-quickchart-complete');\n",
              "    }\n",
              "    (() => {\n",
              "      let quickchartButtonEl =\n",
              "        document.querySelector('#df-d4d0614a-6b6d-4b1b-b75e-e6c5be793949 button');\n",
              "      quickchartButtonEl.style.display =\n",
              "        google.colab.kernel.accessAllowed ? 'block' : 'none';\n",
              "    })();\n",
              "  </script>\n",
              "</div>\n",
              "    </div>\n",
              "  </div>\n"
            ]
          },
          "metadata": {},
          "execution_count": 747
        }
      ]
    },
    {
      "cell_type": "code",
      "source": [
        "df.to_csv('Preprocessed_dataset_Mobile.csv', index=False)"
      ],
      "metadata": {
        "id": "5GwSK4lLB2ts"
      },
      "execution_count": 748,
      "outputs": []
    },
    {
      "cell_type": "code",
      "source": [
        "df.shape"
      ],
      "metadata": {
        "colab": {
          "base_uri": "https://localhost:8080/"
        },
        "id": "o_nDcI6ZCVvI",
        "outputId": "d6c0987f-b7c2-45ee-8b1f-cc7fc869ef56"
      },
      "execution_count": 749,
      "outputs": [
        {
          "output_type": "execute_result",
          "data": {
            "text/plain": [
              "(402, 25)"
            ]
          },
          "metadata": {},
          "execution_count": 749
        }
      ]
    },
    {
      "cell_type": "code",
      "source": [],
      "metadata": {
        "id": "1aWHz3rcCwlh"
      },
      "execution_count": null,
      "outputs": []
    }
  ]
}